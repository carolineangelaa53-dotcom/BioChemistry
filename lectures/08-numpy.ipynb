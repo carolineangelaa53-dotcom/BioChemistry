{
 "cells": [
  {
   "cell_type": "markdown",
   "metadata": {},
   "source": [
    "## Repetition, what is python, what are modules and why do you need to know that\n",
    "\n",
    "Python is so widely used because it is so flexible. Pretty much for any task you have there is a specialized \"Toolbox\" that makes you work simplier. These \"Toolboxes\" are called Modules. You have used this already. \n",
    "\n",
    "When we import things we actually plug in new modules into Python. For data science one of the key libraries is numpy.\n",
    "\n",
    "<div>\n",
    "<img src=\"Data/KEMM30_001.jpg\" width=\"300\">\n",
    "</div>\n",
    "\n",
    "Most Modules/Libraries contain many of these these objects and we can choose to load one or all. They also contain functions that do things (which are also objects in a sense).\n",
    "\n",
    "\n",
    "\n",
    "<div>\n",
    "<img src=\"Data/KEMM30_003.jpg\" width=\"200\">\n",
    "</div>\n",
    "\n",
    "What are objects? Objects are \"boxes\" That contain things. E.g. Data or functions or instructions what and how you can use them. \n",
    "\n",
    "<div>\n",
    "<img src=\"Data/KEMM30_002.jpg\" width=\"150\">\n",
    "</div>\n",
    "\n",
    "These functions are hidden in each object and can be accessed with the \"dot\"\n",
    "\n",
    "<div>\n",
    "<img src=\"Data/KEMM30_004.jpg\" width=\"180\">\n",
    "</div>\n",
    "\n",
    "Why so complicated? Try:\n",
    "\n",
    "<div>\n",
    "<img src=\"Data/KEMM30_005.jpg\" width=\"400\">\n",
    "</div>\n",
    "\n",
    "# Data Science\n",
    "\n",
    "## Data types"
   ]
  },
  {
   "cell_type": "code",
   "execution_count": null,
   "metadata": {},
   "outputs": [],
   "source": [
    "import matplotlib.pyplot as plt\n",
    "import numpy as np"
   ]
  },
  {
   "cell_type": "code",
   "execution_count": null,
   "metadata": {},
   "outputs": [],
   "source": [
    "types = [\n",
    "    float(0.94545),\n",
    "    int(3),\n",
    "    str(\"hello world\"),\n",
    "    bool(True),\n",
    "    1.0e4,\n",
    "]  # this is a list of data types\n",
    "for i in types:  # and now we loop through the contents of this list\n",
    "    print(type(i), i, f'I am in a string and show: \"{i}\"')"
   ]
  },
  {
   "cell_type": "markdown",
   "metadata": {},
   "source": [
    "## Collecting data, what have we learned?\n",
    "\n",
    "* Lists = rectangular brackets [], think append and sort\n",
    "* Tupels = round brackets (), think order matters, in and out of functions\n",
    "* dictionaries = wavy brackets {}, think data with keywords = cookbook, filenames, Lookup tables\n",
    "\n",
    "## Manipulating data of the same kind: vectors/matrixes/images\n",
    "\n",
    "Classically we collect large amount of the same data. and we could store it in a list of lists. Let me show you with an image as if it would be constructed from a list of lists"
   ]
  },
  {
   "cell_type": "code",
   "execution_count": null,
   "metadata": {},
   "outputs": [],
   "source": [
    "def make_smiley_list():\n",
    "    \"\"\"Make a smiley face as a list of lists\"\"\"\n",
    "    return [\n",
    "        [0, 0, 0, 0, 0, 0, 0],\n",
    "        [0, 0, 0, 0, 0, 0, 0],\n",
    "        [0, 0, 1, 0, 1, 0, 0],\n",
    "        [0, 0, 0, 0, 0, 0, 0],\n",
    "        [0, 1, 0, 0, 0, 1, 0],\n",
    "        [0, 0, 1, 0, 1, 0, 0],\n",
    "        [0, 0, 0, 1, 0, 0, 0],\n",
    "        [0, 0, 0, 0, 0, 0, 0],\n",
    "        [0, 0, 0, 0, 0, 0, 0],\n",
    "    ]\n",
    "\n",
    "\n",
    "print(make_smiley_list())"
   ]
  },
  {
   "cell_type": "markdown",
   "metadata": {},
   "source": [
    "or let me show you as an image. For this we need a module to plot things."
   ]
  },
  {
   "cell_type": "code",
   "execution_count": null,
   "metadata": {},
   "outputs": [],
   "source": [
    "plt.imshow(make_smiley_list(), cmap=\"gray\", vmin=0, vmax=1)\n",
    "plt.axis(\"off\");"
   ]
  },
  {
   "cell_type": "markdown",
   "metadata": {},
   "source": [
    "if we now wanted to do somehting as simple as multiplying each entry with 255 to get a proper gray image we would need to loop over each entry, which you hopefully will agree is somewhat tedious."
   ]
  },
  {
   "cell_type": "code",
   "execution_count": null,
   "metadata": {},
   "outputs": [],
   "source": [
    "smiley = make_smiley_list()  # make a list-of-lists smiley\n",
    "\n",
    "for row in range(0, 9, 1):\n",
    "    print(f\"row = {row}\")\n",
    "    for col in range(0, 7, 1):\n",
    "        print(f\"column = {col}\")\n",
    "        if smiley[row][col] == 1:\n",
    "            smiley[row][col] = smiley[row][col] * 255\n",
    "        else:\n",
    "            smiley[row][col] = 128\n",
    "\n",
    "print(smiley)\n",
    "plt.imshow(smiley, cmap=\"gray\", vmin=0, vmax=255)\n",
    "plt.axis(\"off\");"
   ]
  },
  {
   "cell_type": "markdown",
   "metadata": {},
   "source": [
    "# Numpy\n",
    "\n",
    "entering Numpy, the defacto standard library for data manipulation. There are many additional tools for data-handling. But most use numpy as a standard. We can of course convert our list of lists into an array and then perform calculations on it.\n",
    "\n",
    "Two ways to import numpy are common. either directly with **import numpy** after which you will need to write numpy.sin for the sinus function. Or using **import numpy as np** after which we can use np.sin, which is more common"
   ]
  },
  {
   "cell_type": "code",
   "execution_count": null,
   "metadata": {},
   "outputs": [],
   "source": [
    "smiley_list = make_smiley_list()\n",
    "smiley = np.array(smiley_list)  # convert the list_of lists into an array\n",
    "\n",
    "print(smiley)\n",
    "print(type(smiley))"
   ]
  },
  {
   "cell_type": "markdown",
   "metadata": {},
   "source": [
    "Now we can perform calculations on the array as a whole"
   ]
  },
  {
   "cell_type": "code",
   "execution_count": null,
   "metadata": {},
   "outputs": [],
   "source": [
    "smiley = smiley * 128  # each entry is multiplied by 122\n",
    "smiley += 128  # simplified version to add to each element 128\n",
    "\n",
    "plt.imshow(smiley, cmap=\"gray\", vmin=0, vmax=255)\n",
    "plt.axis(\"off\")"
   ]
  },
  {
   "cell_type": "code",
   "execution_count": null,
   "metadata": {},
   "outputs": [],
   "source": [
    "def make_smiley():\n",
    "    \"\"\"Make smiley as a 2D numpy array\"\"\"\n",
    "    face = np.zeros((9, 7))\n",
    "    for a in [(2, 2), (2, 4), (4, 1), (4, -2), (5, 2), (5, -3), (6, 3)]:\n",
    "        face[a] = 128\n",
    "    face += 128\n",
    "    return face"
   ]
  },
  {
   "cell_type": "markdown",
   "metadata": {},
   "source": [
    "## Statistics\n",
    "\n",
    "the object \"array\" contains a whole bunch of usefull operations that can be found with the \"dot\"\n",
    "among them are many statistical tools. All of which can be used for either in all axis (dimensions) or for a single axis "
   ]
  },
  {
   "cell_type": "code",
   "execution_count": null,
   "metadata": {},
   "outputs": [],
   "source": [
    "smiley = make_smiley()\n",
    "print(f\"arrayen min() is {smiley.min():.1f}\")\n",
    "print(f\"arrayen max() is {smiley.max():.1f}\")\n",
    "print(f\"arrayen mean() is {smiley.mean():.2f}\")\n",
    "print(f\"the mean for each row is {smiley.mean(axis=0)}\")"
   ]
  },
  {
   "cell_type": "markdown",
   "metadata": {},
   "source": [
    "We will talk more about statistical calculations later\n",
    "\n",
    "# Creation Data and doing standard calculations\n",
    "one of the most important features of numpy is that one can perform calculations for one \"variable\" that is in reality a long vector with many numbers very efficiently. Very often  one starts with creating a vector with numbers and then performs calculations with it."
   ]
  },
  {
   "cell_type": "code",
   "execution_count": null,
   "metadata": {},
   "outputs": [],
   "source": [
    "x = np.arange(0, 2, 0.00001)  # create an x-vector with fine steps\n",
    "%time np.sin( 2 * np.pi * x) # now we calculate the sinus for each of these values. "
   ]
  },
  {
   "cell_type": "markdown",
   "metadata": {},
   "source": [
    "See the Wall time? this is the time the calculation of 200000 sinus functions took. So even large numbers can be very efficient and fast. As can be the preparation of plots."
   ]
  },
  {
   "cell_type": "code",
   "execution_count": null,
   "metadata": {},
   "outputs": [],
   "source": [
    "y = np.sin(2 * np.pi * x)\n",
    "plt.plot(x, y)"
   ]
  },
  {
   "cell_type": "markdown",
   "metadata": {},
   "source": [
    "There are many functions that create types of data. As numpy is created to be efficient in as many dimensions as you like, you can also create data in many dimensions.\n",
    "\n",
    "In this course we will restrain ourselfs to two dimensions, but all the code can also be used in 3 or more dimensions, if e.g. the movement of a particle in space and time is of interest. Some of the useful creating functions are:\n",
    "\n",
    "* `np.zeros((3,3))`       # creates 3x3 array with zeroes\n",
    "* `np.ones(3)`            # creates 3x0 array with ones \n",
    "* `np.arange(0,1,0.1))`   # creates evenly spaced array (maybe the most used function)\n",
    "* `np.linspace(1,10,5))`  # creates array with a fixed number of evenly spaced entries (here 5)\n",
    "* `np.logspace(1,3,5))`   # creates array with a fixed number of logaritmically spaced entries\n",
    "\n",
    "## important additional error check\n",
    "\n",
    "when working with arrays the maybe most common error will be problems with the shape and the dimension of an array. So an imporant test is to check both the shape and the dimensions."
   ]
  },
  {
   "cell_type": "code",
   "execution_count": null,
   "metadata": {},
   "outputs": [],
   "source": [
    "print(\"the shape of x is\", x.shape)\n",
    "print(\"the shape of y is\", y.shape)\n",
    "# that this array has only one dimension (its a vector)"
   ]
  },
  {
   "cell_type": "markdown",
   "metadata": {},
   "source": [
    "## Task\n",
    "\n",
    "Create an x-vector from  -3 to 3 with 0.01 steps\n",
    "\n",
    "then create the y values of a bell curve: $g(x)=\\frac{1}{\\sigma\\sqrt{2\\pi}} e^{-\\frac{1}{2}((x-\\mu)/\\sigma)^2}$ \n",
    "with $\\mu$=0.2 and $\\sigma$=1\n",
    "\n",
    "and plot it using **plt.plot(x,y)**"
   ]
  },
  {
   "cell_type": "code",
   "execution_count": null,
   "metadata": {},
   "outputs": [],
   "source": [
    "# arrays can be re-shaped as long as all values are used\n",
    "x2 = x.reshape(100, 2000)  # rows, columns\n",
    "print(\"after reshaping of x the shape of x2 is\", x2.shape)\n",
    "\n",
    "x2 = x.reshape(\n",
    "    -1, 1\n",
    ")  # the -1 stands for all the rest, the second means use one dimension, so one column\n",
    "print(\"after reshaping of x the shape of x2 is\", x2.shape)\n",
    "# note that this array has now two dimensions and is a matrix"
   ]
  },
  {
   "cell_type": "markdown",
   "metadata": {},
   "source": [
    "There are other ways to create different matrixes that we will not discuss further. The name usually will give you a hint what they do.\n",
    "* `np.vstack`\n",
    "* `np.hstack`\n",
    "* `np.concatenate`\n",
    "* `np.tile`\n",
    "\n",
    "## Task\n",
    "\n",
    "use one of these to stack x and y together into a single array and then use the function\n",
    "\n",
    "**np.savetxt** write this matrix to a file, use 2 digits after the comma and a `;` between the numbers. Give the file a recognizable name."
   ]
  },
  {
   "cell_type": "markdown",
   "metadata": {},
   "source": [
    "# Data Selection -slices\n",
    "\n",
    "\n",
    "In data science we often work with a selection of data. This means that we want to use one of two ways of selecting data\n",
    "* Either we want to select which columns or rows of the data we are using - index based selection\n",
    "* more often we want to select the portion of data that is \"good\" so the one where the values are above or below a certain threshold. For this use boolean based indexing. \n",
    " \n",
    "## index based selection\n",
    "\n",
    "Synthax 1-dim\n",
    "\n",
    "* `a[i]` for single cell\n",
    "* `a[i:j]` for range\n",
    "* `a[i:]` from i to end\n",
    "* `a[:i]` from beginning to (excl.) i\n",
    "* `a[:-1]` from beginnnig until (excl.) last\n",
    "\n",
    "### Examples"
   ]
  },
  {
   "cell_type": "code",
   "execution_count": null,
   "metadata": {},
   "outputs": [],
   "source": [
    "x = range(15)\n",
    "print(f\"x = range(15) is {list(x)}\")\n",
    "print(f\"x[2]   is {x[2]}\")\n",
    "print(f\"x[:]   is {x[:]}\")\n",
    "print(f\"x[:2]  is {x[:2]}\")\n",
    "print(f\"x[2:]  is {x[2:]}\")\n",
    "print(f\"x[2:6] is {x[2:6]}\")\n",
    "print(f\"x[:-1] is {x[:-1]}\")\n",
    "print(f\"x[:-2] is {x[:-2]}\")"
   ]
  },
  {
   "cell_type": "markdown",
   "metadata": {},
   "source": [
    "* Syntax 2-dim: `a[i:j,k:h]`\n",
    "* Syntax 3-dim: `a[i:j,k:h,l:m]`\n",
    "\n",
    "### Examples"
   ]
  },
  {
   "cell_type": "code",
   "execution_count": null,
   "metadata": {},
   "outputs": [],
   "source": [
    "y = np.reshape(np.arange(20), [4, 5])\n",
    "print(f\"y[:,:] is:\\n{y[:,:]}\\n\")\n",
    "print(f\"y[2,:] is:\\n{y[2,:]}\\n\")\n",
    "print(f\"y[:,2] is:\\n{y[:,2]}\\n\")\n",
    "print(f\"y[2,2] is:\\n{y[2,2]}\\n\")\n",
    "print(f\"y[:1,:] is:\\n{y[:1,:]}\\n\")\n",
    "print(f\"y[:-1,:] is:\\n{y[:-1,:]}\\n\")\n",
    "print(f\"y[:,1:] is:\\n{y[:,1:]}\\n\")\n",
    "print(f\"y[:,:2] is:\\n{y[:,:2]}\\n\")\n",
    "print(f\"y[:,:-2] is:\\n{y[:,:-2]}\\n\")\n",
    "print(f\"y[1:3,2:4] is:\\n{y[1:3,2:4]}\")\n",
    "print(f\"y[::2,:] is \\n{y[::2,:]}\")"
   ]
  },
  {
   "cell_type": "markdown",
   "metadata": {},
   "source": [
    "### Task: \n",
    "create new array for each case and use a single! index based slices to create the following images: "
   ]
  },
  {
   "cell_type": "code",
   "execution_count": null,
   "metadata": {},
   "outputs": [],
   "source": [
    "smiley = make_smiley()\n",
    "plt.imshow(smiley[:, :], cmap=\"gray\", vmin=0, vmax=255)\n",
    "plt.axis(\"off\")"
   ]
  },
  {
   "cell_type": "markdown",
   "metadata": {
    "collapsed": true,
    "jupyter": {
     "outputs_hidden": true
    }
   },
   "source": [
    "<div>\n",
    "<img src=\"http://www.jensuhlig.de/Kemm30/kemm30_day3_task1_1.png\" width=\"100\">\n",
    "</div>"
   ]
  },
  {
   "cell_type": "markdown",
   "metadata": {},
   "source": [
    "<div>\n",
    "<img src=\"http://www.jensuhlig.de/Kemm30/kemm30_day3_task1_2.png\" width=\"100\">\n",
    "</div>"
   ]
  },
  {
   "cell_type": "markdown",
   "metadata": {},
   "source": [
    "<div>\n",
    "<img src=\"http://www.jensuhlig.de/Kemm30/kemm30_day3_task1_3.png\" width=\"100\">\n",
    "</div>"
   ]
  },
  {
   "cell_type": "markdown",
   "metadata": {},
   "source": [
    "<div>\n",
    "<img src=\"http://www.jensuhlig.de/Kemm30/kemm30_day3_task1_4.png\" width=\"100\">\n",
    "</div>"
   ]
  },
  {
   "cell_type": "markdown",
   "metadata": {},
   "source": [
    "think every second\n",
    "<div>\n",
    "<img src=\"Data/kemm30_day3_task1_5.png\" width=\"100\">\n",
    "</div>"
   ]
  },
  {
   "cell_type": "markdown",
   "metadata": {},
   "source": [
    "## Value based slicing\n",
    "\n",
    "this is often the more useful of the two The basic idea is that if you create a logical conditions that results in a true or false condition you can select only the pixels that fullfill the condition"
   ]
  },
  {
   "cell_type": "code",
   "execution_count": null,
   "metadata": {},
   "outputs": [],
   "source": [
    "smiley = make_smiley()\n",
    "smiley > 130"
   ]
  },
  {
   "cell_type": "code",
   "execution_count": null,
   "metadata": {},
   "outputs": [],
   "source": [
    "fig, ax = plt.subplots(1, 2)  # we learn that next\n",
    "\n",
    "smiley = make_smiley()\n",
    "ax[0].imshow(smiley, cmap=\"gray\", vmin=0, vmax=255)\n",
    "ax[0].set_title(\"before change\")\n",
    "\n",
    "# Now we select these specific values and change them\n",
    "smiley[smiley > 130] = 0\n",
    "\n",
    "ax[1].imshow(smiley, cmap=\"gray\", vmin=0, vmax=255)\n",
    "ax[1].set_title(\"after change\")"
   ]
  },
  {
   "cell_type": "markdown",
   "metadata": {
    "collapsed": true,
    "jupyter": {
     "outputs_hidden": true
    }
   },
   "source": [
    "use two operations to create this for this:\n",
    "<div>\n",
    "<img src=\"Data/kemm30_day3_task1_6.png\" width=\"100\">\n",
    "</div>"
   ]
  },
  {
   "cell_type": "markdown",
   "metadata": {},
   "source": [
    "Three operations for this\n",
    "<div>\n",
    "<img src=\"Data/kemm30_day3_task1_7.png\" width=\"100\">\n",
    "</div>"
   ]
  },
  {
   "cell_type": "markdown",
   "metadata": {},
   "source": [
    "Lets do a real task to finish this part. \n",
    "\n",
    "* We download the datafolder\n",
    "* We load a real image from disk using a special image library,  here we use PIL\n",
    "* We use PIL to convert to grayscale and make a simple array out of the data. <br> The latter step makes it easier to handle, but we could perform all of the steps on an image too.\n"
   ]
  },
  {
   "cell_type": "code",
   "execution_count": null,
   "metadata": {},
   "outputs": [],
   "source": [
    "!git clone https://github.com/luchem/Kemm30.git --depth=1"
   ]
  },
  {
   "cell_type": "code",
   "execution_count": null,
   "metadata": {},
   "outputs": [],
   "source": [
    "from PIL import Image  # tool to open and convert images\n",
    "import os  # tool to handle file operations\n",
    "\n",
    "path_to_files = os.sep.join([os.getcwd(), \"Kemm30\", \"lectures\", \"Data\"])\n",
    "image_open = Image.open(path_to_files + os.sep + \"2D_measured.png\")\n",
    "arrayen = np.asarray(image_open.convert(\"L\"))\n",
    "\n",
    "print(arrayen.shape)\n",
    "print(type(arrayen))\n",
    "\n",
    "plt.imshow(arrayen, cmap=\"gray\")\n",
    "plt.axis(\"off\")"
   ]
  },
  {
   "cell_type": "markdown",
   "metadata": {},
   "source": [
    "Many analysis techniques collect grey scale images. But an image is also nothing else as the representation of two independently conducted measurements. A nice example is two-dimensional liquid chromatography as often used in Analytic chemistry. This image (from Sun, Mingzhe , PhD Thesis LU2019) illustrates this method. \n",
    "<div>\n",
    "<img src=\"Data/2dLC.png\" width=\"700\">\n",
    "</div>\n",
    "After each run a number of substances are not well separated. So can e.g. method 1 (x-axis) not separate the black, yellow and green signatures, while the second method (axis 2) can not separate blue and yellow peak. In this sketch the two methods are very nicely \"othogonal\" meaning that e.g. the green, yellow and black features are perfectly aligned, in general this is of course not assumed. Plotting the two methods in a 2d image as shown here allows a visible inspection of  the two analysis runs and one can \"see\" the different compounds. But how do we quantitatively extract e.g. what fraction of each compound is in the mixture we need to extract the information from the image.\n",
    "\n",
    "<div>\n",
    "<img src=\"http://www.jensuhlig.de/Kemm30/2D_measured_indicated.png\" width=\"200\">\n",
    "</div>\n",
    "\n",
    "## Task\n",
    "\n",
    "* plot the isolated intensity profile of these features.\n",
    "* maximize and invert the contrast of these features by \n",
    "    * substracting the minimum\n",
    "    * then dividing by the maximum\n",
    "    * then invert the intensity by caluclating 1-arrayen \n",
    "* rotate the image by 90 degree, here you can use the transpose function\n",
    "* take the average in the right direction using the \"mean\" function and plot it with plt.plot(). This should show two clear peaks.\n",
    "* While you would normally fit a shape to the measured signatures a good approximation of the ratio of the peaks is the sum under the features (use the sum function on a slice of the image).\n",
    "* compare against the integration of the peak gained from np.trapz over the same slices"
   ]
  },
  {
   "cell_type": "markdown",
   "metadata": {},
   "source": [
    "Once we have learned plotting we will look more on the statistical tools in numpy."
   ]
  },
  {
   "cell_type": "markdown",
   "metadata": {},
   "source": [
    "# Advanced"
   ]
  },
  {
   "cell_type": "markdown",
   "metadata": {},
   "source": [
    "### Advanced slicing"
   ]
  },
  {
   "cell_type": "markdown",
   "metadata": {},
   "source": [
    "This one you can create in many different ways:\n",
    "Using np.tile, using np.concatenate or np.hstack, using ravel or some clever looping. \n",
    "<div>\n",
    "<img src=\"http://www.jensuhlig.de/Kemm30/kemm30_day3_task1_9.png\" width=\"100\">\n",
    "</div>"
   ]
  },
  {
   "cell_type": "markdown",
   "metadata": {},
   "source": [
    "### Image work:\n",
    "\n",
    "As you might have guess, images are nothing but matrices of grey values"
   ]
  },
  {
   "cell_type": "code",
   "execution_count": null,
   "metadata": {},
   "outputs": [],
   "source": [
    "from scipy import misc  # a library with useful stuff\n",
    "import matplotlib.pyplot as plt  # the plotting library\n",
    "\n",
    "plt.show()  # this is needed once to make the plots show\n",
    "face = misc.face(gray=True)  # here we import images\n",
    "plt.imshow(face, cmap=\"gray\", vmin=0, vmax=255)\n",
    "plt.axis(\"off\");"
   ]
  },
  {
   "cell_type": "markdown",
   "metadata": {},
   "source": [
    "and we can manipulate them with simple matrix operations:\n"
   ]
  },
  {
   "cell_type": "code",
   "execution_count": null,
   "metadata": {},
   "outputs": [],
   "source": [
    "def contrast(image, gamma=1, lightness=0):\n",
    "    \"\"\"Change contract of image using matrix operations\"\"\"\n",
    "    image = image.copy()\n",
    "    image = image * gamma\n",
    "    image = image + lightness\n",
    "    image.clip(min=0, max=255, out=image)\n",
    "    return np.array(image, dtype=\"int\")"
   ]
  },
  {
   "cell_type": "code",
   "execution_count": null,
   "metadata": {},
   "outputs": [],
   "source": [
    "fig, (ax1, ax2, ax3) = plt.subplots(\n",
    "    1, 3, figsize=(16, 4)\n",
    ")  # since we want to compare multiple images we use the subplots to create multiple axis within a single image and them plot into each axis one of the images\n",
    "ax1.imshow(\n",
    "    contrast(face, lightness=0, gamma=1), cmap=\"gray\", vmin=0, vmax=255\n",
    ")  # use the contrast function to calculate something ont he image\n",
    "ax2.imshow(contrast(face, lightness=-30, gamma=1), cmap=\"gray\", vmin=0, vmax=255)\n",
    "ax3.imshow(contrast(face, lightness=0, gamma=1.3), cmap=\"gray\", vmin=0, vmax=255)\n",
    "ax1.axis(\"off\")\n",
    "ax2.axis(\"off\"), ax3.axis(\"off\");"
   ]
  },
  {
   "cell_type": "markdown",
   "metadata": {},
   "source": [
    "a usefull things for any image work (or a lot of other process like spectroscopy ;o) are histograms\n",
    "In Histograms the contents of an matrix/vector or something are classified and put in a bin. So we say we have xxx many pixel with yyy intensity. The function np.histograms returns the bin edges (beginning end of each bin) with (bins[:-1]+bins[1:])/2 we calculate the center of each bin."
   ]
  },
  {
   "cell_type": "code",
   "execution_count": null,
   "metadata": {},
   "outputs": [],
   "source": [
    "fig, (ax1, ax2, ax3) = plt.subplots(1, 3, figsize=(16, 4))\n",
    "intensity, bins = np.histogram(\n",
    "    contrast(face, lightness=0, gamma=1).ravel(), bins=range(0, 255)\n",
    ")\n",
    "ax1.plot((bins[:-1] + bins[1:]) / 2, intensity, \"*\")\n",
    "intensity, bins = np.histogram(\n",
    "    contrast(face, lightness=-100, gamma=1).ravel(), bins=range(0, 255)\n",
    ")\n",
    "ax2.plot((bins[:-1] + bins[1:]) / 2, intensity, \"*\")\n",
    "ax2.set_ylim(0, 6000)\n",
    "intensity, bins = np.histogram(\n",
    "    contrast(face, lightness=0, gamma=1.3).ravel(), bins=range(0, 255)\n",
    ")\n",
    "ax3.plot((bins[:-1] + bins[1:]) / 2, intensity, \"*\")"
   ]
  },
  {
   "cell_type": "markdown",
   "metadata": {},
   "source": [
    "Cool thing all image manipulations you find in tools like Photoshop are nothing else but fancy matrix operations.\n",
    "Here we use convolve to convolute a smaller matrix with a bigger."
   ]
  },
  {
   "cell_type": "code",
   "execution_count": null,
   "metadata": {
    "scrolled": true
   },
   "outputs": [],
   "source": [
    "coins = misc.ascent()\n",
    "from scipy import ndimage\n",
    "\n",
    "edge_detection = np.ones((3, 3)) * -1\n",
    "edge_detection[1, 1] = 8\n",
    "sharpen = np.array([[0, -1, 0], [-1, 5, -1], [0, -1, 0]])\n",
    "gauss_blur = np.array(\n",
    "    [\n",
    "        [1, 4, 6, 4, 1],\n",
    "        [4, 16, 24, 16, 4],\n",
    "        [6, 24, 36, 24, 6],\n",
    "        [4, 16, 24, 16, 4],\n",
    "        [1, 4, 6, 4, 1],\n",
    "    ]\n",
    ") * (1 / 256.0)\n",
    "\n",
    "coins1 = ndimage.convolve(coins, edge_detection, mode=\"constant\", cval=0)\n",
    "coins2 = ndimage.convolve(coins, sharpen, mode=\"constant\", cval=0)\n",
    "coins3 = ndimage.convolve(coins, gauss_blur, mode=\"constant\", cval=0)\n",
    "\n",
    "fig, ax = plt.subplots(1, 4, figsize=(16, 8))\n",
    "ax[0].imshow(coins1, cmap=\"gray\", vmin=0, vmax=255)\n",
    "ax[0].set_title(\"edge_detection\")\n",
    "ax[1].imshow(coins2, cmap=\"gray\", vmin=0, vmax=255)\n",
    "ax[1].set_title(\"sharpen\")\n",
    "ax[2].imshow(coins, cmap=\"gray\", vmin=0, vmax=255)\n",
    "ax[2].set_title(\"original\")\n",
    "ax[3].imshow(coins3, cmap=\"gray\", vmin=0, vmax=255)\n",
    "ax[3].set_title(\"blurr\")\n",
    "[ax[i].axis(\"off\") for i in range(4)]"
   ]
  }
 ],
 "metadata": {
  "kernelspec": {
   "display_name": "Python 3 (ipykernel)",
   "language": "python",
   "name": "python3"
  },
  "language_info": {
   "codemirror_mode": {
    "name": "ipython",
    "version": 3
   },
   "file_extension": ".py",
   "mimetype": "text/x-python",
   "name": "python",
   "nbconvert_exporter": "python",
   "pygments_lexer": "ipython3",
   "version": "3.9.13"
  }
 },
 "nbformat": 4,
 "nbformat_minor": 4
}
