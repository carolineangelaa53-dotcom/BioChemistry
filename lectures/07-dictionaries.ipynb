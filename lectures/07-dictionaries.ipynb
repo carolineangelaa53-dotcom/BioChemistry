{
 "cells": [
  {
   "cell_type": "markdown",
   "metadata": {},
   "source": [
    "# Dictionaries\n",
    "\n",
    "A dictionaries is a data structure for storing _pairs_ of data. Each pair consist of a _key_ and a _value_. Dictionaries have the type `dict` and are surrounded by curly brackets, `{...}`.\n",
    "\n",
    "This way of storing things can be used in several useful ways. Typical think:\n",
    "\n",
    "* Lookup - Keyword = data\n",
    "* structured storage, think big data \n",
    "* unknown number of entries, as these can be added with names at any times\n",
    "* entry to linking axis and data for e.g. plots,...\n",
    "\n",
    "## Creation and Common Operations"
   ]
  },
  {
   "cell_type": "code",
   "execution_count": 15,
   "metadata": {},
   "outputs": [],
   "source": [
    "# a few imports to be used later\n",
    "import matplotlib\n",
    "import numpy as np\n",
    "import matplotlib.pyplot as plt\n",
    "%matplotlib inline  "
   ]
  },
  {
   "cell_type": "code",
   "execution_count": 16,
   "metadata": {},
   "outputs": [
    {
     "data": {
      "text/plain": [
       "{'Na': 'sodium', 'K': 'potassium'}"
      ]
     },
     "execution_count": 16,
     "metadata": {},
     "output_type": "execute_result"
    }
   ],
   "source": [
    "d = {} # an empty dictionary\n",
    "d['Na'] = 'sodium' # 'Na' is the key, 'sodium' is the value\n",
    "d['K'] = 'potassium'\n",
    "d"
   ]
  },
  {
   "cell_type": "markdown",
   "metadata": {},
   "source": [
    "With that in hand I can access data with the key so d['K'] is the same as the entry"
   ]
  },
  {
   "cell_type": "code",
   "execution_count": 17,
   "metadata": {},
   "outputs": [
    {
     "data": {
      "text/plain": [
       "'potassium'"
      ]
     },
     "execution_count": 17,
     "metadata": {},
     "output_type": "execute_result"
    }
   ],
   "source": [
    "d['K']"
   ]
  },
  {
   "cell_type": "markdown",
   "metadata": {},
   "source": [
    "For accessing all elements I can then loop over all keys and maybe use selector like in the following example to access special keys/names:"
   ]
  },
  {
   "cell_type": "code",
   "execution_count": 18,
   "metadata": {
    "scrolled": true
   },
   "outputs": [
    {
     "name": "stdout",
     "output_type": "stream",
     "text": [
      "Na\n",
      "Do not drop into water because we found sodium\n",
      "K\n",
      "We found potassium\n"
     ]
    }
   ],
   "source": [
    "for key in d:\n",
    "    print(key)\n",
    "    if key == 'Na':\n",
    "        print('Do not drop into water because we found %s'%d[key])\n",
    "    else:\n",
    "        print('We found',d[key])"
   ]
  },
  {
   "cell_type": "markdown",
   "metadata": {},
   "source": [
    "This is already quite usefull for \"looking up\" values. alternatively you can use this to store data/information and can add keys later. \n",
    "\n",
    "A clever way is to actually store multiple things under one central name. With other words to use e.g. a list or a dictionary in a dictionary."
   ]
  },
  {
   "cell_type": "code",
   "execution_count": 19,
   "metadata": {},
   "outputs": [
    {
     "data": {
      "text/plain": [
       "{'Na': {'name': 'sodium', 'Z': 11, 'mass': 23},\n",
       " 'Cl': {'name': 'chloride', 'Z': 17, 'mass': 35.45}}"
      ]
     },
     "execution_count": 19,
     "metadata": {},
     "output_type": "execute_result"
    }
   ],
   "source": [
    "data={}\n",
    "data['Na']={}                # The entry in the dictionary is actually another dictionary\n",
    "data['Na']['name']='sodium'  # Now we add our actual data into this second dictionary, each entry can have its own format\n",
    "data['Na']['Z']=11\n",
    "data['Na']['mass']=23\n",
    "\n",
    "data['Cl']={}                \n",
    "data['Cl']['name']='chloride'  \n",
    "data['Cl']['Z']=17\n",
    "data['Cl']['mass']=35.45\n",
    "\n",
    "data"
   ]
  },
  {
   "cell_type": "markdown",
   "metadata": {},
   "source": [
    "So now I can do calculations with that and one can easily see how we could program useful functions with that"
   ]
  },
  {
   "cell_type": "code",
   "execution_count": 20,
   "metadata": {},
   "outputs": [
    {
     "data": {
      "text/plain": [
       "58.45"
      ]
     },
     "execution_count": 20,
     "metadata": {},
     "output_type": "execute_result"
    }
   ],
   "source": [
    "total_mass=0\n",
    "molecule=[('Na',1),('Cl',1)]\n",
    "\n",
    "for compound in molecule:\n",
    "    total_mass+=data[compound[0]]['mass']*compound[1]\n",
    "total_mass"
   ]
  },
  {
   "cell_type": "markdown",
   "metadata": {},
   "source": [
    "## Task\n",
    "add hydrogen and oxygen to the dictionary and calculate the atomic mass of water.<br>\n",
    "Hint, you don't need to add all the entries for the new elements, adding the mass for each element is enough."
   ]
  },
  {
   "cell_type": "code",
   "execution_count": null,
   "metadata": {},
   "outputs": [],
   "source": []
  },
  {
   "cell_type": "markdown",
   "metadata": {},
   "source": [
    "## Filehandling with dictionaries\n",
    "Finally dictionaries are also excellent for handling many files, as it permits to work with an undefined number of entries.\n",
    "\n",
    "In the following code example we use **listdir** from the **os** package to read all filenames in that are in a folder. We then try to read each file in turn and if successful add it to our dictionary.<br>\n",
    "In this example we are using one more useful trick to handle convoluted paths.<br>\n",
    "Test what \"os.sep\" and \"os.getcwd\" returns and what 'os.sep.join?' returns <br>\n",
    "We will discuss opening and reading files in the next session, for now simply look on all the keys in data and think about what the for loop does. "
   ]
  },
  {
   "cell_type": "code",
   "execution_count": 9,
   "metadata": {},
   "outputs": [],
   "source": [
    "import os            # a package to handle files, paths and more\n",
    "path_to_files=os.sep.join((os.getcwd(),'Data','subset'))\n",
    "filelist=os.listdir(path_to_files)\n",
    "data_in_folder={}\n",
    "for filename in filelist:\n",
    "    temp_path_to_file=os.sep.join((path_to_files,filename))\n",
    "    with open(temp_path_to_file,'r') as f: # open a file and once done with the block, close the file automatically\n",
    "        data_in_folder[filename]=f.readlines()       # read all lines in the file and "
   ]
  },
  {
   "cell_type": "markdown",
   "metadata": {},
   "source": []
  },
  {
   "cell_type": "code",
   "execution_count": null,
   "metadata": {},
   "outputs": [],
   "source": []
  },
  {
   "cell_type": "markdown",
   "metadata": {},
   "source": [
    "## Advanced\n",
    "\n",
    "Now this was the last of the \"standard\" python filetypes we needed to look at. The next sessions will focus on data handling, plotting and fitting. However you have gotten a little feeling for what python is and how to do things here. So this is the perfect time for some python nerdism. The following import returns the \"Zen of Python\" or the philosophy behind the programming language. Admittedly this is nerdy, it is also a good advice for better coding. In time most of them will become clear."
   ]
  },
  {
   "cell_type": "code",
   "execution_count": 10,
   "metadata": {},
   "outputs": [
    {
     "name": "stdout",
     "output_type": "stream",
     "text": [
      "The Zen of Python, by Tim Peters\n",
      "\n",
      "Beautiful is better than ugly.\n",
      "Explicit is better than implicit.\n",
      "Simple is better than complex.\n",
      "Complex is better than complicated.\n",
      "Flat is better than nested.\n",
      "Sparse is better than dense.\n",
      "Readability counts.\n",
      "Special cases aren't special enough to break the rules.\n",
      "Although practicality beats purity.\n",
      "Errors should never pass silently.\n",
      "Unless explicitly silenced.\n",
      "In the face of ambiguity, refuse the temptation to guess.\n",
      "There should be one-- and preferably only one --obvious way to do it.\n",
      "Although that way may not be obvious at first unless you're Dutch.\n",
      "Now is better than never.\n",
      "Although never is often better than *right* now.\n",
      "If the implementation is hard to explain, it's a bad idea.\n",
      "If the implementation is easy to explain, it may be a good idea.\n",
      "Namespaces are one honking great idea -- let's do more of those!\n"
     ]
    }
   ],
   "source": [
    "import this"
   ]
  },
  {
   "cell_type": "markdown",
   "metadata": {},
   "source": [
    "Lets pick one of them and discuss it.\n",
    "\n",
    "When reading files like we have done in the previous code example things can go wrong. In the current code a single unreadable file in this list would crash the code, resulting in an error message. To have a more complicated program not crash one would place the reading section of this code into a \n",
    "\n",
    "**try: except:** bracket as follows: "
   ]
  },
  {
   "cell_type": "code",
   "execution_count": 11,
   "metadata": {},
   "outputs": [],
   "source": [
    "import os            # a package to handle files, paths and more\n",
    "path_to_files=os.sep.join((os.getcwd(),'Data','subset'))\n",
    "filelist=os.listdir(path_to_files)\n",
    "data2={}\n",
    "for filename in filelist:\n",
    "    temp_path_to_file=os.sep.join((path_to_files,filename))\n",
    "    try:\n",
    "        with open(temp_path_to_file,'r') as f: # open a file and once done with the block, close the file automatically\n",
    "            data2[filename]=f.readlines()       # read all lines in the file and \n",
    "    except:\n",
    "        continue"
   ]
  },
  {
   "cell_type": "markdown",
   "metadata": {},
   "source": [
    "if something during the reading in line 8 or 9 goes wrong the code jumps to line 10 and here continues silently.\n",
    "\n",
    "this is nice, as it does not crash, but bad because you do not know that something went wrong. After the **Zen** the following version would be better, that actually reports the error, but does not crash the code."
   ]
  },
  {
   "cell_type": "code",
   "execution_count": 12,
   "metadata": {},
   "outputs": [],
   "source": [
    "import os            # a package to handle files, paths and more\n",
    "path_to_files=os.sep.join((os.getcwd(),'Data','subset'))\n",
    "filelist=os.listdir(path_to_files)\n",
    "data3={}\n",
    "for filename in filelist:\n",
    "    temp_path_to_file=os.sep.join((path_to_files,filename))\n",
    "    try:\n",
    "        with open(temp_path_to_file,'r') as f: # open a file and once done with the block, close the file automatically\n",
    "            data3[filename]=f.readlines()       # read all lines in the file and \n",
    "    except Exception as e:\n",
    "        print('There was a reading error for file',filename,'it produced the following error:')\n",
    "        print(e)"
   ]
  },
  {
   "cell_type": "markdown",
   "metadata": {},
   "source": [
    "## Structured File Format\n",
    "This structured file format is also the basis of the **HDF5** fileformat that has become standard in many large scale research facilities. HDF5 is pretty much a series of staggered dictionaries, pretty much like our dictionary \"data\" from above"
   ]
  },
  {
   "cell_type": "code",
   "execution_count": 21,
   "metadata": {},
   "outputs": [
    {
     "name": "stdout",
     "output_type": "stream",
     "text": [
      "Na\n",
      "Na-name\n",
      "written [Na]-[name] to file\n",
      "Na-Z\n",
      "written [Na]-[Z] to file\n",
      "Na-mass\n",
      "written [Na]-[mass] to file\n",
      "Cl\n",
      "Cl-name\n",
      "written [Cl]-[name] to file\n",
      "Cl-Z\n",
      "written [Cl]-[Z] to file\n",
      "Cl-mass\n",
      "written [Cl]-[mass] to file\n"
     ]
    }
   ],
   "source": [
    "import h5py\n",
    "import os\n",
    "if not os.path.exists('Data'):\n",
    "    os.mkdir('Data')\n",
    "filename=os.sep.join(['Data','my-pse.hdf5'])\n",
    "with h5py.File(filename, 'w') as f:\n",
    "    for key in data.keys():\n",
    "        print(key)\n",
    "        try:\n",
    "            f.create_dataset(name=key, data=data[key])\n",
    "            print('written %s to file'%key)\n",
    "        except Exception as e1:\n",
    "            try:\n",
    "                grp = f.create_group(key)\n",
    "                for key2 in data[key].keys():\n",
    "                    print(key + '-' + key2)\n",
    "                    grp.create_dataset(name=key2, data=data[key][key2])\n",
    "                    print('written [%s]-[%s] to file'%(key,key2))    \n",
    "            except Exception as e2:\n",
    "                print('while writing [%s]-[%s] the following error occured'%(key,key2))\n",
    "                print(e2)\n",
    "            "
   ]
  },
  {
   "cell_type": "code",
   "execution_count": 1,
   "metadata": {},
   "outputs": [],
   "source": [
    "import os"
   ]
  },
  {
   "cell_type": "code",
   "execution_count": null,
   "metadata": {},
   "outputs": [],
   "source": [
    "os.mkdir"
   ]
  }
 ],
 "metadata": {
  "kernelspec": {
   "display_name": "Python 3 (ipykernel)",
   "language": "python",
   "name": "python3"
  },
  "language_info": {
   "codemirror_mode": {
    "name": "ipython",
    "version": 3
   },
   "file_extension": ".py",
   "mimetype": "text/x-python",
   "name": "python",
   "nbconvert_exporter": "python",
   "pygments_lexer": "ipython3",
   "version": "3.11.5"
  }
 },
 "nbformat": 4,
 "nbformat_minor": 2
}
