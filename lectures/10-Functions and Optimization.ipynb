{
 "cells": [
  {
   "cell_type": "code",
   "execution_count": 6,
   "metadata": {},
   "outputs": [],
   "source": [
    "import matplotlib.pyplot as plt\n",
    "import os\n",
    "import time\n",
    "import matplotlib\n",
    "import numpy as np\n",
    "import pandas as pd"
   ]
  },
  {
   "cell_type": "markdown",
   "metadata": {},
   "source": [
    "Optimisation in science\n",
    "<div>\n",
    "<img src=\"http://www.jensuhlig.de/Kemm30/KEMM30_007.png\" width=\"600\">\n",
    "</div>"
   ]
  },
  {
   "cell_type": "markdown",
   "metadata": {},
   "source": [
    "How do you get there? or better,how do you get there without producing a lot of nonsense\n",
    "Counting parameter. e.g. 10 peaks, each position, width, intensity =30 parameter plus background. So fitting is about intelligence. Think, $\\textbf{optimize}$ the smallest amount of parameter starting with a good guess"
   ]
  },
  {
   "cell_type": "markdown",
   "metadata": {},
   "source": [
    "One parameter optimisation (middle = mu)\n",
    "<div>\n",
    "<img src=\"http://www.jensuhlig.de/Kemm30/error_way.png\" width=\"1000\">\n",
    "</div>"
   ]
  },
  {
   "cell_type": "markdown",
   "metadata": {},
   "source": [
    "<div>\n",
    "<img src=\"http://www.jensuhlig.de/Kemm30/KEMM30_008.jpg\" width=\"900\">\n",
    "</div>"
   ]
  },
  {
   "cell_type": "markdown",
   "metadata": {},
   "source": [
    "# Functions:"
   ]
  },
  {
   "cell_type": "markdown",
   "metadata": {},
   "source": [
    "normal Functions that will be used a few times"
   ]
  },
  {
   "cell_type": "code",
   "execution_count": null,
   "metadata": {},
   "outputs": [],
   "source": [
    "def my_function(s):  #this gives the name of the function. The brackets are mandatory (they do not need to contain anything) colon : is mandatory\n",
    "    print(s) # here needs to be something (what is done in the function) and this needs to be intended\n",
    "my_function('hello world')\n",
    "\n",
    "def my_function(s='input to a function'): #with Standard input that is used if you do not give an input\n",
    "    print(s)\n",
    "my_function()\n",
    "\n",
    "def my_function(s=None,a=['get','a','second','input']): #multiple input\n",
    "    s=1  #inside the function you can use whatever variable you have given, and you can do to it whatever you want. If you have the same variable outside the function this will not be altered (namespace)\n",
    "    return a # and a function can return something if it returns multipe things with \"return a,b\"  then the call must be c,d=my_function() \n",
    "' '.join(my_function('hello world'))\n",
    "\n",
    "def my_function(s=None,a=['get','a','second','input']):\n",
    "    '''This functions simply returns a. This is a document string and is shown when you type: my_function?'''\n",
    "    return(a)\n",
    "' '.join(my_function('hello world'))"
   ]
  },
  {
   "cell_type": "markdown",
   "metadata": {},
   "source": [
    "A second way to create a function is with something called Lambda Functions. They are usually used if you need the function only once (e.g. when you want to plot it) and are useful for e.g. curve_fit (comes next) or for changing things in DataFrames with the df.apply approach (comes later) \n",
    "\n"
   ]
  },
  {
   "cell_type": "code",
   "execution_count": 13,
   "metadata": {},
   "outputs": [
    {
     "data": {
      "text/plain": [
       "[<matplotlib.lines.Line2D at 0x27e2f027408>]"
      ]
     },
     "execution_count": 13,
     "metadata": {},
     "output_type": "execute_result"
    },
    {
     "data": {
      "image/png": "[encoded data removed]",
      "text/plain": [
       "<Figure size 432x288 with 1 Axes>"
      ]
     },
     "metadata": {
      "needs_background": "light"
     },
     "output_type": "display_data"
    }
   ],
   "source": [
    "normalize = lambda x: (x-x.min())/(x.max()-x.min())\n",
    "line = lambda x,p: p[0]+p[1]*x\n",
    "x=np.arange(-2,5,0.1)\n",
    "y=line(x,[1,3])\n",
    "plt.plot(x,y)"
   ]
  },
  {
   "cell_type": "markdown",
   "metadata": {},
   "source": [
    "### Task:"
   ]
  },
  {
   "cell_type": "markdown",
   "metadata": {},
   "source": [
    "* Write a standard function that takes x, mu and sigma and returns a gaussian bell curve (with normalisation). Make sure that you use numpy operations only, so that you can give it a vector and receive a vector.<br> \n",
    "${\\frac {1}{\\sqrt {2\\pi \\sigma ^{2}}}}\\operatorname {exp} \\left(-{\\frac {\\left(x-\\mu \\right)^{2}}{2\\sigma ^{2}}}\\right)$\n",
    "* plot this function with mu=0,sigma=1 from -5 to 5 in 0.01 steps \n",
    "\n",
    "* Write a lambda function that returns the normalized vector \n",
    "* use the cumsum function from numpy to create the cummulative sum of the gaussian from above and normalize it with your lambda function\n",
    "* Plot this in the same plot (against x)\n",
    "* What does this resemble?"
   ]
  },
  {
   "cell_type": "markdown",
   "metadata": {},
   "source": [
    "# Parameter optimisation: Fitting vs. optimisation\n",
    "\n",
    "\n",
    "## Curve Fit\n",
    "Starting with curve_fit. We assume that we have a flat function that has a clear gradient to the minimum (see top of this page) then we can use curve_fit to fast measure the parameter we need"
   ]
  },
  {
   "cell_type": "code",
   "execution_count": 41,
   "metadata": {},
   "outputs": [
    {
     "data": {
      "text/html": [
       "<div>\n",
       "<style scoped>\n",
       "    .dataframe tbody tr th:only-of-type {\n",
       "        vertical-align: middle;\n",
       "    }\n",
       "\n",
       "    .dataframe tbody tr th {\n",
       "        vertical-align: top;\n",
       "    }\n",
       "\n",
       "    .dataframe thead th {\n",
       "        text-align: right;\n",
       "    }\n",
       "</style>\n",
       "<table border=\"1\" class=\"dataframe\">\n",
       "  <thead>\n",
       "    <tr style=\"text-align: right;\">\n",
       "      <th></th>\n",
       "      <th>values</th>\n",
       "      <th>errors</th>\n",
       "    </tr>\n",
       "  </thead>\n",
       "  <tbody>\n",
       "    <tr>\n",
       "      <th>$\\mu$</th>\n",
       "      <td>0.498208</td>\n",
       "      <td>0.005948</td>\n",
       "    </tr>\n",
       "    <tr>\n",
       "      <th>$\\sigma$</th>\n",
       "      <td>0.499589</td>\n",
       "      <td>0.004856</td>\n",
       "    </tr>\n",
       "    <tr>\n",
       "      <th>$x_0$</th>\n",
       "      <td>0.049649</td>\n",
       "      <td>0.001995</td>\n",
       "    </tr>\n",
       "  </tbody>\n",
       "</table>\n",
       "</div>"
      ],
      "text/plain": [
       "            values    errors\n",
       "$\\mu$     0.498208  0.005948\n",
       "$\\sigma$  0.499589  0.004856\n",
       "$x_0$     0.049649  0.001995"
      ]
     },
     "execution_count": 41,
     "metadata": {},
     "output_type": "execute_result"
    },
    {
     "data": {
      "image/png": "[encoded data removed]",
      "text/plain": [
       "<Figure size 432x288 with 1 Axes>"
      ]
     },
     "metadata": {
      "needs_background": "light"
     },
     "output_type": "display_data"
    }
   ],
   "source": [
    "gauss = lambda x,mu=0,sigma=1,offset=0: 1/np.sqrt(2*np.pi*(sigma**2))*np.exp((-0.5/sigma**2)*(np.subtract(x,mu))**2)+offset\n",
    "                                    \n",
    "#create some data with some randomness and plot it\n",
    "x=np.linspace(-5,5,200)\n",
    "y=gauss(x,mu=0.5,sigma=0.5)+0.1*np.random.random(np.shape(x))\n",
    "fig,ax=plt.subplots()\n",
    "ax.plot(x,y,'o',ms=2,label='data')\n",
    "ax.set_xlabel('measured value')\n",
    "ax.set_ylabel('occurance')\n",
    "\n",
    "from scipy.optimize import curve_fit\n",
    "#make a guess\n",
    "p0=[1,1,0.1]\n",
    "\n",
    "#optimise\n",
    "popt,pcov = curve_fit(gauss, xdata=x, ydata=y,p0=p0)\n",
    "\n",
    "#plot both\n",
    "ax.plot(x, gauss(x, mu=p0[0],sigma=p0[1],offset=p0[2]), 'b-', label='guess')\n",
    "ax.plot(x, gauss(x, mu=popt[0],sigma=popt[1],offset=popt[2]), 'r-', label='fit')\n",
    "ax.legend()\n",
    "\n",
    "\n",
    "perr = np.sqrt(np.diag(pcov))\n",
    "df=pd.DataFrame({'values':popt,'errors':perr},index=['$\\mu$','$\\sigma$','$x_0$'])\n",
    "df=df[['values','errors']]\n",
    "df"
   ]
  },
  {
   "cell_type": "markdown",
   "metadata": {},
   "source": [
    "The key bit\n",
    "```\n",
    "from scipy.optimize import curve_fit\n",
    "popt,pcov = curve_fit(gauss, xdata=x, ydata=y,p0=[1,0.5,0.1])\n",
    "```\n",
    "curve fit is a least square method that takes a function, the target data and a set of starting parameters, that are in order the parameter after the first.\n",
    "it returns: \n",
    "popt = optimized parameter\n",
    "and\n",
    "pcov = covariance matrix.\n",
    "p_sigma = np.sqrt(np.diag(pcov))\n"
   ]
  },
  {
   "cell_type": "markdown",
   "metadata": {},
   "source": [
    "<div>\n",
    "<img src=\"http://www.jensuhlig.de/Kemm30/KEMM30_009.jpg\" width=\"400\">\n",
    "</div>"
   ]
  },
  {
   "cell_type": "markdown",
   "metadata": {},
   "source": [
    "### Tasks:\n",
    "\n",
    "Read the files, Fit files and plot both, data and fits:\n",
    "* http://www.jensuhlig.de/Kemm30/fit_0.csv\n",
    "* http://www.jensuhlig.de/Kemm30/fit_1.csv  here: try first a separate fit, in which you fit the linear range and then separately the peak.\n",
    "* http://www.jensuhlig.de/Kemm30/fit_3.csv (two peaks and background)"
   ]
  },
  {
   "cell_type": "markdown",
   "metadata": {},
   "source": [
    "## Scipy minimize\n",
    "\n",
    "Second way of optimisation uses in addition to the \"cost function\" an \"error function\". The task of the second function is to create a \"price\" for this parameter. The Minimize function is then minimizing this price."
   ]
  },
  {
   "cell_type": "code",
   "execution_count": 69,
   "metadata": {},
   "outputs": [
    {
     "name": "stdout",
     "output_type": "stream",
     "text": [
      " final_simplex: (array([[0.50897668, 0.46933277, 0.33100131],\n",
      "       [0.50898963, 0.46936711, 0.33100678],\n",
      "       [0.50900159, 0.46933974, 0.33102792],\n",
      "       [0.5088831 , 0.46934667, 0.33101213]]), array([1.36436863, 1.36436863, 1.36436874, 1.36436874]))\n",
      "           fun: 1.3643686293870498\n",
      "       message: 'Optimization terminated successfully.'\n",
      "          nfev: 180\n",
      "           nit: 99\n",
      "        status: 0\n",
      "       success: True\n",
      "             x: array([0.50897668, 0.46933277, 0.33100131])\n"
     ]
    },
    {
     "data": {
      "text/plain": [
       "<matplotlib.legend.Legend at 0x27e32281348>"
      ]
     },
     "execution_count": 69,
     "metadata": {},
     "output_type": "execute_result"
    },
    {
     "data": {
      "image/png": "[encoded data removed]",
      "text/plain": [
       "<Figure size 576x576 with 1 Axes>"
      ]
     },
     "metadata": {
      "needs_background": "light"
     },
     "output_type": "display_data"
    }
   ],
   "source": [
    "def gauss(x,p):\n",
    "    [mu,sigma,offset]=p\n",
    "    pre_factor=1/np.sqrt(2*np.pi*(sigma**2))\n",
    "    exponent=(-0.5/sigma**2)*(np.subtract(x,mu))**2\n",
    "    return pre_factor*np.exp(exponent)+offset\n",
    "\n",
    "x=np.linspace(-5,5,200)\n",
    "y=gauss(x,[0.5,0.5,0.2])\n",
    "y=y+(y**0.5)*0.5*np.random.random(np.shape(x))\n",
    "fig,ax=plt.subplots(figsize=(8,8))\n",
    "ax.plot(x,y,'o',ms=5,label='data')\n",
    "ax.set_xlabel('measured value')\n",
    "ax.set_ylabel('occurance')\n",
    "\n",
    "def min_gauss(p):# this would be the root mean square (we skip the root as the minimum is the minimum)\n",
    "    return ((y-gauss(x,p))**2).sum()\n",
    "def min_gauss_lin(p): #this is a different cost function that uses a more linear approach. It does not \"punish\" strong deviations as much. As such it has the tendency to be more outlier stable but preforms bad for peaks.\n",
    "    return np.abs(y-gauss(x,p)).sum()\n",
    "\n",
    "from scipy.optimize import minimize\n",
    "\n",
    "x0=[1.,0.5,0.1]\n",
    "out = minimize(min_gauss,x0=x0,method='Nelder-Mead') #nelder-Mead is a standard multi-parameter optimiser. check out other choices.\n",
    "out2 = minimize(min_gauss_lin,x0=x0,method='Nelder-Mead')\n",
    "\n",
    "ax.plot(x, gauss(x, p=x0), color='blue',lw=5,alpha=0.5,label='start')\n",
    "ax.plot(x, gauss(x, p=out['x']), color='red',linestyle='dashed', lw=5,label='fit_sqrt')\n",
    "ax.plot(x, gauss(x, p=out2['x']), color='green',lw=5,zorder=0, label='fit_lin')\n",
    "\n",
    "print(out)\n",
    "plt.legend()"
   ]
  },
  {
   "cell_type": "markdown",
   "metadata": {},
   "source": [
    "### Task\n",
    "use minimize with nelder mead and redo the fits from before."
   ]
  },
  {
   "cell_type": "markdown",
   "metadata": {},
   "source": [
    "Picture from \n",
    "http://www.esrf.eu/computing/Forum/imgCIF/PAPER/olivine.html\n",
    "<div>\n",
    "<img src=\"http://www.esrf.eu/computing/Forum/imgCIF/PAPER/olivine.jpg\" width=\"400\">\n",
    "</div>\n",
    "    \n",
    "    "
   ]
  },
  {
   "cell_type": "markdown",
   "metadata": {},
   "source": [
    "### Task\n",
    "* cut this image to only have the powder rings (hint make it symmetric)\n",
    "* convert the image into grey scale\n",
    "* write the function of a small ring (two circles)\n",
    "* make everything that is overlapping with the ring black\n",
    "* optimise the parameter of the ring (middle point and diameter)\n",
    "* repeat by adding more rings with the same central point but different diameter \n",
    "<br>\n",
    "Hint:"
   ]
  },
  {
   "cell_type": "code",
   "execution_count": 11,
   "metadata": {},
   "outputs": [],
   "source": [
    "image=np.array([['read and shape the image'],['2d']])\n",
    "lx,ly=image.shape # measure the size of your image\n",
    "X, Y = np.meshgrid(range(lx),range(ly))  #create for each point an information vector that splits x- and y coordinates\n",
    "central_point=[350,650]\n",
    "radius=[250,252]\n",
    "mask=((X-central_point[0])**2+(Y-central_point[1])**2 > radius[0]**2) \n"
   ]
  },
  {
   "cell_type": "markdown",
   "metadata": {},
   "source": [
    "make a mask where everything that is larger tha the radius true is"
   ]
  },
  {
   "cell_type": "code",
   "execution_count": 12,
   "metadata": {},
   "outputs": [],
   "source": [
    "mask=((X-central_point[0])**2+(Y-central_point[1])**2 > radius[0]**2) "
   ]
  },
  {
   "cell_type": "markdown",
   "metadata": {},
   "source": [
    "make a second mask for the second radius and combine them with a logical operation (add / or) and put them into a function>"
   ]
  },
  {
   "cell_type": "code",
   "execution_count": 13,
   "metadata": {},
   "outputs": [],
   "source": [
    "def combined_mask(dimensions,central_point,radius1,radius2):\n",
    "    mask='some operations'\n",
    "    return mask"
   ]
  },
  {
   "cell_type": "code",
   "execution_count": 16,
   "metadata": {},
   "outputs": [
    {
     "ename": "IndexError",
     "evalue": "only integers, slices (`:`), ellipsis (`...`), numpy.newaxis (`None`) and integer or boolean arrays are valid indices",
     "output_type": "error",
     "traceback": [
      "\u001b[1;31m---------------------------------------------------------------------------\u001b[0m",
      "\u001b[1;31mIndexError\u001b[0m                                Traceback (most recent call last)",
      "\u001b[1;32m<ipython-input-16-30404784931d>\u001b[0m in \u001b[0;36m<module>\u001b[1;34m\u001b[0m\n\u001b[1;32m----> 1\u001b[1;33m \u001b[0mimage\u001b[0m\u001b[1;33m[\u001b[0m\u001b[0mcombined_mask\u001b[0m\u001b[1;33m(\u001b[0m\u001b[0mdimensions\u001b[0m\u001b[1;33m=\u001b[0m\u001b[1;32mNone\u001b[0m\u001b[1;33m,\u001b[0m\u001b[0mcentral_point\u001b[0m\u001b[1;33m=\u001b[0m\u001b[1;32mNone\u001b[0m\u001b[1;33m,\u001b[0m\u001b[0mradius1\u001b[0m\u001b[1;33m=\u001b[0m\u001b[1;32mNone\u001b[0m\u001b[1;33m,\u001b[0m\u001b[0mradius2\u001b[0m\u001b[1;33m=\u001b[0m\u001b[1;32mNone\u001b[0m\u001b[1;33m)\u001b[0m\u001b[1;33m]\u001b[0m\u001b[1;33m=\u001b[0m\u001b[1;36m0\u001b[0m\u001b[1;33m\u001b[0m\u001b[1;33m\u001b[0m\u001b[0m\n\u001b[0m",
      "\u001b[1;31mIndexError\u001b[0m: only integers, slices (`:`), ellipsis (`...`), numpy.newaxis (`None`) and integer or boolean arrays are valid indices"
     ]
    }
   ],
   "source": [
    "image[combined_mask(dimensions=None,central_point=None,radius1=None,radius2=None)]=0"
   ]
  }
 ],
 "metadata": {
  "kernelspec": {
   "display_name": "Python 3",
   "language": "python",
   "name": "python3"
  },
  "language_info": {
   "codemirror_mode": {
    "name": "ipython",
    "version": 3
   },
   "file_extension": ".py",
   "mimetype": "text/x-python",
   "name": "python",
   "nbconvert_exporter": "python",
   "pygments_lexer": "ipython3",
   "version": "3.7.5"
  }
 },
 "nbformat": 4,
 "nbformat_minor": 2
}
