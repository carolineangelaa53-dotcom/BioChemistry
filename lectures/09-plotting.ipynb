{
 "cells": [
  {
   "cell_type": "code",
   "execution_count": null,
   "metadata": {},
   "outputs": [],
   "source": [
    "import matplotlib,os\n",
    "import matplotlib.pyplot as plt\n",
    "import numpy as np\n",
    "%matplotlib inline"
   ]
  },
  {
   "cell_type": "markdown",
   "metadata": {},
   "source": [
    "# Plotting\n",
    "\n",
    "We use matplotlib as a plotting library. better to say the pyplot syntax from matplotlib. There are many other libraries that are designed for special tasks. e.g. seaborn is an excellent library for statistical plotting. Interestingly do many of these libraries build on Matplotlib. So Seaborn makes the same plots that Matplotlib can just chooses different colors and styles and automizes some things. The tricks you will learn here can thus be used there too. See the advanced tasks for some more examples.<br>\n",
    "<br>\n",
    "import matplotlib <br>\n",
    "import matplotlib.pyplot as plt <br>\n",
    "<br>\n",
    "The last thing we have to do before we can start plotting is choosing a [Matplotlib backends](https://matplotlib.org/tutorials/introductory/usage.html#backends)\n",
    "there are several classical available. The most useable are `inline`, `notebook`, `tk` and `qt`. \n",
    "`inline` is a passive one that is best to generate plots that are in the notebook and can thus be exported as PDF. \"notebook\" is an interactive one that is placed in the notebook too.\n",
    "\n",
    "Both `tk` and `qt` are interactive and detached from the window. `qt` allows you to change pretty much all aspects of the plot with the mouse and is certainly the most comfortable. However, it sometimes does not work, depending on your local installation. For this course we will focus on the use of `inline`.\n",
    "\n",
    "~~~python\n",
    "%matplotlib notebook\n",
    "%matplotlib inline...\n",
    "~~~\n",
    "\n",
    "in may cases changing the backend requires the restart of the Kernel.\n",
    "\n",
    "## Matlab type plotting\n",
    "The most simple type of plotting is what is often called matlab type plotting. From the Matplotlib library you use the command plot and give it one or two vectors."
   ]
  },
  {
   "cell_type": "code",
   "execution_count": null,
   "metadata": {},
   "outputs": [],
   "source": [
    "#standard matplab type plotting\n",
    "x=np.arange(-5,5,0.01)\n",
    "y=np.sin(2*np.pi*x)\n",
    "plt.plot(x,y)\n",
    "plt.xlim((-4,4)) # the order matters!"
   ]
  },
  {
   "cell_type": "code",
   "execution_count": null,
   "metadata": {},
   "outputs": [],
   "source": [
    "#if you do not use an interactive backend like notebook or qt you sometimes (depending on the setting) need\n",
    "plt.show()  # needed as we do not plot interactive\n",
    "plt.ion()  #turn on interactives plotting (plots are updated as you change things)"
   ]
  },
  {
   "cell_type": "markdown",
   "metadata": {},
   "source": [
    "This plotting call does a number of things in the background.\n",
    "* open a window (here the window is placed in the script, if you use the `tk` backend you will see the window\n",
    "* open an axis in the plot.\n",
    "* plot the lines\n",
    "* autoscale the lines.\n",
    "\n",
    "This is great and works, but gives us less possibilities to manipulate things. Or to say change THAT.\n",
    "\n",
    "This THAT is what is called a pointer. While there are way to generate those pointers later there are also other disadvantages like confusing syntax,... \n",
    "\n",
    "So we will take a slightly more complicated way and first create the figure with the axis manually and then plot."
   ]
  },
  {
   "cell_type": "code",
   "execution_count": null,
   "metadata": {},
   "outputs": [],
   "source": [
    "fig=plt.figure(figsize=(3,3)) #create a frame\n",
    "ax=fig.add_subplot() # create a sheet to draw on\n",
    "ax.plot(x,y)"
   ]
  },
  {
   "cell_type": "markdown",
   "metadata": {},
   "source": [
    "now we could add more and more axis to plot and create e.g. insets or complex figures.\n",
    "In most cases this can be simplified by the combined command"
   ]
  },
  {
   "cell_type": "code",
   "execution_count": null,
   "metadata": {},
   "outputs": [],
   "source": [
    "fig,ax=plt.subplots() #for one plot\n",
    "fig,ax=plt.subplots(1,3) # for three axis in a row\n",
    "fig,ax=plt.subplots(1,3,figsize=(12,4)) # with size options...."
   ]
  },
  {
   "cell_type": "markdown",
   "metadata": {},
   "source": [
    "Now we have \n",
    "* `fig` as a pointer to the figure and for example save the figure\n",
    "* `ax` as a point to either the single frame in which we can plot or ax is a vector with one pointer per frame, so we can choose in which exact frame we want to plot something\n",
    "\n",
    "Anyways the simplest plotting command is:"
   ]
  },
  {
   "cell_type": "code",
   "execution_count": null,
   "metadata": {},
   "outputs": [],
   "source": [
    "fig,ax=plt.subplots() #for one plot\n",
    "ax.plot(x,y)"
   ]
  },
  {
   "cell_type": "markdown",
   "metadata": {},
   "source": [
    "now each of the axis we are using has a great number of things that you can adjust/optimise. But there is a nice structure to that, which makes it easy to remember. <br>\n",
    "All options are divided into `get_` and `set_` \n",
    "\n",
    "test what you get for options with `ax.get_x` (press shift-tab)\n",
    "\n",
    "## Task\n",
    "Make plot the exponential function and add an xlabel and ylabel"
   ]
  },
  {
   "cell_type": "markdown",
   "metadata": {},
   "source": [
    "Every element in a figure has such a handle/pointer and can thus be set.\n",
    "<div>\n",
    "<img src=\"Data/KEMM30_006.png\" width=\"600\">\n",
    "</div>\n",
    "\n",
    "\n",
    "## Example Task\n",
    "\n",
    "We want to create a neat figure to plot the sinus function and adjust all options."
   ]
  },
  {
   "cell_type": "code",
   "execution_count": null,
   "metadata": {},
   "outputs": [],
   "source": [
    "# create Data\n",
    "x=np.arange(0,4*np.pi,0.1)\n",
    "y=np.sin(x)\n",
    "\n",
    "#create Figure\n",
    "fig,ax=plt.subplots(1,2,figsize=(11,3))\n",
    "ax[0].plot(x,y,label='sine function')\n",
    "ax[1].plot(x,y,label='sine function',color='green')\n",
    "\n",
    "ax[0].set_title('original plot')\n",
    "ax[1].set_title('modified plot')\n",
    "\n",
    "\n",
    "ax[1].set_xticks(np.arange(0,4,1)*np.pi)                                   #set position of ticks manually\n",
    "ax[1].set_xticklabels([f'{b/np.pi} π' for b in ax[1].get_xticks()])  #the labels are text! so all text replacement \n",
    "ax[1].set_xlabel('angular notation')                                 \n",
    "ax[1].set_ylabel('intensity')\n",
    "ax[1].legend()\n",
    "ax[1].text(1 * np.pi, 0, r'$\\pi$', fontsize=16);"
   ]
  },
  {
   "cell_type": "markdown",
   "metadata": {},
   "source": [
    "While this looks complicated you build up the commands step by step until you like it. Or you can use the \"qt\" backend and change it by clicking. However one usually developes a nice looking template once and then reuses the same template over and over. Which makes this much faster than shaping the plot every time by mouse.\n",
    "\n",
    "The one line that is complex (and using a _list comprehension_) above is:\n",
    "\n",
    "```python\n",
    "ax[1].set_xticklabels([f'{b/np.pi}π' for b in ax[1].get_xticks()])\n",
    "```\n",
    "\n",
    "lets rewrite this for you to understand\n",
    "\n",
    "```python\n",
    "labels=[]\n",
    "list_of_current_ticks=ax[1].get_xticks()\n",
    "for item in list_of_current_ticks:\n",
    "    tick_label = f'{b/np.pi}π'\n",
    "    labels.append(tick_label)\n",
    "ax[1].set_xticklabels(labels)\n",
    "```\n",
    "\n",
    "There are many fully automatic ways to replace lables, but this always works and is just based on what you already learned can make the plot exactly how you want it.\n",
    "\n",
    "Effectively all entries in the plot are a vector/list of either numbers or texts. So we create a list of labels that we attach to the list of numbers (ticks) we just set. By using \"get_xticks\" we make sure that we do not cheat. As you know how to shape strings..."
   ]
  },
  {
   "cell_type": "markdown",
   "metadata": {},
   "source": [
    "### cheat sheets"
   ]
  },
  {
   "cell_type": "markdown",
   "metadata": {},
   "source": [
    "How should I ever remember all of this? $\\rightarrow$ you get used to it or you look it up/use a cheat sheet <br>\n",
    "https://python-graph-gallery.com/wp-content/uploads/Matplotlib_cheatsheet_datacamp.png      <br>\n",
    "Or look in the folder Cheat cheats"
   ]
  },
  {
   "cell_type": "markdown",
   "metadata": {},
   "source": [
    "## plotting types\n",
    "\n",
    "### error bar plotting\n",
    "\n",
    "Beside the standard plots one should plot in science data using error bars. "
   ]
  },
  {
   "cell_type": "code",
   "execution_count": null,
   "metadata": {},
   "outputs": [],
   "source": [
    "#download the data and set the filepath\n",
    "import os\n",
    "!git clone https://github.com/luchem/Kemm30.git --depth=1\n",
    "path_to_files=os.sep.join([os.getcwd(),'Kemm30', 'lectures', 'Data'])"
   ]
  },
  {
   "cell_type": "code",
   "execution_count": null,
   "metadata": {},
   "outputs": [],
   "source": [
    "# lets manually read some measurement data\n",
    "raw_data = []\n",
    "files = path_to_files + os.sep + 'data_with_error.csv'\n",
    "with open(files, 'r') as f:\n",
    "    for line in f:\n",
    "        raw_data.append(line.split())\n",
    "\n",
    "(x, y, yerr) = np.array(raw_data[1:], dtype=float).T"
   ]
  },
  {
   "cell_type": "markdown",
   "metadata": {},
   "source": [
    "The previous import manually opened a file, line for line read the data and split it into separate strings\n",
    "\n",
    "Then it converted this list of lists into an array. During the import a datatype was specified, which means that numpy tries to convert the read string into this datatype\n",
    "\n",
    "The this array is transposed to make it match the tupel (x,y,yerr). now:\n",
    "\n",
    "* x contains the \"time[s]\"\n",
    "* y contains log($1-\\frac{Abs}{Abs_{inf}}$)   Hint: if you look on the the code of this cell you can copy the exact string for the label\n",
    "* yerr contains the error values of this measured curve\n",
    "\n",
    "## Task\n",
    "\n",
    "1. Create a figure with the size 14x4 inch and place two axis into it. \n",
    "2. on the first axis plot the y values with error bars using the function \"errorbar\" with the option \"fmt='o'\", don't forget to put a label on both axis!\n",
    "3. On the second axis plot the data y as black line and lay above (plot after) an area from y-yerr to y+yerr, use the options facecolor='grey',edgecolor='face',alpha=0.5 (and of course test or read what these options mean and label the axis)"
   ]
  },
  {
   "cell_type": "markdown",
   "metadata": {},
   "source": [
    "## Statistical plotting using numpy\n",
    "\n",
    "While it might feel a bit strange to train how to \"make\" data, this is a very important part in science. It allows to you design experiments and test hypothesis.\n",
    "\n",
    "A nice tool for this are random generators that are available e.g. in numpy. A few useful are the normal distribution, evenly distributed or choice generator. "
   ]
  },
  {
   "cell_type": "code",
   "execution_count": null,
   "metadata": {},
   "outputs": [],
   "source": [
    "vector_with_normal_distributed_values=np.random.normal(loc=0,scale=0.1,size=10)\n",
    "vector_with_envenly_distributed_values=np.random.random(size=10)\n",
    "vector_with_dice_rolls=np.random.choice([1,2,3,4,5,6],size=10)"
   ]
  },
  {
   "cell_type": "markdown",
   "metadata": {},
   "source": [
    "For learning how to make different type of plots we start with an experiment in statistics. We an artifical treatment in which a measured size changes a little bit with the change of the conditions. Lets say, we count the number of bacterias in a sample and change how sour the trink is. Now we are performing a good experiment and repeat each experiment 10 times and determine our statistics from the variations.  \n",
    "\n",
    "## Task \n",
    "From the following plot, is the difference between the median/mean of the experiments larger or smaller than the statistical expected fluctuations? Read the documentation of the boxplot to answer this question"
   ]
  },
  {
   "cell_type": "code",
   "execution_count": null,
   "metadata": {},
   "outputs": [],
   "source": [
    "x_set = [3, 3.1, 2.9]\n",
    "x_experiments = np.random.normal(loc = x_set, scale = 0.2, size = (10,3))\n",
    "\n",
    "fig, ax = plt.subplots()\n",
    "ax.boxplot(x_experiments); #hint the semicolon on the end silences the output of the statistical plot"
   ]
  },
  {
   "cell_type": "markdown",
   "metadata": {},
   "source": [
    "## Smoothing\n",
    "\n",
    "the opinions diverge when it comes to smoothing in science. But it can be very useful at times. While there are different splining procedures, we will focus on the [Savitzky Golay filter](https://en.wikipedia.org/wiki/Savitzky%E2%80%93Golay_filter).\n",
    "\n",
    "This filter combines an integration window with a polynom that is fitted into this window. So is a (5,1) filter a floating window filter, while a (5,3) filter fits a 3rd order polynomial to the data that also catches peaks quite well. As example we will use a water vibrational spectrum"
   ]
  },
  {
   "cell_type": "code",
   "execution_count": null,
   "metadata": {},
   "outputs": [],
   "source": [
    "files=path_to_files + os.sep + 'water_spectrum.txt'\n",
    "with open(files,'r') as f:\n",
    "    data=[a.split(',') for a in f.readlines()]\n",
    "    data=np.array(data,dtype=float)\n",
    "artificial_noise=np.random.normal(scale=3e-6,size=len(data))\n",
    "x=data[:,0]\n",
    "y=data[:,1]+artificial_noise\n",
    "fig,ax=plt.subplots()  \n",
    "ax.plot(x,y)\n",
    "from scipy.signal import savgol_filter\n",
    "ax.plot(x,savgol_filter(y,5,3))"
   ]
  },
  {
   "cell_type": "code",
   "execution_count": null,
   "metadata": {},
   "outputs": [],
   "source": []
  },
  {
   "cell_type": "markdown",
   "metadata": {},
   "source": [
    "# Peak functions\n",
    "you will notice that the water spectrum contains a lot of different peaks. In science two peak functions are commonly used to describe such shapes. One are lorentian peaks that are determined by the lifetime of the specific state. Most common is however a gaussian shape, that is defined by the random nature of noise. A gaussian function is described by ${\\frac {1}{\\sqrt {2\\pi \\sigma ^{2}}}}\\operatorname {exp} \\left(-{\\frac {\\left(x-\\mu \\right)^{2}}{2\\sigma ^{2}}}\\right)$<br>\n",
    "here $\\mu$ is the center position of the peak and $\\sigma$ is the value where the intensity droped to 1/e of the maximum."
   ]
  },
  {
   "cell_type": "code",
   "execution_count": null,
   "metadata": {},
   "outputs": [],
   "source": [
    "def gauss(x,mu=0,sigma=1):\n",
    "    prefactor=1/np.sqrt(2*np.pi*(sigma**2))\n",
    "    e_function=np.exp((-0.5/sigma**2)*(np.subtract(x,mu))**2)\n",
    "    return prefactor*e_function\n",
    "\n",
    "plt.close('all')\n",
    "fig,ax=plt.subplots()\n",
    "x=np.arange(-3,3,0.01)\n",
    "ax.plot(x,gauss(x))"
   ]
  },
  {
   "cell_type": "markdown",
   "metadata": {},
   "source": [
    "## Statistical sampling and plotting\n",
    "\n",
    "Maybe we need to talk a bit about fluctuations in measurements. Lets take one of the most standard statistical experiments as an example. Rolling the dice.\n",
    "\n",
    "~~~python\n",
    "x=np.random.choice([1,2,3,4,5,6],size=100)\n",
    "~~~\n",
    "\n",
    "rolls 100 times the dice and returns an array with the numbers. This is our first experiment and our questions is: what is the average dice roll.\n",
    "\n",
    "~~~python\n",
    "x.mean()\n",
    "~~~\n",
    "    \n",
    "To learn something about the distribution of this we need to repeat the experiment a few times. Lets say 1000 times and we store the averages in the vector averages."
   ]
  },
  {
   "cell_type": "code",
   "execution_count": null,
   "metadata": {},
   "outputs": [],
   "source": [
    "x=np.random.choice([1,2,3,4,5,6],size=(100,1000))\n",
    "averages=x.mean(axis=0)\n",
    "averages.shape"
   ]
  },
  {
   "cell_type": "markdown",
   "metadata": {},
   "source": [
    "## Histograms\n",
    "\n",
    "Histograms are one essential way to describe statistical data.  \n",
    "\n",
    "While there are fully automated ways how to generate them, we will use np.histogram to have more controll. \n",
    "\n",
    "np.histogram returns first the \"intensity\" = how many counts and the edges of the bins. Edges of the bins means the beginning and then end of each \"pocket\""
   ]
  },
  {
   "cell_type": "code",
   "execution_count": null,
   "metadata": {},
   "outputs": [],
   "source": [
    "intensity,bin_edges=np.histogram(averages,bins=50)\n",
    "print(intensity.shape)\n",
    "print(bin_edges.shape)"
   ]
  },
  {
   "cell_type": "markdown",
   "metadata": {},
   "source": [
    "note how the shape of bin_edges is one larger than the intensities in the bins? this is because these are Edges, meaning left and right corner of the bins. A usual way to define the center of the bin is to take the left corner plus the right corner and devide it by half.\n",
    "\n",
    "also the automatic way how the bins are defined is not nessesary the best way. I usually prefer to create the bin myself with the following code:"
   ]
  },
  {
   "cell_type": "code",
   "execution_count": null,
   "metadata": {},
   "outputs": [],
   "source": [
    "bins_into_histogram=np.arange(0,7,0.01)\n",
    "intensity,bin_edges=np.histogram(averages,bins=bins_into_histogram)\n",
    "bins=(bin_edges[:-1]+bin_edges[1:])/2"
   ]
  },
  {
   "cell_type": "markdown",
   "metadata": {},
   "source": []
  },
  {
   "attachments": {
    "0d275cae-7c4d-4a9e-ad65-2b9784843f68.png": {
     "image/png": "[encoded data removed]"
    }
   },
   "cell_type": "markdown",
   "metadata": {},
   "source": [
    "## Task\n",
    "1. create a figure with one axis over the whole width.\n",
    "2. plot the \"bins\" and \"intensities\" histogram calculating in the previous cell using a bar plot with grey bars. <br>Hint: change the bar width to 0.01\n",
    "3. plot in the same axis a gaussian function with mu=average.mean() and sigma=average.std(with ddof=1) of all experiments and multiply the gaussian with 10. Why does this match so well? Why did we need to multiply by 10?\n",
    "4. label all the x- and y scales (think about what should be on the axis)\n",
    "5. change the x-axis to the range from 3.25 to 4.2\n",
    "6. format the x-axis ticks to have precisely 2 after comma digits\n",
    "7. format the y-axis in scientific notation (using exponents)\n",
    "8. make a legend in the lower right corner. \n",
    "9. add extra text to the plot in which you write the parameter of the gaussian <br>(don't type this by hand, but use some kind of string replacement)\n",
    "10. In an inset in the upper left corner we want to illustrate how the width of the curve would change with the number of samples.\n",
    "    1. For this create an empty inset axis  in the upper left corner using **inset=ax.inset_axes([0.5,0.45,0.45,0.5])\n",
    "    2. Write a loop in which you make 1000 experiments, in each of which you throw a dice 100, 200, 300,... 1000 times.   \n",
    "    3. For each of these tests calculate the variance of the averages. The code for 1 and 2 is:\n",
    "        ```python\n",
    "        x=np.random.choice([1,2,3,4,5,6],size=(number_of_throws,1000))\n",
    "        averages=x.mean(axis=0)\n",
    "        variance=averages.std()\n",
    "        ```\n",
    "    4. Now plot these points into the inset with x= number of throws and y= the width.\n",
    "    5. create an x-vector from  100-1000 in 10 throw steps and plot into the inset the line that results from the function: $\\frac{1.75}{\\sqrt{x}}$\n",
    "\n",
    "The result should look something like this:\n",
    "\n",
    "![inset_plot.png](attachment:0d275cae-7c4d-4a9e-ad65-2b9784843f68.png)\n"
   ]
  },
  {
   "cell_type": "markdown",
   "metadata": {},
   "source": [
    "Placing insets can be difficult. There are in general 4 accepted ways to generate an inset.\n",
    "1. predefined axes-level location codes using mpl_toolkits.axes_grid1.inset_axes\n",
    "2. \n",
    "manual placement with axes-level coordinate (used here): Axes.inset_axe\n",
    "3. \r\n",
    "manual placement with figure-level coordinates: Figure.add_ax (useful to place over multiple axis)\n",
    "4. ;\r\n",
    "multi-inset auto-lay ut:Axes.inset_axes with outset.layout_corner_insts."
   ]
  },
  {
   "attachments": {
    "a7242029-560f-427e-a85c-5b0aa8744b21.png": {
     "image/png": "[encoded data removed]"
    }
   },
   "cell_type": "markdown",
   "metadata": {},
   "source": [
    "# Advanced\n",
    "\n",
    "## Task probability density\n",
    "\n",
    "Create a scatterplot into the second axis with:\n",
    "1. The x-coordinate is the value of the bins from above\n",
    "2. For each bin you pull exactly as many evenly distributed random numbers as you have events in the bin. e.g. in the example from above approx 120  for x=3.5 (you can simply use the intensity from the histogram) multiply these numbers with the gaussian heigth calculated before so `height=np.random.rand(np.shape(y)[0])*gauss(x=y,mu=y.mean(),sigma=y.std())`\n",
    "4. use markersize 2 for this plot\n",
    "5. don't forget to label the axis and make a legend (use bbox_to_anchor to place it somewhere proper)\n",
    "\n",
    "Advanced:\n",
    "* In this scatterplot, plot all points inside the one sigma environment (=1/2 std diviation) of the mean in blue and all outside in red.\n",
    "* hint: you can externally create a \"slicing vector\" by e.g. `a=x>5` and combine multiple of those with e.g np.all or simply use if conditions.\n",
    "\n",
    "The final figure will look like this\n",
    "\n",
    "![density distribution.png](attachment:a7242029-560f-427e-a85c-5b0aa8744b21.png)\n",
    "\n",
    "### Explanation:\n",
    "If I throw a dice 100 times then in 68% of all cases the \"real value\" will be within the standard diviation of the data assuming that the data is normal distributed (like most measurements) often this is used as \"error\" of the measurement. for large number of discrete throws of dices this works, because of the:\n",
    "https://en.wikipedia.org/wiki/Central_limit_theorem\n",
    "\n",
    "We speak about the experiment (discrete value) and the model (the gaussian or normal distributed data). So the discrete model in fact says: If I throw my dice 100 times I will most likely get something around 350 as the sum of these throws and with 68% probability my result will lay within $350\\pm 15$.\n",
    "\n",
    "Important to remember: the variance is the 65% environment. To be more sure people often use the \"two sigma environment\" which then contains 98%\n",
    "\n",
    "So with other words what from the statistics we can say is that the average of 100 dice throws will lay with 98% certainty between $3.5 \\pm 2x0.15$ or between 3.2 and 3.8. The latter is what a careful scientist would say! Now quite instructive is to test how does this scale with the number of dice throws."
   ]
  },
  {
   "cell_type": "markdown",
   "metadata": {},
   "source": []
  },
  {
   "cell_type": "markdown",
   "metadata": {},
   "source": [
    "## combined matlab type plotting and object type plotting"
   ]
  },
  {
   "cell_type": "markdown",
   "metadata": {},
   "source": [
    "There is a way to go from one type of plotting to the other by first getting a handle to the figure with <br>\n",
    "`fig=plt.gcf()` #get current figure <br>\n",
    "Then get a handle to all the axes <br>\n",
    "`ax=fig.get_axes()` #get all axes <br>\n",
    "If the figure only contains a single axes one can do this<br>\n",
    "`ax=plt.gca()` #get current axis\n",
    "\n",
    "Anyhow it is very confusing to combine both ways of plotting. So for any serious plotting use the object type plotting from the beginning!"
   ]
  },
  {
   "cell_type": "markdown",
   "metadata": {},
   "source": [
    "## 2D plotting\n",
    "\n",
    "2d plotting (as 3d plotting) means that you have to create coordinate information for each point of you matrix. so the first point need (1,1,z(1,1)) and so on. There are many ways how to do this, but np.meshgrid is a usual and fast way. Observe the difference between pcolormesh and imshow. The point is that a mesh is more than an image. It really has an axis that can be distorted."
   ]
  },
  {
   "cell_type": "code",
   "execution_count": null,
   "metadata": {},
   "outputs": [],
   "source": [
    "#lets plot a gaussian in 2d\n",
    "x = np.arange(-5, 5, 0.1)\n",
    "X, Y = np.meshgrid(x, x)\n",
    "def gauss2d(X, Y, mu = (0,0), sigma = (1, 1)):\n",
    "    scale = (sigma[0] + sigma[1]) * 2 * np.pi\n",
    "    expo = (X - mu[0])**2 / (-2 * sigma[0]**2) + (Y - mu[1])**2 / (-2 * sigma[1]**2)\n",
    "    return np.e**expo / scale\n",
    "Z = gauss2d(X, Y)"
   ]
  },
  {
   "cell_type": "code",
   "execution_count": null,
   "metadata": {},
   "outputs": [],
   "source": [
    "fig,ax=plt.subplots(1,3,figsize=(16,4))\n",
    "ax[0].imshow(Z)\n",
    "ax[1].pcolormesh(X,Y,Z,cmap='viridis')\n",
    "ax[2].pcolor(X,Y,Z,cmap='viridis')"
   ]
  },
  {
   "cell_type": "markdown",
   "metadata": {},
   "source": [
    "### Task\n",
    "create a sinodual wave. In the x-dimension the function follows a sinus. In y-dimension it follows a gaussian.\n",
    "Hint: check np.tile and np.outer for help\n",
    "plot this wave in 2d in a suitable region"
   ]
  },
  {
   "cell_type": "code",
   "execution_count": null,
   "metadata": {},
   "outputs": [],
   "source": []
  },
  {
   "cell_type": "markdown",
   "metadata": {},
   "source": [
    "Advanced: There are other libraries that provide you with interactive 2d/3d plots. This is one of the useful ones."
   ]
  },
  {
   "cell_type": "code",
   "execution_count": null,
   "metadata": {},
   "outputs": [],
   "source": [
    "from mpl_toolkits.mplot3d import Axes3D\n",
    "fig= plt.figure(figsize=(16,8))\n",
    "ax= fig.add_subplot(projection='3d')\n",
    "surf=ax.plot_surface(X,Y,Z,cmap='jet',antialiased=False)\n",
    "ax.contourf(X, Y, Z, zdir='z',offset=-0.05, cmap='jet')\n",
    "ax.contourf(X, Y, Z, zdir='x',offset=-5,cmap='jet')\n",
    "ax.contourf(X, Y, Z, zdir='y',offset=5, cmap='jet')\n",
    "fig.colorbar(surf, shrink=0.5, aspect=10)\n",
    "ax.set_zlim3d(-0.05,0.06)\n",
    "ax.set_xlabel('x-axis',labelpad=15)\n",
    "ax.set_ylabel('y-axis',labelpad=15)\n",
    "ax.set_zlabel('z-axis',labelpad=15)"
   ]
  },
  {
   "cell_type": "code",
   "execution_count": null,
   "metadata": {},
   "outputs": [],
   "source": []
  }
 ],
 "metadata": {
  "kernelspec": {
   "display_name": "Python 3 (ipykernel)",
   "language": "python",
   "name": "python3"
  },
  "language_info": {
   "codemirror_mode": {
    "name": "ipython",
    "version": 3
   },
   "file_extension": ".py",
   "mimetype": "text/x-python",
   "name": "python",
   "nbconvert_exporter": "python",
   "pygments_lexer": "ipython3",
   "version": "3.11.9"
  }
 },
 "nbformat": 4,
 "nbformat_minor": 4
}
