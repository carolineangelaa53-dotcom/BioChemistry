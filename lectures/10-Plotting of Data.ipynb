{
 "cells": [
  {
   "cell_type": "code",
   "execution_count": null,
   "metadata": {},
   "outputs": [],
   "source": [
    "import matplotlib\n",
    "import matplotlib.pyplot as plt\n",
    "import pandas as pd\n",
    "import numpy as np"
   ]
  },
  {
   "cell_type": "markdown",
   "metadata": {},
   "source": [
    "# Plotting"
   ]
  },
  {
   "cell_type": "markdown",
   "metadata": {},
   "source": [
    "What does plotting actually mean? <br>\n",
    "import matplotlib.pyplot as plt <br>\n",
    "[Matplotlib backends](https://matplotlib.org/tutorials/introductory/usage.html#backends)"
   ]
  },
  {
   "cell_type": "code",
   "execution_count": null,
   "metadata": {},
   "outputs": [],
   "source": [
    "#standard plotting\n",
    "plt.plot(np.arange(-5,5,0.01),np.sin(2*np.pi*np.arange(-5,5,0.01)))\n",
    "plt.xlim((-4,4)) # the order matters!\n",
    "plt.show()  # needed as we do not plot interactive"
   ]
  },
  {
   "cell_type": "markdown",
   "metadata": {},
   "source": [
    "## before changing the backend you have to restart the kernel (under Kernel/Restart & clear output)"
   ]
  },
  {
   "cell_type": "code",
   "execution_count": null,
   "metadata": {},
   "outputs": [],
   "source": [
    "%matplotlib notebook  \n",
    "#interactives and powerfull backend\n",
    "plt.ion()  #interactives plotting\n",
    "plt.plot(np.arange(-5,5,0.01),np.sin(2*np.pi*np.arange(-5,5,0.01)))\n",
    "plt.xlim((-4,4)) # the order matters!"
   ]
  },
  {
   "cell_type": "markdown",
   "metadata": {},
   "source": [
    "So a plot has a Frame = Figure = The window \n",
    "and what is plotted on it = the axis.\n",
    "\n",
    "### All of this was matlab type plotting. Which means we plot without thinking what and where we plot"
   ]
  },
  {
   "cell_type": "markdown",
   "metadata": {},
   "source": [
    "But what does a plot consist of?\n",
    "<div>\n",
    "<img src=\"http://www.jensuhlig.de/Kemm30/KEMM30_006.png\" width=\"600\">\n",
    "</div>"
   ]
  },
  {
   "cell_type": "markdown",
   "metadata": {},
   "source": [
    "### Matlab style plotting $\\leftrightarrow $ Object style plotting, why make it more complicate?\n",
    "our convention: we use matlab type plotting for quick convenience and the object type for everything else"
   ]
  },
  {
   "cell_type": "markdown",
   "metadata": {},
   "source": [
    "First we create a figure:"
   ]
  },
  {
   "cell_type": "code",
   "execution_count": null,
   "metadata": {
    "scrolled": true
   },
   "outputs": [],
   "source": [
    "fig=plt.figure()"
   ]
  },
  {
   "cell_type": "markdown",
   "metadata": {},
   "source": [
    "then we add an axis (the frame where the plot lives in)"
   ]
  },
  {
   "cell_type": "code",
   "execution_count": null,
   "metadata": {},
   "outputs": [],
   "source": [
    "ax=fig.add_subplot()"
   ]
  },
  {
   "cell_type": "code",
   "execution_count": null,
   "metadata": {},
   "outputs": [],
   "source": [
    "fig1.add_subplot?"
   ]
  },
  {
   "cell_type": "markdown",
   "metadata": {},
   "source": [
    "or we add multiple axis to the same figure. "
   ]
  },
  {
   "cell_type": "code",
   "execution_count": null,
   "metadata": {},
   "outputs": [],
   "source": [
    "fig1=plt.figure()\n",
    "ax1=fig1.add_subplot(2,1,1)  #add_subplot(nrows, ncols, index)\n",
    "ax2=fig1.add_subplot(2,1,2)  #add_second axes"
   ]
  },
  {
   "cell_type": "markdown",
   "metadata": {},
   "source": [
    "usually one can combine both in a single convenient line."
   ]
  },
  {
   "cell_type": "code",
   "execution_count": null,
   "metadata": {},
   "outputs": [],
   "source": [
    "fig2,ax=plt.subplots(1,2) #single axis"
   ]
  },
  {
   "cell_type": "markdown",
   "metadata": {},
   "source": [
    "The the multiple axes are in \"ax\" which is now a numpy array. If you rather write the separate figures by hand"
   ]
  },
  {
   "cell_type": "code",
   "execution_count": null,
   "metadata": {},
   "outputs": [],
   "source": [
    "fig3,(ax1,ax2)=plt.subplots(1,2) # does the same as above and is what I use for most of my plots"
   ]
  },
  {
   "cell_type": "markdown",
   "metadata": {},
   "source": [
    "The plotting is kind of like drawing a line in a specific axis. Note you plot in the place where you first have \"drawn\" the figure. This is the essential concept of interactive plotting. by simply calling \"fig3\" you can draw the figure again in a new window."
   ]
  },
  {
   "cell_type": "code",
   "execution_count": null,
   "metadata": {},
   "outputs": [],
   "source": [
    "x=np.arange(0,4,0.01)\n",
    "ax1.plot(x,np.sin(2*np.pi*x))   #plot in axis 1\n",
    "ax2.plot(x,np.cos(2*np.pi*x))   #plot in axis 2"
   ]
  },
  {
   "cell_type": "markdown",
   "metadata": {},
   "source": [
    "fig3.savefig('save_my_figure.png') #writes the result to disk in various formats (png, pdf, svg, ...) "
   ]
  },
  {
   "cell_type": "markdown",
   "metadata": {},
   "source": [
    "### Ticks"
   ]
  },
  {
   "cell_type": "code",
   "execution_count": null,
   "metadata": {},
   "outputs": [],
   "source": [
    "#set ticks manual\n",
    "ax.set_xticks(np.arange(0,4,0.5))\n",
    "\n",
    "#set ticks manual\n",
    "a=ax.get_xticks()                          # get the values of the ticks\n",
    "ax.set_xticklabels(['%.2f'%b for b in a])  #the labels are text! so all text replacement \n",
    "                                           # works and we can shape the text as we want\n",
    "\n",
    "#set axis label\n",
    "ax.set_xlabel('schniffndiff')    \n",
    "\n",
    "#legend\n",
    "leg=ax.legend(frameon=False,loc=4)\n",
    "\n",
    "#here a way to make the general fonts bigger (until you change it back)\n",
    "import matplotlib\n",
    "font = {'family' : 'Arial Unicode MS',\n",
    "    'weight' : 'bold',\n",
    "    'size'   : 24}\n",
    "matplotlib.rc('font', **font)"
   ]
  },
  {
   "cell_type": "markdown",
   "metadata": {},
   "source": [
    "### cheat sheets"
   ]
  },
  {
   "cell_type": "markdown",
   "metadata": {},
   "source": [
    "How should I ever remember all of this? $\\rightarrow$ you get used to it or you look it up/use a cheat sheet <br>\n",
    "https://python-graph-gallery.com/wp-content/uploads/Matplotlib_cheatsheet_datacamp.png      <br>\n",
    "Or look in the folder Cheat cheats"
   ]
  },
  {
   "cell_type": "markdown",
   "metadata": {},
   "source": [
    "### Task"
   ]
  },
  {
   "cell_type": "markdown",
   "metadata": {},
   "source": [
    "* Plot sinus and cosine in the same plot.<br>\n",
    "* Plot with two different RBG colours chose from the university colours see e.g. <br>\n",
    "    http://www.jensuhlig.de/Lund_university_inkscape.gpl\n",
    "  Important RGB colours are usually given as numbers between 0 and 255, but matplotlib wants numbers between 0 and 1.<br>\n",
    "  so rgb_arry=np.array([0,0,188])/255. "
   ]
  },
  {
   "cell_type": "markdown",
   "metadata": {},
   "source": [
    "## Some statistics to get interesting data for plotting"
   ]
  },
  {
   "cell_type": "markdown",
   "metadata": {},
   "source": [
    "For learning how to make propper plots we start with an experiment in statistics <br>\n",
    "we want to measure what is the average number of dots shown by a dice <br>\n",
    "This returns a single dice throw (test it a few times to see how it changes):"
   ]
  },
  {
   "cell_type": "code",
   "execution_count": null,
   "metadata": {},
   "outputs": [],
   "source": [
    "print(np.random.choice([1,2,3,4,5,6]))"
   ]
  },
  {
   "cell_type": "markdown",
   "metadata": {},
   "source": [
    "This returns a vector with 100 dice throws:"
   ]
  },
  {
   "cell_type": "code",
   "execution_count": null,
   "metadata": {},
   "outputs": [],
   "source": [
    "x=np.random.choice([1,2,3,4,5,6],size=(100))\n",
    "print(x.shape)\n",
    "print('The mean of 100 dice throws is:{}'.format(x.mean()))"
   ]
  },
  {
   "cell_type": "markdown",
   "metadata": {},
   "source": [
    "and this will create a matrix with 1000x 100 dice throws in x\n",
    "and then we calculate for y the mean for each of the 1000 set of 100 throws."
   ]
  },
  {
   "cell_type": "code",
   "execution_count": null,
   "metadata": {},
   "outputs": [],
   "source": [
    "x=np.random.choice([1,2,3,4,5,6],size=(100,1000))\n",
    "print(x.shape)\n",
    "y=x.mean(axis=0)\n",
    "print(y.shape)"
   ]
  },
  {
   "cell_type": "markdown",
   "metadata": {},
   "source": [
    "### Tasks "
   ]
  },
  {
   "cell_type": "markdown",
   "metadata": {},
   "source": [
    "* use fontsize 18 and make a figure with 14x14 inch size using the pre handle option from above\n",
    "* use subplots to make two horizontal plots over the whole width."
   ]
  },
  {
   "cell_type": "markdown",
   "metadata": {},
   "source": [
    "* read what np.histogram does, The function returns the \"edges\" of the bins and the counts in each bin. Why are they of different length? Classically one takes the middle of the bins to create  nice plot with <br>\n",
    "middle_bins=(bins[:-1]+bins[1:])/2<br>\n",
    "* create a vector that contains the bins from 0 to 7 in 0.05 steps, calculate the histrogram and catch its two output vectors\n",
    "* plot the histogram using a bar plot with grey bars in the second axis. "
   ]
  },
  {
   "cell_type": "markdown",
   "metadata": {},
   "source": [
    "* plot in the second axis a gaussian function with mu=y.mean() of all experiments, and is sigma=standard_deviation(with ddof=1) of all experiments. and multiply the gaussian with 50. Why does this match so well?\n",
    "* label all the x- and y scales \n",
    "* change the x-axis from 2.5 to 4.5\n",
    "* format the x-axis ticks to have precisely 2 after comma digits\n",
    "* format the y-axis in scientific notation (using exponents)\n",
    "* make a legend in the upper left corner. in the legend write the entries and colors you plotted\n",
    "* find a way to add extra text to the legend and write the parameters of the gaussian curve into the plot (not the legend!)"
   ]
  },
  {
   "cell_type": "code",
   "execution_count": null,
   "metadata": {},
   "outputs": [],
   "source": [
    "font = {'family' : 'Arial Unicode MS',\n",
    "    'weight' : 'bold',\n",
    "    'size'   : 16}\n",
    "matplotlib.rc('font', **font)"
   ]
  },
  {
   "cell_type": "markdown",
   "metadata": {
    "scrolled": true
   },
   "source": [
    "The final figure will look like this, we have plotted the first half for now\n",
    "<div>\n",
    "<img src=\"http://www.jensuhlig.de/Kemm30/first_half.png\" width=\"600\">\n",
    "</div>"
   ]
  },
  {
   "cell_type": "markdown",
   "metadata": {},
   "source": [
    "* Add a scatterplot into the second axis where each experiment of 100 throws is a single point. <br>\n",
    "The x-coordinate is the mean of the 100 throws = y. <br>\n",
    "The y-coordinate is for each point randomly chosen between 0 and the height of the gaussian. <br>\n",
    "np.random.rand() gives [0-1). if you multiply it with the gaussian heigth calculated before you can achieve this effect.<br>\n",
    "height=np.random.rand(np.shape(y)[0])*gauss(x=y,mu=y.mean(),sigma=y.std())\n",
    "* use markersize 2 for this plot\n",
    "* don't forget to label the axis and make a legend (use bbox_to_anchor to place it somewhere proper)\n",
    "* Save the resulting figure as png with 250dpi and as svg for further customisation"
   ]
  },
  {
   "cell_type": "markdown",
   "metadata": {},
   "source": [
    "Advanced:\n",
    "* In this scatterplot, plot all points inside the one sigma environment (=1/2 std diviation) of the mean in blue and all outside in red.\n",
    "* hint: you can externally create a \"slicing vector\" by e.g. a=x>5 and combine multiple of thos with e.g np.all\n",
    "* write in the legend in addition to the colour the total number of counts in each group. (hint, use sum on t"
   ]
  },
  {
   "cell_type": "markdown",
   "metadata": {},
   "source": [
    "The final figure will look like this\n",
    "<div>\n",
    "<img src=\"http://www.jensuhlig.de/Kemm30/second_half.png\" width=\"600\">\n",
    "</div>"
   ]
  },
  {
   "cell_type": "markdown",
   "metadata": {},
   "source": [
    "If I throw a dice 100 times then in 68% of all cases the \"real value\" will be within the standard diviation of the data assuming that the data is normal distributed (like most measurements) often this is used as \"error\" of the measurement. for large number of discrete throws of dices this works, because of the:\n",
    "https://en.wikipedia.org/wiki/Central_limit_theorem\n",
    "\n",
    "We speak about the experiment (discrete value) and the model (the gaussian or normal distributed data). So the discrete model in fact says: If I throw my dice 100 times I will most likely get something around 350 as the sum of these throws and with 68% probability my result will lay within $350\\pm 15$.\n",
    "\n",
    "Looking into this webpage you will find that this spread of the data can be estimated by the variance of the experiment.\n",
    "Remember the standard deviation was defined as $\\sqrt{\\frac{\\sum_n{x_i - \\bar x}^2}{n-1}}$ carefully, there are two $\\sqrt{\\frac{\\sum_n{x_i - \\bar x}^2}{n}}$\n",
    "\n",
    "As a wild guess, the average is somewhere in the middle, so $\\frac{1+6}{2}=3.5$ is the mean and $2.5^2 + 2.5^2$ the total width. Or \n",
    "\n",
    "$\\bar x \\pm std(x)/2$ \n",
    "\n",
    "is your confidence interval\n",
    "\n",
    "Important to remember: the variance is the 65% environment. To be more sure people often use the \"two sigma environment\" which then contains 98%"
   ]
  },
  {
   "cell_type": "markdown",
   "metadata": {},
   "source": [
    "## Error bar plotting"
   ]
  },
  {
   "cell_type": "code",
   "execution_count": null,
   "metadata": {},
   "outputs": [],
   "source": [
    "url=\"http://www.jensuhlig.de/Kemm30/data_with_error.csv\"\n",
    "data=pd.read_csv(url,sep='\\t',index_col=0)\n",
    "data.head()"
   ]
  },
  {
   "cell_type": "code",
   "execution_count": null,
   "metadata": {},
   "outputs": [],
   "source": [
    "fig,ax=plt.subplots(1,2,figsize=(16,4))\n",
    "x=data.index\n",
    "y=data.iloc[:,0]\n",
    "yerr=data.iloc[:,1]\n",
    "ax[0].errorbar(x=x,y=y,yerr=yerr,fmt='o',capsize=3)\n",
    "ax[1].plot(x, y,color='black')\n",
    "ax[1].fill_between(x,y-yerr,y+yerr,facecolor='grey',edgecolor='face',alpha=0.5)\n",
    "ax[0].set_xlabel('time[s]');ax[1].set_xlabel('time[s]')\n",
    "ax[0].set_ylabel(r'log($1-\\frac{Abs}{Abs_{inf}}$)');ax[1].set_ylabel(r'log($1-\\frac{Abs}{Abs_{inf}}$)')"
   ]
  },
  {
   "cell_type": "markdown",
   "metadata": {},
   "source": [
    "### Task:\n",
    "In the dice throws above we could draw a gaussian function over the histogram of the dice throws. For each point we are actually uncertain about where it actually is. classically one uses a poisson estimator to evaluate how certain we are about the intensity at this point. So for each point of gaus(x) we can use $\\sqrt{gauss(x)}$ as an error bar. <br>\n",
    "Replace the gauss curve in the plot above with a point by point calculation using error bars"
   ]
  },
  {
   "cell_type": "markdown",
   "metadata": {},
   "source": [
    "# Advanced"
   ]
  },
  {
   "cell_type": "markdown",
   "metadata": {},
   "source": [
    "## combined matlab type plotting and object type plotting"
   ]
  },
  {
   "cell_type": "markdown",
   "metadata": {},
   "source": [
    "There is a way to go from one type of plotting to the other by first getting a handle to the figure with <br>\n",
    "fig=plt.gcf() #get current figure <br>\n",
    "Then get a handle to all the axes <br>\n",
    "ax=fig.get_axes() #get all axes <br>\n",
    "If the figure only contains a single axes one can do this<br>\n",
    "ax=plt.gca() #get current axis\n",
    "\n",
    "Anyhow it is very confusing to combine both ways of plotting. So for any serious plotting use the object type plotting from the beginning!"
   ]
  },
  {
   "cell_type": "markdown",
   "metadata": {},
   "source": [
    "## 2D plotting\n",
    "\n",
    "2d plotting (as 3d plotting) means that you have to create coordinate information for each point of you matrix. so the first point need (1,1,z(1,1)) and so on. There are many ways how to do this, but np.meshgrid is a usual and fast way. Observe the difference between pcolormesh and imshow. The point is that a mesh is more than an image. It really has an axis that can be distorted."
   ]
  },
  {
   "cell_type": "code",
   "execution_count": null,
   "metadata": {},
   "outputs": [],
   "source": [
    "#lets plot a gaussian in 2d\n",
    "x=np.arange(-5,5,0.1)\n",
    "X,Y=np.meshgrid(x,x)\n",
    "def gauss2d(X,Y,mu=(0,0),sigma=(1,1)):\n",
    "    scale=(sigma[0]+sigma[1])*(2*np.pi)\n",
    "    expo=(X-mu[0])**2/(-2*sigma[0]**2)+(Y-mu[1])**2/(-2*sigma[1]**2)\n",
    "    return np.e**expo/scale\n",
    "Z=gauss2d(X,Y)"
   ]
  },
  {
   "cell_type": "code",
   "execution_count": null,
   "metadata": {},
   "outputs": [],
   "source": [
    "fig,ax=plt.subplots(1,3,figsize=(16,4))\n",
    "ax[0].imshow(Z)\n",
    "ax[1].pcolormesh(X,Y,Z,cmap='viridis')\n",
    "ax[2].pcolor(X,Y,Z,cmap='viridis')"
   ]
  },
  {
   "cell_type": "markdown",
   "metadata": {},
   "source": [
    "### Task\n",
    "create a sinodual wave. In the x-dimension the function follows a sinus. In y-dimension it follows a gaussian.\n",
    "Hint: check np.tile and np.outer for help\n",
    "plot this wave in 2d in a suitable region"
   ]
  },
  {
   "cell_type": "code",
   "execution_count": null,
   "metadata": {},
   "outputs": [],
   "source": []
  },
  {
   "cell_type": "markdown",
   "metadata": {},
   "source": [
    "Advanced: There are other libraries that provide you with interactive 2d/3d plots. This is one of the useful ones."
   ]
  },
  {
   "cell_type": "code",
   "execution_count": null,
   "metadata": {},
   "outputs": [],
   "source": [
    "from mpl_toolkits.mplot3d import Axes3D\n",
    "fig= plt.figure(figsize=(16,8))\n",
    "ax= fig.add_subplot(projection='3d')\n",
    "surf=ax.plot_surface(X,Y,Z,cmap='jet',antialiased=False)\n",
    "ax.contourf(X, Y, Z, zdir='z',offset=-0.05, cmap='jet')\n",
    "ax.contourf(X, Y, Z, zdir='x',offset=-5,cmap='jet')\n",
    "ax.contourf(X, Y, Z, zdir='y',offset=5, cmap='jet')\n",
    "fig.colorbar(surf, shrink=0.5, aspect=10)\n",
    "ax.set_zlim3d(-0.05,0.06)\n",
    "ax.set_xlabel('x-axis',labelpad=15)\n",
    "ax.set_ylabel('y-axis',labelpad=15)\n",
    "ax.set_zlabel('z-axis',labelpad=15)"
   ]
  }
 ],
 "metadata": {
  "kernelspec": {
   "display_name": "Python 3",
   "language": "python",
   "name": "python3"
  },
  "language_info": {
   "codemirror_mode": {
    "name": "ipython",
    "version": 3
   },
   "file_extension": ".py",
   "mimetype": "text/x-python",
   "name": "python",
   "nbconvert_exporter": "python",
   "pygments_lexer": "ipython3",
   "version": "3.8.11"
  }
 },
 "nbformat": 4,
 "nbformat_minor": 2
}
