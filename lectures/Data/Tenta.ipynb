{
 "cells": [
  {
   "cell_type": "markdown",
   "id": "3c7a4534",
   "metadata": {},
   "source": [
    "# Tenta task\n",
    "\n",
    "|Task                                                                         |points|summed|\n",
    "|-----------------------------------------------------------------------------|------|      |\n",
    "| 1. start by writing your dataset number in the notebook title. (cell below) |      |      |\n",
    "| 2. Open the file with your number name syntax: \"Person_01.csv\"              | 1pt  |      |\n",
    "| 3. Extract the data from the plot. The target data is named \"data\"          |      |      |\n",
    "|    the x-axis is the first column                                           | 1pt  |      |\n",
    "| 4. Extract the peak positions, width and areas using a fitting procedure    | 5pt  |      |\n",
    "| 5. Extract the peak area using another area measuring approach              | 1pt  |      |\n",
    "| 6. Create a Figure with one axis                                            | 1pt  |      |\n",
    "| 7. Plot the data as dots and your fit as lines                              | 1pt  |      |\n",
    "| 8. add a legend that describes the content                                  | 1pt  |      |\n",
    "| 9. write the results of the fit and area measurement into the plot          | 1pt  |      |\n",
    "| 10.label axis and add your number and name as title to the figure           | 1pt  |      |\n",
    "| 11.Save the figure as pdf                                                   | 1pt  | 14pt |\n",
    "|                                                                             |      |      |\n",
    "| 12.Creat figure a second and create three subplots horizontally             | 1pt  |      |\n",
    "| 13.load the image \"strut.jpg\" webpage, Data folder, or this folder          | 1pt  |      |\n",
    "| 14.plot the image on the first axis                                         | 1pt  |      |\n",
    "| 15.on the second axis plot the image in grey values                         | 1pt  |      |\n",
    "| 16.on the third axis plot the image with an optimized (adjusted) grey scale | 1pt  |      |\n",
    "| 17.remove the pixel number from all plots and save the plot as png          | 1pt  | 20pt |\n",
    "|                                                                             |      |      |\n",
    "Finally send both images and the notebook to me via email."
   ]
  },
  {
   "cell_type": "markdown",
   "id": "b37bfa02",
   "metadata": {},
   "source": [
    "Number:\n",
    "1. Carl Johan Hagströmer\n",
    "2. Albin Hedse\n",
    "3. Safi Rafie-Zinedine\n",
    "4. Rezvan Tahouri\n",
    "5. Moritz Tritschler\n",
    "6. Enrico Turato\n",
    "7. Julia Valderas Gutiérrez\n",
    "8. Zisheng Yao\n",
    "9. Esra Yilmaz"
   ]
  },
  {
   "cell_type": "code",
   "execution_count": null,
   "id": "07104d58",
   "metadata": {},
   "outputs": [],
   "source": []
  }
 ],
 "metadata": {
  "kernelspec": {
   "display_name": "Python 3 (ipykernel)",
   "language": "python",
   "name": "python3"
  },
  "language_info": {
   "codemirror_mode": {
    "name": "ipython",
    "version": 3
   },
   "file_extension": ".py",
   "mimetype": "text/x-python",
   "name": "python",
   "nbconvert_exporter": "python",
   "pygments_lexer": "ipython3",
   "version": "3.9.12"
  }
 },
 "nbformat": 4,
 "nbformat_minor": 5
}
