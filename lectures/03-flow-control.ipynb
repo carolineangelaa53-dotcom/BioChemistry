{
 "cells": [
  {
   "cell_type": "markdown",
   "metadata": {},
   "source": [
    "# Flow control in Python\n",
    "\n",
    "The following are some of the most common methods to control flow and repeat the same code using _loops_. This is not unique to Python and similar functionality is present in almost all programming languages.\n",
    "\n",
    "## if-elif-else\n",
    "\n",
    "Run and explore the follow code snippet:\n",
    "\n",
    "~~~ python\n",
    "if name == 'Na':\n",
    "    print('sodium')\n",
    "elif name == 'K':\n",
    "    print('potassium')\n",
    "else:\n",
    "    print('unknown element')\n",
    "~~~\n",
    "\n",
    "Task:\n",
    "\n",
    "1. Why do you get an error?\n",
    "1. expand the code to also print the molecular weight on a new line.\n",
    "2. what is the significance of the `:` and the following indentation?"
   ]
  },
  {
   "cell_type": "markdown",
   "metadata": {},
   "source": [
    "### useful trick for Notebooks "
   ]
  },
  {
   "cell_type": "code",
   "execution_count": null,
   "metadata": {},
   "outputs": [],
   "source": [
    "if 0:\n",
    "    print('this code will not be excecuted until I change the \"0\" to \"1\"')\n",
    "    print('Use this switch to turn on and off a cell')\n",
    "if 1:\n",
    "    print('check under the Cell tap in the top to understand why you should make sure only the code you want is executed')"
   ]
  },
  {
   "cell_type": "markdown",
   "metadata": {},
   "source": [
    "## while loop\n",
    "\n",
    "Continue running the code inside the statement until a condition is met. It is also possible to stop the loop at anytime using `break`.\n",
    "\n",
    "Run and explore the following code snippet:\n",
    "\n",
    "~~~ python\n",
    "while counter<10:\n",
    "    print(counter)\n",
    "~~~\n",
    "\n",
    "Task:\n",
    "\n",
    "1. Why do you get an error?\n",
    "2. modify the code so that the loop stops at 5 using the [`break` statement](https://docs.python.org/2.0/ref/break.html)."
   ]
  },
  {
   "cell_type": "markdown",
   "metadata": {},
   "source": [
    "## for-loop\n",
    "\n",
    "The for-loop has the general form:\n",
    "\n",
    "~~~ py\n",
    "for target in iterable:\n",
    "    statement(s)\n",
    "~~~\n",
    "\n",
    "Task:\n",
    "\n",
    "Run this code,\n",
    "\n",
    "~~~ py\n",
    "for i in X:\n",
    "    print(i)\n",
    "~~~\n",
    "\n",
    "where you set `X=[10,20,30]`, then `X='dull'`. \n",
    "\n",
    "- Explain what is happening\n",
    "- for the last example, `break` the loop if the letter \"u\" is detected"
   ]
  },
  {
   "cell_type": "code",
   "execution_count": null,
   "metadata": {},
   "outputs": [],
   "source": [
    "\n"
   ]
  },
  {
   "cell_type": "markdown",
   "metadata": {},
   "source": [
    "Quite often it is usefull to know where (at what position) you are in the loop. This can be done by the function enumerate in the following way"
   ]
  },
  {
   "cell_type": "code",
   "execution_count": null,
   "metadata": {},
   "outputs": [],
   "source": [
    "listen = ['H','He','Li','Be','B']  #list_to_iterate_over \n",
    "for index,entry_in_list in enumerate(listen):\n",
    "    print(index,entry_in_list)"
   ]
  },
  {
   "cell_type": "markdown",
   "metadata": {},
   "source": [
    "one can use this for example to select an entry in another list that is at the same position \n",
    "\n",
    "## Task:\n",
    "Modify the following loop to print the atomic number, name and mass for each of the elements.<br>\n",
    "hint: \"mylist[i]\" is the \"i\"th entry in the list. Important, in python we start counting with \"0\" "
   ]
  },
  {
   "cell_type": "code",
   "execution_count": null,
   "metadata": {},
   "outputs": [],
   "source": [
    "List_to_iterate_over = ['H','He','Li','Be','B']\n",
    "An = [1,2,3,4,5] # atomic number\n",
    "M = [1.01,4.00,6.94,9.01,10.81] # Molar mass\n",
    "for index,entry_in_list in enumerate(List_to_iterate_over):\n",
    "    continue  # simply continue the loop without doing anything"
   ]
  },
  {
   "cell_type": "code",
   "execution_count": null,
   "metadata": {},
   "outputs": [],
   "source": []
  },
  {
   "cell_type": "markdown",
   "metadata": {},
   "source": [
    "Later you will learn that something like this \"lookup\" can be done more elegant by using dictionaries or DataFrames. <br> "
   ]
  },
  {
   "cell_type": "markdown",
   "metadata": {},
   "source": [
    "# Advanced\n",
    "## Error catching as switch\n",
    "\n",
    "A typical approach in python is to \"ask for forgivenes and not permission\". Meaning very often one assumes that the sections/code will run for the standard use, and tries to catch when it fails (=gives and error)\n",
    "\n",
    "The most used way for that is to use the syntax:\n",
    "\n",
    "```py\n",
    "    try:\n",
    "        print('run the code that might fail')\n",
    "    except:\n",
    "        print('execute here what is to be done when it fails')\n",
    "```\n",
    "\n",
    "you can generate errors by using the **raise** if you want to use this as a standard switch\n",
    "\n",
    "If you know exactly why it will fail (e.g. you triggered it) then this is a good way otherwise I would always let the code print the actual error message too with:\n",
    "\n",
    "```py\n",
    "    try:\n",
    "        print('run the code that might fail')\n",
    "    except Exception as e:\n",
    "        print(e)\n",
    "        print('execute here what is to be done when it fails')\n",
    "```\n",
    "Advanced coders usually use to also filter after what type of error is generated, to avoid this problem. In the \"zen of python\" the mantra is that an error should never pass unobserved.\n",
    "\n",
    "\n",
    "\n",
    "## Task \n",
    "1. generate a code that produces and error and catch it.\n",
    "2. Check what ``` import this``` returns\n",
    "    "
   ]
  },
  {
   "cell_type": "code",
   "execution_count": null,
   "metadata": {},
   "outputs": [],
   "source": []
  }
 ],
 "metadata": {
  "kernelspec": {
   "display_name": "Python 3 (ipykernel)",
   "language": "python",
   "name": "python3"
  },
  "language_info": {
   "codemirror_mode": {
    "name": "ipython",
    "version": 3
   },
   "file_extension": ".py",
   "mimetype": "text/x-python",
   "name": "python",
   "nbconvert_exporter": "python",
   "pygments_lexer": "ipython3",
   "version": "3.12.7"
  }
 },
 "nbformat": 4,
 "nbformat_minor": 4
}
