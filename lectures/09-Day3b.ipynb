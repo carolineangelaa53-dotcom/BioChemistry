{
 "cells": [
  {
   "cell_type": "markdown",
   "metadata": {},
   "source": [
    "# Day 3, Numpy, Pandas, plotting and all the data thing"
   ]
  },
  {
   "cell_type": "code",
   "execution_count": null,
   "metadata": {},
   "outputs": [],
   "source": [
    "import matplotlib.pyplot as plt,os,time\n",
    "import numpy as np\n",
    "try:#need to find the path to this file\n",
    "    path=os.getcwd()\n",
    "    if not os.path.exists(path + os.sep + 'Day3.ipynb'):raise\n",
    "except:\n",
    "    try:\n",
    "        path='Kemm30_path'#manual_path_here\n",
    "        if not os.path.exists(path + os.sep + 'Day3.ipynb'):raise\n",
    "    except:\n",
    "        print('please set the manual  path since the automatic seems to have failed')\n",
    "im_path=path + os.sep + 'pictures'; dirList=os.listdir(im_path);dirList.sort();img=[]\n",
    "for filen in dirList:\n",
    "    try:\n",
    "        img.append(plt.imread(im_path + os.sep+ filen))\n",
    "    except:\n",
    "        print(filen)\n",
    "def sho(img,figsize=(12,6),grey=True,save=None):\n",
    "    fig,ax=plt.subplots(figsize=figsize)\n",
    "    if grey:\n",
    "        ax.imshow(img,cmap='gray', vmin=0, vmax=255)\n",
    "    else:\n",
    "        ax.imshow(img)\n",
    "    ax.axis('off')\n",
    "    if save is not None:fig.savefig(os.sep.join([path,'task_pictures','kemm30_day3_task1_' + save + '.png']))\n",
    "    return True\n",
    "def make_smiley():\n",
    "    arrayen=np.zeros((9,7))\n",
    "    coord=[(2,2),(2,4),(4,1),(4,-2),(5,2),(5,-3),(6,3)]\n",
    "    for c in coord:\n",
    "        arrayen[c]=1\n",
    "    arrayen[arrayen>0]=255\n",
    "    arrayen[arrayen<1]=128\n",
    "    return arrayen\n",
    "arrayen=make_smiley()"
   ]
  },
  {
   "cell_type": "code",
   "execution_count": null,
   "metadata": {},
   "outputs": [],
   "source": [
    "arr=make_smiley()\n",
    "sho(arr[:,1:],figsize=(6,6),save='1')\n",
    "sho(arr[:,:-1],figsize=(6,6),save='2')\n",
    "sho(arr[2:-2,:],figsize=(6,6),save='3')\n",
    "sho(arr[2:-2,1:-1],figsize=(6,6),save='4')\n",
    "sho(arr[:,::2],figsize=(6,6),save='5')\n",
    "\n",
    "arr[arr<254]=0\n",
    "sho(arr,figsize=(6,6),save='6')\n",
    "\n",
    "arr=make_smiley()\n",
    "arr[arr>200]=0\n",
    "arr[arr>100]=255\n",
    "sho(arr,figsize=(6,6),save='7')\n",
    "\n",
    "arr=np.array(range(16)).reshape((4,4))\n",
    "arr[arr>5]=128\n",
    "arr[arr<100]=0\n",
    "sho(arr,figsize=(6,6),save='8')\n",
    "\n",
    "arr=np.ones((64))*255\n",
    "arr[::2]=0\n",
    "arr=arr.reshape((8,8))\n",
    "arr[::2,:]=arr[::2,::-1]\n",
    "sho(arr,figsize=(6,6),save='9')\n"
   ]
  },
  {
   "cell_type": "code",
   "execution_count": null,
   "metadata": {},
   "outputs": [],
   "source": [
    "fig,ax=plt.subplots()\n",
    "ax.imshow(arr,cmap='gray')\n",
    "ax.axis('off')\n",
    "x=['A','B','C','D','E','F','G','H']\n",
    "y=[str(a) for a in range(1,9)]\n",
    "listen=[]\n",
    "for let in x:\n",
    "    for num in y:\n",
    "        listen.append(let+num)\n",
    "labels=np.array(listen).reshape((8,8))"
   ]
  },
  {
   "cell_type": "code",
   "execution_count": null,
   "metadata": {},
   "outputs": [],
   "source": [
    "from scipy import misc\n",
    "face = misc.face(gray=True)\n",
    "def contrast(image,gamma=1,lightness=0):\n",
    "    image=image.copy()\n",
    "    image=image*gamma\n",
    "    image=image+lightness\n",
    "    image.clip(min=0,max=255,out=image)\n",
    "    return np.array(image,dtype='int')\n",
    "\n",
    "face2=contrast(face,lightness=-100,gamma=1)\n",
    "face3=contrast(face,lightness=0,gamma=1.3)\n",
    "\n",
    "print('minimum is %.0f maximum is %.0f, mean is %.0f'%(face.min(),face.max(),face.mean()))\n",
    "print('minimum is %.0f maximum is %.0f, mean is %.0f'%(face2.min(),face2.max(),face2.mean()))\n",
    "print('minimum is %.0f maximum is %.0f, mean is %.0f'%(face3.min(),face3.max(),face3.mean()))\n",
    "\n",
    "fig,ax=plt.subplots(2,3,figsize=(16,8))\n",
    "ax[0,0].imshow(face,cmap='gray', vmin=0, vmax=255)\n",
    "ax[0,1].imshow(face2,cmap='gray', vmin=0, vmax=255)\n",
    "ax[0,2].imshow(face3,cmap='gray', vmin=0, vmax=255)\n",
    "[ax[0,i].axis('off') for i in range(3)]\n",
    "\n",
    "intensity,bins=np.histogram(face.ravel(),bins=range(0,255))\n",
    "ax[1,0].plot(bins[:-1],intensity,'*')\n",
    "intensity2,bins2=np.histogram(face2.ravel(),bins=range(0,255))\n",
    "ax[1,1].plot(bins2[:-1],intensity2,'*')\n",
    "intensity3,bins3=np.histogram(face3.ravel(),bins=range(0,255))\n",
    "ax[1,2].plot(bins3[:-1],intensity3,'*')\n",
    "[ax[1,i].set_ylim(0,6000) for i in range(3)]"
   ]
  },
  {
   "cell_type": "code",
   "execution_count": null,
   "metadata": {},
   "outputs": [],
   "source": [
    "shape=np.shape(face)\n",
    "lx,ly=shape\n",
    "X, Y = np.ogrid[0:lx, 0:ly]\n",
    "mask=((X-350)**2+(Y-650)**2>250**2)\n",
    "face4=face.copy()\n",
    "face4[mask]=0\n",
    "sho(face4,grey=True)"
   ]
  },
  {
   "cell_type": "code",
   "execution_count": null,
   "metadata": {},
   "outputs": [],
   "source": [
    "from scipy import ndimage\n",
    "sho(ndimage.interpolation.rotate(face,30),grey=True)"
   ]
  },
  {
   "cell_type": "code",
   "execution_count": null,
   "metadata": {},
   "outputs": [],
   "source": [
    "edge_detection=np.ones((3,3))*-1;edge_detection[1,1]=8\n",
    "sharpen=np.array([[0,-1,0],[-1,5,-1],[0,-1,0]])\n",
    "gauss_blur=np.array([[1,4,6,4,1],[4,16,24,16,4],[6,24,36,24,6],[4,16,24,16,4],[1,4,6,4,1]])*(1/256.)\n",
    "print('edge_detection');print(edge_detection)\n",
    "print('sharpen');print(sharpen)\n",
    "print('gauss_blur');print(gauss_blur)"
   ]
  },
  {
   "cell_type": "code",
   "execution_count": null,
   "metadata": {},
   "outputs": [],
   "source": [
    "coins= misc.ascent()\n",
    "coins1=ndimage.convolve(coins,edge_detection,mode='constant',cval=0)\n",
    "coins2=ndimage.convolve(coins,sharpen,mode='constant',cval=0)\n",
    "coins3=ndimage.convolve(coins,gauss_blur,mode='constant',cval=0)\n",
    "\n",
    "fig,ax=plt.subplots(1,4,figsize=(16,8))\n",
    "ax[0].imshow(coins1,cmap='gray', vmin=0, vmax=255)\n",
    "ax[0].set_title('edge_detection')\n",
    "ax[1].imshow(coins2,cmap='gray', vmin=0, vmax=255)\n",
    "ax[1].set_title('sharpen')\n",
    "ax[2].imshow(coins,cmap='gray', vmin=0, vmax=255)\n",
    "ax[2].set_title('original')\n",
    "ax[3].imshow(coins3,cmap='gray', vmin=0, vmax=255)\n",
    "ax[3].set_title('blurr')\n",
    "[ax[i].axis('off') for i in range(4)]"
   ]
  },
  {
   "cell_type": "markdown",
   "metadata": {},
   "source": [
    "### So what do we do with these things in matrix/array and why do we need them"
   ]
  },
  {
   "cell_type": "code",
   "execution_count": null,
   "metadata": {},
   "outputs": [],
   "source": [
    "#from numpy import sin,cos,pi\n",
    "x=np.arange(0,8,0.01)\n",
    "y=np.sin(2*np.pi*x)\n",
    "plt.plot(x,y)"
   ]
  },
  {
   "cell_type": "markdown",
   "metadata": {},
   "source": [
    "We can use them like variables, but they are actually vectors. \n",
    "They are FAAAAASSSSST for large amounts of data."
   ]
  },
  {
   "cell_type": "code",
   "execution_count": null,
   "metadata": {},
   "outputs": [],
   "source": [
    "from time import time\n",
    "import math\n",
    "x=range(int(1e7))\n",
    "start=time()\n",
    "y=[math.sin(2*math.pi*a/100.) for a in x]\n",
    "print(time()-start)"
   ]
  },
  {
   "cell_type": "code",
   "execution_count": null,
   "metadata": {},
   "outputs": [],
   "source": [
    "x=np.arange(1e7)\n",
    "start=time()\n",
    "y=np.sin(2*np.pi*x/100.)\n",
    "print(time()-start)\n",
    "from numpy import sin,cos,pi\n",
    "y=sin(2*pi*x/100.)"
   ]
  },
  {
   "cell_type": "markdown",
   "metadata": {},
   "source": [
    "and definitely easier to read and to plot"
   ]
  },
  {
   "cell_type": "markdown",
   "metadata": {},
   "source": [
    "###### Task: \n",
    "1. create a function that creates a gaussian bell curve.$g(x)=\\frac{1}{\\sigma\\sqrt{2\\pi}} e^{-\\frac{1}{2}((x-\\mu)/\\sigma)^2}$ \n",
    "2. Then create an x-vector from -5 to 6 in 0.1 steps and use the function to create y=my_func(x,mu=1,sigma=1)\n",
    "3. check the calculations with plt.plot(x,y), \n",
    "4. create a 2d vector with x and y in the columns and plot it again.  (hint check concatenate, hstack, vstack, if one doesn't work, test the others, try to understand why it doesn't work, not how to fix it)\n",
    "5. write this 2d vector to disc using np.savetxt, use 2 digits after the comma and a \";\" between the numbers\n",
    "6. read this matrix back in with np.loadtxt (check which orientation the vector has and create again a column vector)\n",
    "7. use trapz from numpy to integrate the area under the curve, \n",
    "8. manually sum the values (multiply each value in the y-vector by the width of the slize!). \n",
    "9. Print a sentence in which you compare the result. (Rounded to the 3, place after the comma and in a second sentence non rounded to emphasize the difference)\n",
    "10. create a dictionary with 'x' and 'y' as keys and the separate vectors as entries. \n",
    "11. write a function that plots the curve using this dictionary (you can assume the names are always x and y\n",
    "12. Create a new dictionary in which you add the resulting gaussian (y-only) for mu=1 and sigma from 0.5 to 2(inclusive) in 0.3 steps. Use a string that contains the mu and sigma values as keys for the dictionary (hint, pay attention to the formating, )\n",
    "12. import pandas as pd\n",
    "13. convert this dictionary into a Dataframe with df=pd.DataFrame(dictionary_name,index=x) here x is the x-values you used to create the gaussian. Now plot the whole using by writing df.plot() "
   ]
  },
  {
   "cell_type": "markdown",
   "metadata": {},
   "source": [
    "Advanced:\n",
    "    use np.meshgrid to make a symmetric two dimensional coordinate grid and create a function that calculates the two dimensional gauss curve and plot it with plt.pcolormesh\n",
    "now use this matrix as filter for the pictures from the first part of the lecture, what do you see?"
   ]
  },
  {
   "cell_type": "code",
   "execution_count": null,
   "metadata": {},
   "outputs": [],
   "source": []
  }
 ],
 "metadata": {
  "kernelspec": {
   "display_name": "Python 3",
   "language": "python",
   "name": "python3"
  },
  "language_info": {
   "codemirror_mode": {
    "name": "ipython",
    "version": 3
   },
   "file_extension": ".py",
   "mimetype": "text/x-python",
   "name": "python",
   "nbconvert_exporter": "python",
   "pygments_lexer": "ipython3",
   "version": "3.7.3"
  }
 },
 "nbformat": 4,
 "nbformat_minor": 2
}
