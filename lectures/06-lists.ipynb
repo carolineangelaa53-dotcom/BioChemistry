{
 "cells": [
  {
   "cell_type": "markdown",
   "metadata": {},
   "source": [
    "# Lists\n",
    "\n",
    "A `list` is a collection of variables of same or of different types. Lists are _mutable_ meaning they can be modified after they have been created. More information [here.](https://www.tutorialspoint.com/python/python_lists)\n",
    "\n",
    "\n",
    "## Creation and Common Operations"
   ]
  },
  {
   "cell_type": "code",
   "execution_count": null,
   "metadata": {},
   "outputs": [],
   "source": [
    "l = [] # an empty list\n",
    "len(l)"
   ]
  },
  {
   "cell_type": "markdown",
   "metadata": {},
   "source": [
    "Appending is maybe the most useful function a list provides. While running a code information can be added to the end of the list, and the list grows. (see length)  "
   ]
  },
  {
   "cell_type": "code",
   "execution_count": null,
   "metadata": {},
   "outputs": [],
   "source": [
    "l.append(3.4) # append something to the end of the list\n",
    "print(l, len(l))"
   ]
  },
  {
   "cell_type": "code",
   "execution_count": null,
   "metadata": {},
   "outputs": [],
   "source": [
    "l.clear() # clear list\n",
    "len(l)"
   ]
  },
  {
   "cell_type": "code",
   "execution_count": null,
   "metadata": {},
   "outputs": [],
   "source": [
    "['a', 1]*3 # elements in lists can be repeated"
   ]
  },
  {
   "cell_type": "code",
   "execution_count": null,
   "metadata": {},
   "outputs": [],
   "source": [
    "[10,20,30,40,50][0:2] # lists are sliced in the same way as strings"
   ]
  },
  {
   "cell_type": "code",
   "execution_count": null,
   "metadata": {},
   "outputs": [],
   "source": [
    "l = [True, 'dude']\n",
    "print(l)\n",
    "l[0] = 200 # lists are \"mutable\" and we can change an element to another type at will\n",
    "print(l)\n",
    "l[0], l[1] = l[1], l[0] # we can also swap elements\n",
    "print(l)"
   ]
  },
  {
   "cell_type": "markdown",
   "metadata": {},
   "source": [
    "### Exercise\n",
    "\n",
    "Make the following code sort the list in _reverse_ order so that the new list starts with `[100, 35, ...]`"
   ]
  },
  {
   "cell_type": "code",
   "execution_count": null,
   "metadata": {},
   "outputs": [],
   "source": [
    "l = [100,35,1,-20] # a list of integers\n",
    "l.sort() # numerically sort the list\n",
    "l"
   ]
  },
  {
   "cell_type": "markdown",
   "metadata": {},
   "source": [
    "### A list can hold multiple types\n",
    "\n",
    "The elements of a list can have arbitrary types."
   ]
  },
  {
   "cell_type": "code",
   "execution_count": null,
   "metadata": {},
   "outputs": [],
   "source": [
    "mylist = [2, 1.5, 'dude', True, 'a'] # int, float, str, bool, str\n",
    "mylist"
   ]
  },
  {
   "cell_type": "code",
   "execution_count": null,
   "metadata": {},
   "outputs": [],
   "source": [
    "mylist[1] # index 1 points to the *second* element; counting always starts from ZERO "
   ]
  },
  {
   "cell_type": "code",
   "execution_count": null,
   "metadata": {},
   "outputs": [],
   "source": [
    "len(mylist) # number of elements"
   ]
  },
  {
   "cell_type": "code",
   "execution_count": null,
   "metadata": {},
   "outputs": [],
   "source": [
    "for i in mylist: # loop over every item in list\n",
    "    print(i, type(i))"
   ]
  },
  {
   "cell_type": "markdown",
   "metadata": {},
   "source": [
    "## List Comprehensions\n",
    "\n",
    "We can loop or iterate over a list, filter it, and apply a function in a very short-hand notation using [_list comprehensions_](https://www.pythonforbeginners.com/basics/list-comprehensions-in-python) with the following syntax:\n",
    "\n",
    "~~~ py\n",
    "[ expression for item in list if conditional ]\n",
    "~~~\n",
    "\n",
    "A list comprehension always returns a new list."
   ]
  },
  {
   "cell_type": "code",
   "execution_count": null,
   "metadata": {},
   "outputs": [],
   "source": [
    "[i for i in mylist] # no condition, no expression, original list is returned"
   ]
  },
  {
   "cell_type": "code",
   "execution_count": null,
   "metadata": {},
   "outputs": [],
   "source": [
    "[i.upper() for i in mylist if type(i)==str] # take only strings and make them upper case"
   ]
  },
  {
   "cell_type": "markdown",
   "metadata": {},
   "source": [
    "### Exercise\n",
    "\n",
    "- why does the following code produce _three_ numbers?\n",
    "- check out the documentation for `isinstance()` \n",
    "- edit the code so that the bool is excluded"
   ]
  },
  {
   "cell_type": "code",
   "execution_count": null,
   "metadata": {},
   "outputs": [],
   "source": [
    "[i+1 for i in mylist if isinstance(i, (int, float))] # add 1 to all numbers"
   ]
  },
  {
   "cell_type": "markdown",
   "metadata": {},
   "source": [
    "## Assignment unpacking\n",
    "\n",
    "If you need to assign lists to individual variables, python automatically performs _assignment unpacking_. This is often used when calling function with multiple return values."
   ]
  },
  {
   "cell_type": "code",
   "execution_count": null,
   "metadata": {},
   "outputs": [],
   "source": [
    "a, b = [2,3]\n",
    "print(a)\n",
    "print(b)"
   ]
  },
  {
   "cell_type": "markdown",
   "metadata": {},
   "source": [
    "## Iterative processing with lists\n",
    "Given the typical chemical formula for a chemical reaction of zero, first  and second order:\n",
    "\n",
    "\n",
    "|order|zero                           |first                             |second                               | \n",
    "|-----|-------------------------------|:--------------------------------:|:-----------------------------------:|\n",
    "|form |$\\frac{d[C](t)}{dt}=-k[C(t)]^0$| $\\frac{d[C](t)}{dt}=-k[C(t)]^1$  | $\\frac{d[C](t)}{dt}=-2*k [C(t)]^2$  |\n",
    "|k=   |5e-6 $\\frac{Mol}{l \\cdot s}$   | log(2)/100s                      | 5$\\frac{l}{Mol \\cdot s}$                  |\n",
    "\n",
    "\n",
    "* a fixed step in time \"dt\" = 0.1s\n",
    "* a given starting concentration of 1 mMol\n",
    "\n",
    "## Task: \n",
    "1. understand the loop\n",
    "2. write a function that replaces the innerloop and takes the arguments:\n",
    "    1. nr. of steps\n",
    "    2. starting concentration\n",
    "    3. rate\n",
    "    4. order\n",
    "       "
   ]
  },
  {
   "cell_type": "code",
   "execution_count": null,
   "metadata": {},
   "outputs": [],
   "source": [
    "# preparation----------\n",
    "import numpy as np\n",
    "\n",
    "C=[[1e-3],[1e-3],[1e-3]] # list that contains two lists with 1 as first entry\n",
    "t=[0]       # list that contains t=0 \n",
    "dt=0.1      # time step\n",
    "k=[5e-6 , np.log(2)/100 , 10]     # rates for zero, first and second order\n",
    "\n",
    "# --- Loop ----------\n",
    "for a in [0,1,2]:         #outer loop\n",
    "    for i in range(2000): # inner loop here we use a simplified loop that goes through 0,1,2, ... 999 in total 1000 steps\n",
    "        if a==0:t.append(t[-1]+dt)\n",
    "        new_concentration=C[a][-1]- C[a][-1]**a * dt * k[a]\n",
    "        C[a].append(np.max([0,new_concentration]))\n",
    "\n",
    "\n",
    "#  ---- plot the results --- \n",
    "import matplotlib.pyplot as plt    # we need an additional package to plot\n",
    "fig,ax=plt.subplots() # create empty plot\n",
    "\n",
    "colors=['ro','bo','go']                                                             #define new color for each plot\n",
    "for a,concentration_list in enumerate(C):                                           #loop through lists and plot them\n",
    "    ax.plot(t,concentration_list,colors[a],ms=1,label='reaction of order %i'%a)     #\n",
    "\n",
    "#\n",
    "ax.set_xlabel('time in s')\n",
    "ax.set_ylabel('Concentration in Mol')\n",
    "ax.legend()\n",
    "fig.tight_layout()"
   ]
  },
  {
   "cell_type": "code",
   "execution_count": null,
   "metadata": {},
   "outputs": [],
   "source": []
  }
 ],
 "metadata": {
  "kernelspec": {
   "display_name": "Python 3 (ipykernel)",
   "language": "python",
   "name": "python3"
  },
  "language_info": {
   "codemirror_mode": {
    "name": "ipython",
    "version": 3
   },
   "file_extension": ".py",
   "mimetype": "text/x-python",
   "name": "python",
   "nbconvert_exporter": "python",
   "pygments_lexer": "ipython3",
   "version": "3.11.9"
  }
 },
 "nbformat": 4,
 "nbformat_minor": 4
}
