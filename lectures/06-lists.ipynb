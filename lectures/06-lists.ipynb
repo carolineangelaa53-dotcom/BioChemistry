{
 "cells": [
  {
   "cell_type": "markdown",
   "metadata": {},
   "source": [
    "# Lists\n",
    "\n",
    "A `list` is a collection of variables of same or of different types. Lists are _mutable_ meaning they can be modified after they have been created. More information [here.](https://www.tutorialspoint.com/python/python_lists)\n",
    "\n",
    "\n",
    "## Creation and Common Operations"
   ]
  },
  {
   "cell_type": "code",
   "execution_count": null,
   "metadata": {},
   "outputs": [],
   "source": [
    "l = [] # an empty list\n",
    "len(l)"
   ]
  },
  {
   "cell_type": "markdown",
   "metadata": {},
   "source": [
    "Appending is maybe the most useful function a list provides. While running a code information can be added to the end of the list, and the list grows. (see length)  "
   ]
  },
  {
   "cell_type": "code",
   "execution_count": null,
   "metadata": {},
   "outputs": [],
   "source": [
    "l.append(3.4) # append something to the end of the list\n",
    "print(l, len(l))"
   ]
  },
  {
   "cell_type": "code",
   "execution_count": null,
   "metadata": {},
   "outputs": [],
   "source": [
    "l.clear() # clear list\n",
    "len(l)"
   ]
  },
  {
   "cell_type": "code",
   "execution_count": null,
   "metadata": {},
   "outputs": [],
   "source": [
    "['a', 1]*3 # elements in lists can be repeated"
   ]
  },
  {
   "cell_type": "code",
   "execution_count": null,
   "metadata": {},
   "outputs": [],
   "source": [
    "[10,20,30,40,50][0:2] # lists are sliced in the same way as strings"
   ]
  },
  {
   "cell_type": "code",
   "execution_count": null,
   "metadata": {},
   "outputs": [],
   "source": [
    "l = [True, 'dude']\n",
    "print(l)\n",
    "l[0] = 200 # lists are \"mutable\" and we can change an element to another type at will\n",
    "print(l)\n",
    "l[0], l[1] = l[1], l[0] # we can also swap elements\n",
    "print(l)"
   ]
  },
  {
   "cell_type": "markdown",
   "metadata": {},
   "source": [
    "### Exercise\n",
    "\n",
    "Make the following code sort the list in _reverse_ order so that the new list starts with `[100, 35, ...]`"
   ]
  },
  {
   "cell_type": "code",
   "execution_count": null,
   "metadata": {},
   "outputs": [],
   "source": [
    "l = [100,35,1,-20] # a list of integers\n",
    "l.sort() # numerically sort the list\n",
    "l"
   ]
  },
  {
   "cell_type": "markdown",
   "metadata": {},
   "source": [
    "### A list can hold multiple types\n",
    "\n",
    "The elements of a list can have arbitrary types."
   ]
  },
  {
   "cell_type": "code",
   "execution_count": null,
   "metadata": {},
   "outputs": [],
   "source": [
    "mylist = [2, 1.5, 'dude', True, 'a'] # int, float, str, bool, str\n",
    "mylist"
   ]
  },
  {
   "cell_type": "code",
   "execution_count": null,
   "metadata": {},
   "outputs": [],
   "source": [
    "mylist[1] # index 1 points to the *second* element; counting always starts from ZERO "
   ]
  },
  {
   "cell_type": "code",
   "execution_count": null,
   "metadata": {},
   "outputs": [],
   "source": [
    "len(mylist) # number of elements"
   ]
  },
  {
   "cell_type": "code",
   "execution_count": null,
   "metadata": {},
   "outputs": [],
   "source": [
    "for i in mylist: # loop over every item in list\n",
    "    print(i, type(i))"
   ]
  },
  {
   "cell_type": "markdown",
   "metadata": {},
   "source": [
    "## List Comprehensions\n",
    "\n",
    "We can loop or iterate over a list, filter it, and apply a function in a very short-hand notation using [_list comprehensions_](https://www.pythonforbeginners.com/basics/list-comprehensions-in-python) with the following syntax:\n",
    "\n",
    "~~~ py\n",
    "[ expression for item in list if conditional ]\n",
    "~~~\n",
    "\n",
    "A list comprehension always returns a new list."
   ]
  },
  {
   "cell_type": "code",
   "execution_count": null,
   "metadata": {},
   "outputs": [],
   "source": [
    "[i for i in mylist] # no condition, no expression, original list is returned"
   ]
  },
  {
   "cell_type": "code",
   "execution_count": null,
   "metadata": {},
   "outputs": [],
   "source": [
    "[i.upper() for i in mylist if type(i)==str] # take only strings and make them upper case"
   ]
  },
  {
   "cell_type": "markdown",
   "metadata": {},
   "source": [
    "### Exercise\n",
    "\n",
    "- why does the following code produce _three_ numbers?\n",
    "- check out the documentation for `isinstance()` \n",
    "- edit the code so that the bool is excluded"
   ]
  },
  {
   "cell_type": "code",
   "execution_count": null,
   "metadata": {},
   "outputs": [],
   "source": [
    "[i+1 for i in mylist if isinstance(i, (int, float))] # add 1 to all numbers"
   ]
  },
  {
   "cell_type": "markdown",
   "metadata": {},
   "source": [
    "## Assignment unpacking\n",
    "\n",
    "If you need to assign lists to individual variables, python automatically performs _assignment unpacking_. This is often used when calling function with multiple return values."
   ]
  },
  {
   "cell_type": "code",
   "execution_count": null,
   "metadata": {},
   "outputs": [],
   "source": [
    "a, b = [2,3]\n",
    "print(a)\n",
    "print(b)"
   ]
  },
  {
   "cell_type": "markdown",
   "metadata": {},
   "source": [
    "## Iterative processing\n",
    "However, there many iterative tasks that combine loops and lists. A classic example is the solving of differential equations in the so called \"Starting value problem\"<br>\n",
    "\n",
    "Given the typical chemical formula for a chemical reaction of first order:\n",
    "$\\frac{d[C](t)}{dt}=-k[C(t)]$ <br> we can simplify the treatment and assume \n",
    "\n",
    "* a fixed step in time \"dt\" = 0.01s\n",
    "* a given starting concentration of 1 Mol\n",
    "* a rate k=0.1 Mol/s\n",
    "* then the concentration is\n",
    "    \n",
    "    * $c(t_0=0)$ = 1Mol\n",
    "    * $c(t_1=0+0.01)$ = 1Mol - $c(t_0=0)$ * k * dt\n",
    "  \n",
    "and so on.<br>\n",
    "Note: In order to create a nice plot we will store the values into a list, a topic that we will discuss a little bit later in more details. <br>\n",
    "We will create an empty list with \"C=[]\"<br>\n",
    "And then for each iteration of our loop append an entry to this list with C.append('item to append')"
   ]
  },
  {
   "cell_type": "code",
   "execution_count": null,
   "metadata": {},
   "outputs": [],
   "source": [
    "# preparation----------\n",
    "C_first=[]      # empty list that will contain the concentrations that follow first order\n",
    "C_second=[]\n",
    "t=[]      # empty list that will contain the time steps\n",
    "dt=0.1   # time step\n",
    "k=0.1     # rate\n",
    "C_first.append(1) #add a first entry as starting concentration\n",
    "C_second.append(1)\n",
    "t.append(0) #add a first entry as starting time\n",
    "# --- Loop ----------\n",
    "\n",
    "for i in range(1000): # here we use a simplified loop that goes through 0,1,2, ... 999 in total 1000 steps\n",
    "    C_first_temp = C_first[-1] - C_first[-1] * k * dt   # here the actual magic happens. We take the previous (last) value in the list and calculate the new concentration\n",
    "    C_second_temp = C_second[-1] - 2 * C_second[-1]**2 * k * dt\n",
    "    t.append(t[-1]+dt)\n",
    "    if C_first_temp > 0:     # concentrations can not be negative\n",
    "        C_first.append(C_first_temp)\n",
    "    else:\n",
    "        C_first.append(0)\n",
    "    if C_second_temp > 0:     # concentrations can not be negative\n",
    "        C_second.append(C_second_temp)\n",
    "    else:\n",
    "        C_second.append(0)\n",
    "\n",
    "#  ---- plot the results --- \n",
    "import matplotlib.pyplot as plt    # we need an additional package to plot\n",
    "plt.plot(t,C_first,label='first order reaction')\n",
    "plt.plot(t,C_second,label='second order reaction')\n",
    "plt.xlabel('time in s')\n",
    "plt.ylabel('Concentration in Mol')\n",
    "plt.legend()"
   ]
  },
  {
   "cell_type": "code",
   "execution_count": null,
   "metadata": {},
   "outputs": [],
   "source": []
  }
 ],
 "metadata": {
  "kernelspec": {
   "display_name": "Python 3 (ipykernel)",
   "language": "python",
   "name": "python3"
  },
  "language_info": {
   "codemirror_mode": {
    "name": "ipython",
    "version": 3
   },
   "file_extension": ".py",
   "mimetype": "text/x-python",
   "name": "python",
   "nbconvert_exporter": "python",
   "pygments_lexer": "ipython3",
   "version": "3.11.5"
  }
 },
 "nbformat": 4,
 "nbformat_minor": 2
}
