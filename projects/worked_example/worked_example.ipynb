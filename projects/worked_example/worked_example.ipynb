{
 "cells": [
  {
   "cell_type": "markdown",
   "metadata": {},
   "source": [
    "# Worked Example of Notebook Project.\n",
    "## Solving qudratic equations for both real and imaginary roots\n",
    "\n",
    "\n",
    "\n",
    "\n",
    "\n",
    "### Python Packages"
   ]
  },
  {
   "cell_type": "code",
   "execution_count": null,
   "metadata": {},
   "outputs": [],
   "source": [
    "import numpy as np                       # Covered with Jens (Day 3)        \n",
    "import matplotlib.pyplot as plt          # Covered with Mikael & Jens\n",
    "import time                              # Used to get information about current time."
   ]
  },
  {
   "cell_type": "markdown",
   "metadata": {},
   "source": [
    "### Algorithmic thinking\n",
    "With our current imported python packages we can not simply solve any arbitary qudratic equation for the roots. Consequenctly we need to write such a function our self. To do this we need to utlize simple mathmatical rules to solve for the roots. This process, of utilizing simple mathmatical and logical expression to solve a problem of more complex nature, is called `Algorithmic thinking`.\n",
    "\n",
    "In the following; we will attempt to outline and identify the individual steps to solve for the roots of a qudratic equation using algorithmic thinking.\n",
    "\n",
    "The solution to a qudratic on the form $ax^2 + bx + c = 0$ is given by:\n",
    "$$\n",
    "x = \\frac{-b \\pm \\sqrt{b^2 - 4 a c}}{2 a} \\tag{eq. 1}\n",
    "$$\n",
    "With the expression $D=b^2 - 4 a c$ known as the discriminant. From the discriminant we know the number of roots to search for according to the following rules:\n",
    "* $D > 0$: 2 real roots\n",
    "* $D = 0$: 1 real root\n",
    "* $D < 0$: 2 complex roots\n",
    "\n",
    "Thus, once we have the result of the discriminant we know the number of roots we have to seach for. To get the correct number of roots we can make an algorhtm like the following:\n",
    "1. From the values $a$,$b$, and $c$ determine the discriminant $D$.\n",
    "2. Determine the first root (x1) using  $x1 = \\frac{-b + \\sqrt{b^2 - 4 a c}}{2 a}$.\n",
    "3. We make a conditional statement based on the discriminant $D$:\n",
    "    1. If $D$ is not equal to 0 we solve for the second root (x2) using $x2 = \\frac{-b - \\sqrt{b^2 - 4 a c}}{2 a}$ and return the roots x1 and x2 \n",
    "    2. Else we return the root x1.\n",
    "   \n",
    "The above written algorithm is implemented later on in this notebook."
   ]
  },
  {
   "cell_type": "markdown",
   "metadata": {},
   "source": [
    "### Functions\n",
    "Functions in Python are defiend using the `def` keyword followed by the function name. Functions are particular useful for a repeated action in your program such as calculating a quantity, updating varaibles, or other convenient tasks instead of repeating the whole code. The minimal form of a function and how it is called is given below:\n",
    "```python\n",
    "def my_function():\n",
    "  print(\"Hello from a function\")\n",
    "\n",
    "my_function()\n",
    "```\n",
    "This program will simply write \"Hello from a function\". Another option for functions is to return the result as a varaible using the `return` keyword like so:\n",
    "```python\n",
    "def my_function():\n",
    "  s = \"Hello from a function\"\n",
    "  return s\n",
    "\n",
    "output = my_function()\n",
    "```\n",
    "The last important feature of functions is you can pass arguments to the function, that will be used inside the function. In the example below the function simply takes a string as argument and then adds a smiley at the end and returns the string.\n",
    "```python\n",
    "def SimleyAdder(s):\n",
    "  s + \" :)\"\n",
    "  return s\n",
    "\n",
    "output = my_function()\n",
    "```\n",
    "\n",
    "In the example below make a function to determine the roots (real and complex) of qudratic equations. "
   ]
  },
  {
   "cell_type": "code",
   "execution_count": null,
   "metadata": {},
   "outputs": [],
   "source": [
    "def DetermineRoot(a,b,c):\n",
    "    '''Determines real or complex root(s) for qudratic equation on the form ax**2+bx+c=0\n",
    "    ''' # This string is called a docstring and is written to provide information on the usage of the function\n",
    "    \n",
    "    # Determine discriminant\n",
    "    D = b**2 - 4*a*c\n",
    "    \n",
    "    # Determine first root:\n",
    "    x1 = (-b + D**(1/2)) / 2*a\n",
    "    \n",
    "    # Check if second root exists:\n",
    "    if D != 0:\n",
    "        x2 = (-b - D**(1/2)) / 2*a\n",
    "        return [x1, x2]\n",
    "    return x1"
   ]
  },
  {
   "cell_type": "code",
   "execution_count": null,
   "metadata": {},
   "outputs": [],
   "source": [
    "root_example1 = DetermineRoot(1,5,10) # 2 complex roots\n",
    "root_example2 = DetermineRoot(1,5,0)  # 2 real roots"
   ]
  },
  {
   "cell_type": "markdown",
   "metadata": {},
   "source": [
    "### How to answer questions"
   ]
  },
  {
   "cell_type": "markdown",
   "metadata": {},
   "source": [
    "The questions asked in the notebook project consists of two types of tasks: <b> Python tasks </b> and <b> Chemistry tasks</b>. The Python tasks are the main topic of the notebook and are designed to use the knowledge gained during the lectures and excersises. The chemistry tasks are designed to make you reflect on how Python can be used to illustrate and investigate scientific problems.\n",
    "\n",
    "For the different tasks, markdown cells or Python cells (depending on the nature of the problem) has been provided in advance to answer the question. We recommend you read the question and the content of the exisiting answer cell in advance before writing. The reason for this is that variables names may already have been chosen and are expected to be continued thoughout the notebook. A second reason is that some answers are already half-written needing only minor insertions. An example of a typical Python task is shown below:\n",
    "\n",
    "<b> Python task 1: Finish the function </b>\n",
    "```python\n",
    "def PlotRoots(roots):\n",
    "    '''Plots real root(s) in the xy-plane and complex roots in the complex space\n",
    "    '''\n",
    "    fig, ax = plt.subplot(nrows=1, ncols=1, figsize=(8,8))\n",
    "    \n",
    "    if any(isinstance(x, complex) for x in roots): # Check if the `roots` contains any complex numbers\n",
    "        fig, ax = plt.subplots(nrows=1, ncols=1, figsize=(4,4), subplot_kw={'projection':'polar'})\n",
    "        for root in roots:\n",
    "            r = (root.real**2 + root.imag**2)**(1/2)\n",
    "            if root.real > 0:\n",
    "                theta = np.arctan(root.real/root.imag)\n",
    "            else:\n",
    "                theta = np.arctan(root.real/root.imag) + np.pi\n",
    "            # INSERT CODE TO MAKE PLOT IN COMPLEX PLANE WITH CORRECT AXIS LABELS\n",
    "    else:\n",
    "        fig, ax = plt.subplots(nrows=1, ncols=1, figsize=(4,4))\n",
    "        for root in roots:\n",
    "            # INSERT CODE TO MAKE SCATTER PLOT IN XY PLANE WITH CORRECT AXIS LABELS\n",
    "    \n",
    "    return fig, ax\n",
    "```"
   ]
  },
  {
   "cell_type": "code",
   "execution_count": null,
   "metadata": {},
   "outputs": [],
   "source": [
    "# Answer cell\n",
    "def PlotRoots(roots):\n",
    "    '''Plots real root(s) in the xy-plane and complex roots in the complex space\n",
    "    '''\n",
    "    \n",
    "    if any(isinstance(x, complex) for x in roots): # Check if the `roots` contains any complex numbers\n",
    "        fig, ax = plt.subplots(nrows=1, ncols=1, figsize=(4,4), subplot_kw={'projection':'polar'})\n",
    "        for root in roots:\n",
    "            r = (root.real**2 + root.imag**2)**(1/2)\n",
    "            if root.real > 0:\n",
    "                theta = np.arctan(root.real/root.imag)\n",
    "            else:\n",
    "                theta = np.arctan(root.real/root.imag) + np.pi\n",
    "            ax.plot([0,theta], [0,r], color='C0', linestyle='solid', marker='o')\n",
    "            ax.set_xlabel('Real', fontsize=16)\n",
    "            ax.set_ylabel('Imaginary', fontsize=16, labelpad=30)\n",
    "    else:\n",
    "        fig, ax = plt.subplots(nrows=1, ncols=1, figsize=(4,4))\n",
    "        for root in roots:\n",
    "            ax.scatter(root, 0, color='C0', marker='o')\n",
    "            ax.set_xlabel('x', fontsize=16)\n",
    "            ax.set_ylabel('y', fontsize=16)\n",
    "    \n",
    "    return fig, ax"
   ]
  },
  {
   "cell_type": "markdown",
   "metadata": {},
   "source": [
    "<b> Python task 2: Finish the code to make a plot for the complex roots </b>\n",
    "```python\n",
    "fig, ax =    # Insert code to plot the roots stored in the variable named `root_example1`\n",
    "plt.show()\n",
    "```"
   ]
  },
  {
   "cell_type": "code",
   "execution_count": null,
   "metadata": {},
   "outputs": [],
   "source": [
    "fig, ax = PlotRoots(root_example1)\n",
    "plt.show()"
   ]
  },
  {
   "cell_type": "markdown",
   "metadata": {},
   "source": [
    "<b> Python task 3: Finish the code to make a plot for the real roots and the function it self </b>\n",
    "```python\n",
    "fig, ax =         # Insert code to plot the roots stored in the variable named `root_example2`\n",
    "x = np.arange(-5.5, 1, 0.001)\n",
    "y =               # Insert code to calcuate y-values from the qudratic equation used in `root_example2`\n",
    "ax.plot(x[y<2],y[y<2])\n",
    "ax.hlines(0, -5.5, 1, color='black')\n",
    "ax.set_xlim(-5.5, 0.5)\n",
    "plt.show()\n",
    "```"
   ]
  },
  {
   "cell_type": "code",
   "execution_count": null,
   "metadata": {},
   "outputs": [],
   "source": [
    "fig, ax = PlotRoots(root_example2)\n",
    "x = np.arange(-5.5, 1, 0.001)\n",
    "y = x**2 + 5*x + 0\n",
    "ax.plot(x[y<2],y[y<2])\n",
    "ax.hlines(0, -5.5, 1, color='black')\n",
    "ax.set_xlim(-5.5, 0.5)\n",
    "plt.show()"
   ]
  },
  {
   "cell_type": "markdown",
   "metadata": {},
   "source": [
    "### Types (lists vs numpy arrays)\n",
    "The NumPy library is essential for scientific computing in Python and provides an alternative to the data structures in the Python core libary. The most common example is Python lists vs NumPy arrays. In the majority of cases Numpy arrays are always to be performed over lists due to 3 main reasons:\n",
    "1. <b>Size</b> - Numpy data structures take up less space\n",
    "2. <b>Performance</b> - they have a need for speed and are faster than lists\n",
    "3. <b>Functionality</b> - SciPy and NumPy have optimized functions such as linear algebra operations built in.\n",
    "\n",
    "An example of the speed difference can be seen below"
   ]
  },
  {
   "cell_type": "code",
   "execution_count": null,
   "metadata": {},
   "outputs": [],
   "source": [
    "# Speed test\n",
    "size_of_vec = 1000\n",
    "\n",
    "def pure_python_version():\n",
    "    t1 = time.time()\n",
    "    X = range(size_of_vec)\n",
    "    Y = range(size_of_vec)\n",
    "    Z = [X[i] + Y[i] for i in range(len(X)) ]\n",
    "    return time.time() - t1\n",
    "\n",
    "def numpy_version():\n",
    "    t1 = time.time()\n",
    "    X = np.arange(size_of_vec)\n",
    "    Y = np.arange(size_of_vec)\n",
    "    Z = X + Y\n",
    "    return time.time() - t1\n",
    "\n",
    "\n",
    "t1 = pure_python_version()\n",
    "t2 = numpy_version()\n",
    "print(t1, t2)\n",
    "print(\"Numpy is in this example \" + str(t1/t2) + \" faster!\")"
   ]
  },
  {
   "cell_type": "markdown",
   "metadata": {},
   "source": [
    "However despite the suppremecy of NumPy array, Python lists are still commonly used and it is thus important you understand the differences between the two types. For example the methods associated with the types are different between NumPy and lists. A few examples of these has been given below"
   ]
  },
  {
   "cell_type": "code",
   "execution_count": null,
   "metadata": {},
   "outputs": [],
   "source": [
    "# Initilize arrays\n",
    "pythonlist = ['money', 1, np.nan]\n",
    "numpyarray = np.array(['money', 1, np.nan])\n",
    "\n",
    "# Appending\n",
    "pythonlist.append(':)')\n",
    "numpyarray = np.append(numpyarray, ':)')\n",
    "\n",
    "# removing elements\n",
    "pythonlist.pop(0)\n",
    "numpyarray = np.delete(numpyarray, obj=0)\n",
    "\n",
    "print('The type of pythonlist is {} and contains {}'.format(type(pythonlist), pythonlist))\n",
    "print('The type of numpyarray is {} and contains {}'.format(type(numpyarray), numpyarray))"
   ]
  },
  {
   "cell_type": "markdown",
   "metadata": {},
   "source": [
    "### Debugging: \n",
    "<i>Being the detective in a crime movie where you are also the murderer.</i>\n",
    "\n",
    "Debugging is the process of identifying and resolving problems in code that prevents correct operation. Bugs usually enters the code unknowningly and thus projects containing a lot of code become harder to debug. In the case of small programming projects, we can identify a lot of bugs using the `print` function. For example the print function could be used to figure out what happens in the following code:\n",
    "```python\n",
    "# Example 1\n",
    "a = 1\n",
    "b = 2\n",
    "a = b\n",
    "a = 5\n",
    "\n",
    "# What is the value of `ab`?\n",
    "ab = a + b\n",
    "print(ab)\n",
    "\n",
    "# Example 2\n",
    "a_l = [1, 2]\n",
    "b_l = [2, 3]\n",
    "a_l = b_l\n",
    "a_l.append(10)\n",
    "\n",
    "# What elements does `ab_l` contain?\n",
    "ab_l = a_l+b_l\n",
    "print(ab_l)\n",
    "```\n",
    "At first glance without a lot of knowledge about python one might be expected to say the value of `ab` is 7 while the list `ab_l` contains the elements `[2,3,10,2,3]`. However while the first one is correctly 7, the `ab_l` actually contains the elements `[2,3,10,2,3,10]`. We can figure out the reason for this by inserting print statements like done in the code below:"
   ]
  },
  {
   "cell_type": "code",
   "execution_count": null,
   "metadata": {},
   "outputs": [],
   "source": [
    "# Example 1\n",
    "print('Example 1:')\n",
    "a = 1\n",
    "b = 2\n",
    "a = b\n",
    "print('Value of `a` after `a = b`: {}'.format(a))\n",
    "print('Value of `b` after `a = b`: {}'.format(b))\n",
    "a = 5\n",
    "print('Value of `a` after `a = 5`: {}'.format(a))\n",
    "\n",
    "# What is the value of `ab`?\n",
    "ab = a + b\n",
    "print('Result of `a + b`: {}\\n\\n'.format(ab))\n",
    "\n",
    "# Example 2\n",
    "print('Example 2:')\n",
    "a_l = [1, 2]\n",
    "b_l = [2, 3]\n",
    "a_l = b_l\n",
    "print('Elements in `a_l` after `a_l = b_l`: {}'.format(a_l))\n",
    "print('Elements in `b_l` after `a_l = b_l`: {}'.format(b_l))\n",
    "a_l.append(10)\n",
    "print('Elements in `a_l` after `a_l.append(10)`: {}'.format(a_l))\n",
    "print('Elements in `b_l` after `a_l.append(10)`: {}'.format(b_l))\n",
    "\n",
    "# What elements does `ab_l` contain?\n",
    "ab_l = a_l+b_l\n",
    "print('Result of `a_l+b_l`: {}'.format(ab_l))"
   ]
  },
  {
   "cell_type": "markdown",
   "metadata": {},
   "source": [
    "### How to find help: \n",
    "At some point you may encounter that you need help to fix your code. This happens to everyone (even pros), and it is thus important you are able to locate sources for help. Below are a collection of good resources you can use to find help, with the most likely used resources given in descending order:\n",
    "\n",
    "<a href=\"https://www.google.com\">Google</a>: The obvious one and helps you find web resources to specific and general problems.<br>\n",
    "<a href=\"https://stackoverflow.com\">Stackoverflow</a>: Coding community dealing with problems related to specific tasks.<br>\n",
    "\n",
    "<b> Python tutorials:</b><br>\n",
    "<a href=\"https://www.geeksforgeeks.org/python-programming-language/\">GeeksforGeeks's Python tutorial</a><br>\n",
    "<a href=\"https://www.w3schools.com/python/\">W3schools's Python tutorial</a><br>\n",
    "<a href=\"https://www.tutorialspoint.com/python/\">Tutorialspoint's Python tutorial</a><br>\n",
    "\n",
    "<b> Python documentations:</b><br>\n",
    "<a href=\"https://docs.python.org/3/\">Python documentation</a>: Detailed review of standard Python.<br>\n",
    "<a href=\"https://numpy.org/doc/\">NumPy documentation</a>: Detailed review of NumPy.<br>\n",
    "<a href=\"https://matplotlib.org/3.3.1/contents.html\">Matplotlib documentation</a>: Detailed review of matplotlib.<br>\n",
    "<a href=\"https://pandas.pydata.org/docs/\">Pandas documentation</a>: Detailed review of pandas.<br><br>\n",
    "\n",
    "Another useful resource directly averiable while working in the Jupyter notebook are docstrings, which are developer written comments about functions and methods and how to use them. As developer writing these docstings are considered good pratice. Below we can finish the docstring for the `DetermineRoot` function we defined earlier:"
   ]
  },
  {
   "cell_type": "code",
   "execution_count": null,
   "metadata": {},
   "outputs": [],
   "source": [
    "def DetermineRoot(a,b,c):\n",
    "    '''Determines real or complex root(s) for qudratic equations on the form ax**2+bx+c=0\n",
    "    \n",
    "Parameters\n",
    "----------\n",
    "a,b,c : float\n",
    "    Polynomial coefficients and a ≠ 0.\n",
    "    \n",
    "Returns\n",
    "-------\n",
    "roots : float or complex (1 root).\n",
    "        list containing float or complex (2 roots).''' # This string is called a docstring and is written to provide information on the usage of the function\n",
    "    \n",
    "    # Determine discriminant\n",
    "    D = b**2 - 4*a*c\n",
    "    \n",
    "    # Determine first root:\n",
    "    x1 = (-b + D**(1/2)) / 2*a\n",
    "    \n",
    "    # Check if second root exists:\n",
    "    if D != 0:\n",
    "        x2 = (-b - D**(1/2)) / 2*a\n",
    "        return [x1, x2]\n",
    "    return x1"
   ]
  },
  {
   "cell_type": "markdown",
   "metadata": {},
   "source": [
    "If we now hit `alt+tab` while inside the function's parentheses we get the following information about the function:\n",
    "<img src=\"determineroot_docstring.png\" alt=\"docstring for `DetermineRoot`\">"
   ]
  },
  {
   "cell_type": "code",
   "execution_count": null,
   "metadata": {},
   "outputs": [],
   "source": []
  }
 ],
 "metadata": {
  "kernelspec": {
   "display_name": "Python 3",
   "language": "python",
   "name": "python3"
  },
  "language_info": {
   "codemirror_mode": {
    "name": "ipython",
    "version": 3
   },
   "file_extension": ".py",
   "mimetype": "text/x-python",
   "name": "python",
   "nbconvert_exporter": "python",
   "pygments_lexer": "ipython3",
   "version": "3.7.6"
  }
 },
 "nbformat": 4,
 "nbformat_minor": 4
}
