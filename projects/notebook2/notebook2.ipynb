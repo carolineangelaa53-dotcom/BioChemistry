{
 "cells": [
  {
   "cell_type": "markdown",
   "metadata": {},
   "source": [
    "# Kinetic and thermodynamic investigation of molecules using NMR\n",
    "_Mads Jeppesen & Stefan Hervø-Hansen, Lund University._\n",
    "\n",
    "### Intended Learning Outcomes:\n",
    "**1. To gain experience in using the following libaries:**\n",
    "- [matplotlib](https://matplotlib.org) for visualizing 2D and 3D data. \n",
    "- [NumPy](https://www.numpy.org) for manipulating and doing operations on arrays.\n",
    "- [pandas](https://pandas.pydata.org) for reading in data and represent data in tables.  \n",
    "- [SciPy](https://www.scipy.org) for fitting.\n",
    "- [rdkit](http://www.rdkit.org) for handling and visualzing chemical structures and reactions in 2D.\n",
    "- [nglview](http://nglviewer.org/nglview/latest/index.html) for visualzing chemical structures in 3D.\n",
    "- [nmrglue](https://www.nmrglue.com) for dealing with NMR data. \n",
    "   \n",
    "   \n",
    "**2. To gain experience in using Jupyter notebook relevant features such as:**\n",
    "- Marking up text and equations with Markdown and LaTeX.\n",
    "- Interactive data visualization.\n",
    "- Magic commands (%).\n",
    "- Inserting images.\n",
    "- Built in help functionality.\n",
    "\n",
    "**3. Understanding basic scientific techniques and models such as:**\n",
    "- NMR\n",
    "- Kinetics and rate equations\n",
    "- Thermodynamic modelling\n",
    "- Chemical notation: SMILES, SMARTS\n",
    "\n",
    "**4. Basic python scripting such as:**\n",
    "- Datatypes and objects.\n",
    "- Datastructures.\n",
    "- Loops.\n",
    "- Functions.\n",
    "\n",
    "**5. Searching documentation and help online** \n",
    "\n",
    "**6. Generation of publication ready figures.**"
   ]
  },
  {
   "cell_type": "markdown",
   "metadata": {},
   "source": [
    "## Imports"
   ]
  },
  {
   "cell_type": "code",
   "execution_count": null,
   "metadata": {},
   "outputs": [],
   "source": [
    "from IPython.display import Markdown, HTML\n",
    "import ipywidgets as widgets "
   ]
  },
  {
   "cell_type": "code",
   "execution_count": null,
   "metadata": {},
   "outputs": [],
   "source": [
    "import pandas as pd\n",
    "import numpy as np \n",
    "import matplotlib.pyplot as plt\n",
    "from mpl_toolkits.mplot3d import Axes3D\n",
    "import matplotlib.image as mpimg\n",
    "from matplotlib.animation import FuncAnimation\n",
    "%matplotlib inline "
   ]
  },
  {
   "cell_type": "code",
   "execution_count": null,
   "metadata": {},
   "outputs": [],
   "source": [
    "import rdkit\n",
    "from rdkit import Chem\n",
    "from rdkit.Chem import AllChem\n",
    "from rdkit.Chem.Draw import IPythonConsole\n",
    "import nmrglue\n",
    "import nglview\n",
    "from scipy.optimize import curve_fit\n",
    "from uncertainties import unumpy"
   ]
  },
  {
   "cell_type": "markdown",
   "metadata": {},
   "source": [
    "## Introduction\n",
    "\n",
    "### The notebook\n",
    "\n",
    "The notebook is divided into 5 sections with two major parts. **Part 1** (section 1-3) is about the synthesis of paracetamol and  **Part 2** (section 4-5) is about Agostic/Non-agostic Interactions of a C(sp<sup>3</sup>)P pincer complex of iridium.\n",
    "\n",
    "**Part 1: The synthesis of paracetamol**\n",
    "1. [Visualization of chemical structures and reactions](#1)\n",
    "2. [Reading, visualizing and analysing simple 1H NMR data](#2)\n",
    "3. [Fitting rate equations to time resolved NMR data](#3)\n",
    "\n",
    "**Part 2: Agostic and Non-agostic Interactions in PC(sp<sup>3</sup>)P Pincer Complex of Iridium**\n",
    "4. [Thermodynamic Characterization of Agostic and Non-agostic Interactions](#4)\n",
    "5. [Graphical excellence](#5)\n",
    "\n",
    "\n",
    "In the first section you will learn how to show chemical structures and reactions using [SMILES](https://en.wikipedia.org/wiki/Simplified_molecular-input_line-entry_system) and [SMARTS](https://en.wikipedia.org/wiki/SMILES_arbitrary_target_specification). You will also learn how to show 2D and 3D representations of molecules. In the second section you will visualize the 1H-NMR spectra of phenol and assign the peaks to the protons. You will also visualize 2 other spectras. In the third section you will investigate the kinetics of the paracetamol synthesis and fit rate equations to time resolved NMR data. In the fourth section you will investigate the thermodynamic equilibrium between Agostic and Non-agostic interactions in a PC(sp<sup>3</sup>)P pincer complex of iridium. In the last section you should try to produce a publication ready figure.\n",
    "\n",
    "### Nuclear Magnetic Resonance (NMR) spectroscopy\n",
    "[NMR spetroscopy](https://en.wikipedia.org/wiki/Nuclear_magnetic_resonance_spectroscopy) is a spectroscopic technique that measures resonance frequency of the net magnetization relaxation of nuclei with [spin](https://en.wikipedia.org/wiki/Spin_(physics)) back to equilibrium. The resonance frequency is strongly dependent on the electronic structure of a molecules and its surrondings, as electrons sheilds nuclei from the extenral magnetic fields, weaking the field. As a consquence NMR spetroscopy is a powerful method to detect subtle as well as major changes in chemical structures. Typically the resonant frequency of the nucleus is not reported, but instead [chemical shift](https://en.wikipedia.org/wiki/Chemical_shift), which is the resonant frequency of a nucleus relative to the frequency a standard compound in a magnetic field.\n",
    "\n",
    "### LaTeX\n",
    "You will have to use LaTeX in this Notebook. If you want some help with writing equations you can use this website: http://latex.codecogs.com/eqneditor/editor.php. "
   ]
  },
  {
   "cell_type": "markdown",
   "metadata": {},
   "source": [
    "## Part 1: The synthesis of paracetamol"
   ]
  },
  {
   "cell_type": "markdown",
   "metadata": {},
   "source": [
    "### Paracetamol\n",
    "\n",
    "Paracetamol, also known as acetaminophen, is a medication used to treat pain and fever. \n",
    "\n",
    "### Paracetamol synthesis\n",
    "\n",
    "The synthesis that we will look at in this notebook is the one highligthed below in **Figure 1**. Phenol is first nitated to produce 2-nitrophenol (ortho) and 4-nitrophenol (para). 4-nitrophenol is then reduced to 4-aminophenol, and then finally acetylated to produce acetaminophen (paracetamol).\n",
    "\n",
    "<img src=\"images/Synthesis_of_paracetamol_from_phenol.png\" width=500>\n",
    "<p><center><b>Figure 1:</b> Synthesis of Paracetamol. </center></p>"
   ]
  },
  {
   "cell_type": "markdown",
   "metadata": {},
   "source": [
    "## Visualization of chemical structures and reactions\n",
    "<a id='1'></a>"
   ]
  },
  {
   "cell_type": "markdown",
   "metadata": {},
   "source": [
    "[SMILES](https://en.wikipedia.org/wiki/Simplified_molecular-input_line-entry_system) (Simplified molecular-input line-entry system) is a notation for describing chemical structures using [ASCII](https://en.wikipedia.org/wiki/ASCII) strings. It's extremely usefull and widely used. From it one can easily share/copy structural information and visualize it. In this notebook we will not learn how to write SMILES but we will learn how to use it. If you are intereseted in learning how to write SMILES [here](https://archive.epa.gov/med/med_archive_03/web/html/smiles.html) is a good tutorial.\n",
    "\n",
    "An example of a SMILES structure is [beta-Carotene](https://en.wikipedia.org/wiki/Beta-Carotene) (the orange stuff in carrots and the like):\n",
    "\n",
    "CC1CCC/C(C)=C1/C=C/C(C)=C/C=C/C(C)=C/C=C/C=C(C)/C=C/C=C(C)/C=C/C2=C(C)/CCCC2(C)C\n",
    "\n",
    "To visualize chemical structures with SMILES we can use a library called [rdkit](http://www.rdkit.org)"
   ]
  },
  {
   "cell_type": "markdown",
   "metadata": {},
   "source": [
    "### rdkit"
   ]
  },
  {
   "cell_type": "markdown",
   "metadata": {},
   "source": [
    "[rdkit](http://www.rdkit.org) is a library for cheminformatics and it can do a bunch of cool things. The documentation (although overwhelming) is found [here](https://www.rdkit.org/docs/index.html). If you want to know more about `rdkit` [here](https://www.rdkit.org/docs/GettingStartedInPython.html) is a good way to start. We will mainly focus on 2D visualization of chemical structures. To visualize a chemical structure from SMILES you have to write the following code:\n",
    "\n",
    "```python\n",
    "mol = rdkit.Chem.MolFromSmiles('SMILES structure') # replace with the real SMILES structure inside the ''\n",
    "mol\n",
    "```\n",
    "\n",
    " `MolFromSmiles()` returns a `Mol` object (a molecule object) from `rdkit`, that we in the code snippet above assign to the variable named \"mol\". You can always check the type of an object by using the build in function `type()`. For the mol variable you can do: \n",
    "\n",
    "```python\n",
    "type(mol)\n",
    "```\n",
    "\n",
    "In a notebook this can also be done by using `Shift + tab` when the curser is located just after the object of interest. This will also give you the documentation for the object.\n",
    "\n",
    "Calling mol as above shows the chemical structure of the molecule in the Notebook.\n",
    "\n",
    "Remember that you can actually get acces to the function directly without writing all these \"`.`\". You just have to import the function like so\n",
    "\n",
    "```python\n",
    "from rdkit.Chem import MolFromSmiles\n",
    "```\n",
    "\n",
    "In the rest of the Notebook we will not do this for the sake of clarity."
   ]
  },
  {
   "cell_type": "markdown",
   "metadata": {},
   "source": [
    "**(1) Python Task:** <br>\n",
    "Visualize the chemical structure of phenol using `rdkit`. You will have to use the code snippet above to do so. The SMILES structure of phenol can be found on [Wikipedia](https://en.wikipedia.org/wiki/Phenol). Follow the link an search for the SMILES structure. It should be near the top in the description box to the right. "
   ]
  },
  {
   "cell_type": "code",
   "execution_count": null,
   "metadata": {},
   "outputs": [],
   "source": [
    "# -- YOUR CODE HERE --\n",
    "# ---------------------"
   ]
  },
  {
   "cell_type": "markdown",
   "metadata": {},
   "source": [
    "Wikipedia is not the only place to find SMILES structures..."
   ]
  },
  {
   "cell_type": "markdown",
   "metadata": {},
   "source": [
    "**(2) Python Task:** <br>\n",
    "Visualize the chemical structures for the rest of the molecules in the paracetamol synthesis (4-nitrophenol, 2-nitrophenol, 4-aminophenol AND paracetamol) shown in the introduction using `rdkit`. You would have to google the SMILES structure for each. Just google the name and maybe include \"SMILES\" as well. You will see it's everywhere. All structures you should be able to find either on [Wikipedia](https://en.wikipedia.org) or [PubChem](https://pubchem.ncbi.nlm.nih.gov)."
   ]
  },
  {
   "cell_type": "code",
   "execution_count": null,
   "metadata": {},
   "outputs": [],
   "source": [
    "# -- YOUR CODE HERE --\n",
    "# Show 2-nitrophenol\n",
    "# ---------------------"
   ]
  },
  {
   "cell_type": "code",
   "execution_count": null,
   "metadata": {},
   "outputs": [],
   "source": [
    "# -- YOUR CODE HERE --\n",
    "# Show 4-nitrophenol\n",
    "# ---------------------"
   ]
  },
  {
   "cell_type": "code",
   "execution_count": null,
   "metadata": {},
   "outputs": [],
   "source": [
    "# -- YOUR CODE HERE --\n",
    "# Show 4-aminophenol\n",
    "# ---------------------"
   ]
  },
  {
   "cell_type": "code",
   "execution_count": null,
   "metadata": {},
   "outputs": [],
   "source": [
    "# -- YOUR CODE HERE --\n",
    "# Show paracetamol\n",
    "# ---------------------"
   ]
  },
  {
   "cell_type": "markdown",
   "metadata": {},
   "source": [
    "Now that you have succesfully visualized the structures of the paracetamol syntethis we will now move on to writing reactions. [SMARTS](https://en.wikipedia.org/wiki/SMILES_arbitrary_target_specification) (SMILES arbitrary target specification) is a language for specifying substructural patterns in molecules and their properties. We will not delve into SMARTS here, but we will use it for writing equations. If you want to know more about SMARTS [here](https://www.daylight.com/dayhtml_tutorials/languages/smarts/index.html#INTRO) is a good tutorial. `rdkit` has a function that can show a chemical reaction:  `rdkit.Chem.AllChem.ReactionToSmarts()`. It takes in 1 `string` of two or more SMARTS structures and connects them with \">>\" to output a chemical reaction. In general it looks like this: **reaction**  :   \"reactants\" + \">>\" + \"products\"\n",
    "\n",
    "To convert a SMILES structure to a SMARTS structure rdkit has a convenient function: `rdkit.Chem.MolToSmarts()`."
   ]
  },
  {
   "cell_type": "markdown",
   "metadata": {},
   "source": [
    "**(3) Python Task:** <br>\n",
    "Look at the `rdkit.Chem.MolToSmarts()` function either through the documentation or with `Shift + tab` to see what it takes in as arguments and what it returns. Explain your findings below."
   ]
  },
  {
   "cell_type": "code",
   "execution_count": null,
   "metadata": {},
   "outputs": [],
   "source": [
    "# -- ANSWER HERE --"
   ]
  },
  {
   "cell_type": "markdown",
   "metadata": {},
   "source": [
    "**(4) Python Task:** <br>\n",
    "Now that you know what arguments `rdkit.Chem.MolToSmarts()` takes in and what it returns you should use that knowledge to make one string that designates the chemical reaction of 4-aminophenol to paracetamol (the last reaction in the paracetamol synthesis). You will have to use string concatenation to produce a string like this: \"reactant>>product\". Feed that into `rdkit.Chem.AllChem.ReactionToSmarts()` as the first argument to visualize the reaction.\n"
   ]
  },
  {
   "cell_type": "code",
   "execution_count": null,
   "metadata": {},
   "outputs": [],
   "source": [
    "# -- YOUR CODE HERE --\n",
    "# ---------------------"
   ]
  },
  {
   "cell_type": "markdown",
   "metadata": {},
   "source": [
    "Now that we have visualized the structures of the paracetamol synthesis in 2D we want to show it in 3D as well. We are 3D creatures after all!! To do this we will use a molceular structure viewer called [nglview](http://nglviewer.org/nglview/latest/index.html)."
   ]
  },
  {
   "cell_type": "markdown",
   "metadata": {},
   "source": [
    "### nglview\n",
    "[nglview](http://nglviewer.org/nglview/latest/index.html#) is a molecular structure viewer that can be used in a Jupyter Notebook. The documentation (API) is [here](http://nglviewer.org/nglview/latest/api.html). It can show and manipulate the visual aspects of molecular structures (see [here](http://nglviewer.org/ngl/gallery/index.html) for examples). Before we can show a molecule in `nglview` we first have to assign conformations to the molecule. This can by using the function: `rdkit.Chem.AllChem.EmbedMultipleConfs()` and passing in a `Mol` object as the first agument. The function will assign conformations to the `Mol` object. \n",
    "\n",
    "When this is done we can show the 3D structure of our `Mol` object by typing: \n",
    "\n",
    "```python\n",
    "view = nglview.show_rdkit(<Mol Object>) # replace <Mol Object> with the actual Mol object\n",
    "view\n",
    "```\n",
    "\n",
    "Calling view as above embeds a viewer in the Notebook.  This will show the default version of the structure."
   ]
  },
  {
   "cell_type": "markdown",
   "metadata": {},
   "source": [
    "**(5) Python Task:** <br>\n",
    "Show the 3D structure of paracetamol using `nglview`. "
   ]
  },
  {
   "cell_type": "code",
   "execution_count": null,
   "metadata": {},
   "outputs": [],
   "source": [
    "# -- YOUR CODE HERE --\n",
    "# ---------------------"
   ]
  },
  {
   "cell_type": "markdown",
   "metadata": {},
   "source": [
    "Try to move the structre around with the mouse by holding the left click button down. Move the structure by holding down the right mouse button.  You can zoom in by using the mouse scrolling wheel."
   ]
  },
  {
   "cell_type": "markdown",
   "metadata": {},
   "source": [
    "**(6) Python Task:** <br>\n",
    "Find a function that can be accessed through `rdkit.Chem.` that can add hydrogens to the structure visualized above in **(5)**. Use the documentation or autocompletion (`tab` - remember to do that after writing `rdkit.Chem.` and your curser is right next to the \"`.`\") to find it. Use this function on the paracetamol `Mol` object and then visualize it with `nglview`. The function you find will return another `Mol` object and this is the one you should visualize."
   ]
  },
  {
   "cell_type": "code",
   "execution_count": null,
   "metadata": {},
   "outputs": [],
   "source": [
    "# -- YOUR CODE HERE --\n",
    "# ---------------------"
   ]
  },
  {
   "cell_type": "markdown",
   "metadata": {},
   "source": [
    "## Reading, visualizing and analysing simple 1-H NMR data.\n",
    "<a id='2'></a>"
   ]
  },
  {
   "cell_type": "markdown",
   "metadata": {},
   "source": [
    "1-H NMR data for each chemical in the first part of the paracetamol synthesis reactions has been recorded in an NMR experiment. The 2 spectra resides in data/NMR and the file names are `phenol.jdx`, `o_nitrophenol` and `p_nitrophenol.jdx`.\n",
    "\n",
    "**Open the raw data files in Jupyter**. This can be done by going back to directory that automatically opens up when starting up a Jupyter Notebook and selecting the file of interest. You can also open a file up directly into a Jupyter Notebook by using the [magic](https://ipython.readthedocs.io/en/stable/interactive/magics.html) command `%cat`. Try to get a feeling of how the files are structured before moving on. Don't worry to much about it not making sense. It will later. \n",
    "\n",
    "We will now introduce a new library called [nmrglue](https://www.nmrglue.com). It's very usefull library that can deal with NMR data and also do analysis on it. "
   ]
  },
  {
   "cell_type": "markdown",
   "metadata": {},
   "source": [
    "**(7) Chemistry task:** <br>\n",
    "In vauge terms: How is a molecular structure solved using  [NMR Spectroscopy](https://en.wikipedia.org/wiki/Nuclear_magnetic_resonance)?\n",
    "\n",
    "If you don't remember take a look at the wiki page by following the hyperlink or read the introduction on NMR in the beginning of the notebook. **Don't spend too long on this it is meant as an reminder for you.**"
   ]
  },
  {
   "cell_type": "code",
   "execution_count": null,
   "metadata": {},
   "outputs": [],
   "source": [
    "# -- YOUR ANSWER HERE --"
   ]
  },
  {
   "cell_type": "markdown",
   "metadata": {},
   "source": [
    "## nmrglue"
   ]
  },
  {
   "cell_type": "markdown",
   "metadata": {},
   "source": [
    "[nmrglue](https://www.nmrglue.com) (documentation is [here](https://nmrglue.readthedocs.io/en/latest/reference/index.html) can read (and write) NMR data from a bunch of different formats. The NMR data files are above in JCAMP-DX format, hence the \"jdx\" extension. Although `pandas` is a very usefull library for reading in data, it is sometimes more convenient to read in data using more tailored software. `nmrglue` has a function that can read in JCAMP-DX format files. It is called `nmrglue.jcampdx.read()`."
   ]
  },
  {
   "cell_type": "markdown",
   "metadata": {},
   "source": [
    "**(8) Python Task:** <br>\n",
    "What does `nmrglue.jcampdx.read()` take in as a parameter and what does it return? Use the documentation or `Shift + tab` to figure it out. ALSO try to read in `phenol.jdx`, not assign the output to anything, and just see the output in and output cell. What are the datastructures (tuple, dict, list, sets etc.) of the output and what information do each of them contain? "
   ]
  },
  {
   "cell_type": "code",
   "execution_count": null,
   "metadata": {},
   "outputs": [],
   "source": [
    "# -- YOUR ANSWER HERE -- "
   ]
  },
  {
   "cell_type": "markdown",
   "metadata": {},
   "source": [
    "Now you should have a generally good idea of the structure of the output format of the `nmrglue.jcampdx.read()` function. "
   ]
  },
  {
   "cell_type": "markdown",
   "metadata": {},
   "source": [
    "**(9) Python Task:** <br>\n",
    "Use `nmrglue.jcampdx.read()` to read in the all the NMR spectra and assign them to the variables below."
   ]
  },
  {
   "cell_type": "code",
   "execution_count": null,
   "metadata": {},
   "outputs": [],
   "source": [
    "phenol =  # fill out\n",
    "o_nitrophenol =  # fill out\n",
    "p_nitrophenol =  # fill out"
   ]
  },
  {
   "cell_type": "markdown",
   "metadata": {},
   "source": [
    "We can't go ahead and plot it naivly just yet, we actually have to create the x data for the NMR spectra and we have to set the appropiate axes units. In the output dictionary there's information about the x and y axis units ('XUNITS' and 'YUNITS') the number of points, ('NPOINTS') for the x data, and the first and last value of x ('FIRSTX' and 'LASTX'). This is all the information we need to plot an appropiate NMR spectrum."
   ]
  },
  {
   "cell_type": "markdown",
   "metadata": {},
   "source": [
    "**(10) Python Task:** <br>\n",
    "Fill out the variables below using the \"phenol\" variable we assigned in **(9)** and use it to construct an NMR spectrum of phenol as the figure below WITH THE CORRECT AXES LABELS.\n",
    "\n",
    "HELP: You first have to extract the values from 'NPOINTS', 'FIRSTX' and 'LASTX' from the dictionary in the phenol variable above, into the npoints, firstx and lastx variables respectively. Remember to turn them into the `int` type! Then use these 3 variables with `numpy.linspace()` to construct the appropiate x data for phenol andput it into phenolx. \n",
    "\n",
    "<img src=\"images/phenol_NMR_spectra.png\"> "
   ]
  },
  {
   "cell_type": "code",
   "execution_count": null,
   "metadata": {},
   "outputs": [],
   "source": [
    "# -- YOUR CODE HERE --\n",
    "# extract the data from phenol into the variables below\n",
    "xlabel = # fill out\n",
    "ylabel = # fill out\n",
    "npoints =  # fill out\n",
    "firstx =  # fill out\n",
    "lastx =  # fill out\n",
    "phenolx = # fill out\n",
    "phenoly =  # fill out \n",
    "# ---------------------\n",
    "\n",
    "# -- YOUR CODE HERE --\n",
    "# plot the NMR spectrum of phenol\n",
    "# ---------------------"
   ]
  },
  {
   "cell_type": "markdown",
   "metadata": {},
   "source": [
    "**(11) Python Task:** <br>\n",
    "Make the phenol NMR spectrum plot nicer (as the figure below) by:\n",
    "1. Only showing values with a chemical shift between 6.4 and 7.4\n",
    "2. Reversing the x axis so it goes from high to low chemical shift (which is the usual way of plotting an NMR spectra). The easiest way to do this is just to adjust the x axis.\n",
    "\n",
    "<img src=\"images/phenol_NMR_spectra_zoom.png\">"
   ]
  },
  {
   "cell_type": "code",
   "execution_count": null,
   "metadata": {
    "scrolled": true
   },
   "outputs": [],
   "source": [
    "# -- YOUR CODE HERE --\n",
    "# ---------------------"
   ]
  },
  {
   "cell_type": "markdown",
   "metadata": {},
   "source": [
    "Now that you see the peaks more clearly it would be nice to note which peaks belong to which proton and what there chemical shifts are. `nmrglue` has a function `nmrglue.analysis.peakpick.pick()` that can pick the peaks for a spectra. It takes an ndarray of the NMR data (such as phenoly as we have defined) and then a lower bound for determing if a point is a peak or not. It returns a `numpy.recarray` object that works kinda like a python `dict`. "
   ]
  },
  {
   "cell_type": "markdown",
   "metadata": {},
   "source": [
    "**(12) Python Task:** <br>\n",
    "Use `nmrglue.analysis.peakpick.pick()` to pick the chemical shift peaks of the NMR spectra and produde the figure below. We have already supplied the code for the peak picking. The peak values are returned as the indices of where the peaks are on the x axis. We have saved this `ndarray` of these values in the peaks variable. Your jobs is to find the x and y values at these indices (that is inside of phenolx and phenoly) and then construct two arrays with the corresponding values. Take a look at the code below. Loop through the peaks and add the x and y values (of phenolx and phenoly) to the x and y variable. \n",
    "    \n",
    "<img src=\"images/phenol_peak_picked.png.png\">"
   ]
  },
  {
   "cell_type": "code",
   "execution_count": null,
   "metadata": {},
   "outputs": [],
   "source": [
    "peaks = nmrglue.analysis.peakpick.pick(phenoly, 0.22*10**8)\n",
    "peaks = peaks['X_AXIS'].astype('int32')\n",
    "\n",
    "# -- YOUR CODE HERE --\n",
    "# plot the NMR spectra for phenol as previously. \n",
    "\n",
    "# --------------------\n",
    "\n",
    "x = []\n",
    "y = []\n",
    "for i in peaks:\n",
    "    # -- YOUR CODE HERE --\n",
    "    # append the values to x and y \n",
    "    # --------------------\n",
    "    \n",
    "# -- YOUR CODE HERE --\n",
    "# plot a scatterplot at the picked peak. \n",
    "# --------------------"
   ]
  },
  {
   "cell_type": "markdown",
   "metadata": {},
   "source": [
    "We can now assign the NMR spectrum chemical shift to the corresponding protons."
   ]
  },
  {
   "cell_type": "markdown",
   "metadata": {},
   "source": [
    "**(13) Python Task:** <br>\n",
    "Finish the Markdown table below. We want to assign the different equivalent proton groups to their corresponding chemical shifts. Starting from the left in the spectra. The triplet is the blue protons ($H_b$), then the dublet is the green protons ($H_a$) and the last triplet is the yellow proton ($H_c$). In this case we will take the chemical shift to be the center of the peaks, so for the triplets you can pick the middle peak, while for the dublet you can pick the mid point between them.\n",
    "\n",
    "<img src=\"images/H_of_phenol.png\" width=500>\n",
    "\n",
    "Whenever we deal with string formatting, such as in the creation of a Markdown table, it is convenient to use the [format()](https://docs.python.org/3.7/library/stdtypes.html#str.format) function. At the very basis level  `format()` will replace all the \"{}\" you have in your string, with what you feed into `format()` in the parameters. For instance:\n",
    "\n",
    "```python\n",
    "print(\"{0} {1} {2}\".format(\"I\", \"am\", 13 + 14))\n",
    "```\n",
    "\n",
    "will output \"I am 27\". \n",
    "\n",
    "Inside the string and inside the \"{}\" you can set the output format. For instace if we write \"{0:6.2f}\" it means that we want the first parameter given to `format()` (indicated by 0) fill max 6 places (indicated by the 6), have 2 decimals (indicated by the .2) and be a intepreted as a float (indicated by the f). Use this when creating the Markdown table."
   ]
  },
  {
   "cell_type": "code",
   "execution_count": null,
   "metadata": {},
   "outputs": [],
   "source": [
    "# -- YOUR CODE BELOW --\n",
    "Markdown(r'''\n",
    "| Equivalent protons   | $\\delta$ (ppm) | \n",
    "|:---------------------|---------------:|\n",
    "| $ H_a $              | {0:6.2f}       |\n",
    "| $ H_b $              | # FILL OUT     |\n",
    "| $ H_c $              | # FILL OUT     |\n",
    "'''.format(, ,) # Fill out\n",
    "# -------------------- "
   ]
  },
  {
   "cell_type": "markdown",
   "metadata": {},
   "source": [
    "**(14) Python Task:** <br>\n",
    "Plot the spectra of 2-nitrophenol using the same criterias as in **(11)**. It should look like the figure below. Color it green instead of blue. We would like to distinquish the different sprectras in the notebook. Much of the code can be copied from the previous exercises. \n",
    "\n",
    "<img src=\"images/2-nitrophenol_NMR_spectra_zoom.png\">"
   ]
  },
  {
   "cell_type": "code",
   "execution_count": null,
   "metadata": {},
   "outputs": [],
   "source": [
    "# -- YOUR CODE HERE --\n",
    "# ---------------------"
   ]
  },
  {
   "cell_type": "markdown",
   "metadata": {},
   "source": [
    "Since the peaks of 2-nitrophenol is widely seperated we would like the figure to contain more information of the peaks as the one below in the **(15 BONUS)** exercise. When you finish all the non BONUS exercises you can come back to finish **(15 BONUS)** to learn how to make this plot. For now continue onwards! "
   ]
  },
  {
   "cell_type": "markdown",
   "metadata": {},
   "source": [
    "**(15 BONUS) Python Task**: <br>\n",
    "Make a plot like the one below for 2-nitrophenol.\n",
    "\n",
    "<img src=\"images/2-nitrophenol-advanced.png\" width=500>\n",
    "\n",
    "We can make plots inside plots in  `matplotlib ` by having multiple  `Axes ` objects inside a `Figure` object. To add an axis you can do use `fig.add_axes()` like so: \n",
    "\n",
    "```python\n",
    "left, bottom, width, height = [0.60, 0.23, 0.28, 0.28] \n",
    "ax2 = fig.add_axes([left, bottom, width, height])\n",
    "```\n",
    "\n",
    "_left_ and _bottom_ specifies the relative position of the `Axes` object in the figure. _width_ and _height_ specifies the size of the `Axes` object. All values should be between 0 and 1. Play around with numbers to get a feeling of it in the plot. \n",
    "\n",
    "To remove the frame from the axes you can do: \n",
    "\n",
    "```python\n",
    "ax2.axis('off')\n",
    "```\n",
    "\n",
    "To add hydrogens to 2-nitrophenol you have to write the following\n",
    "\n",
    "```python\n",
    "mol2 = rdkit.Chem.AddHs(mol2)\n",
    "```\n",
    "\n",
    "You would need to find a function that can save a picture. You have to go through the `rdkit.Chem.Draw` module."
   ]
  },
  {
   "cell_type": "code",
   "execution_count": null,
   "metadata": {},
   "outputs": [],
   "source": [
    "# -- YOUR CODE HERE --\n",
    "# ---------------------"
   ]
  },
  {
   "cell_type": "markdown",
   "metadata": {},
   "source": [
    "**(16) Python Task:** <br>\n",
    "Plot the spectra of 4-nitrophenol using the same criterias as in **(11)** and **(14**). It should look like the figure below. Color it red. \n",
    "\n",
    "<img src=\"images/4-nitrophenol-zoom.png\">"
   ]
  },
  {
   "cell_type": "code",
   "execution_count": null,
   "metadata": {},
   "outputs": [],
   "source": [
    "# -- YOUR CODE HERE --\n",
    "# ---------------------"
   ]
  },
  {
   "cell_type": "markdown",
   "metadata": {},
   "source": [
    "**(17 BONUS) Python Task:** <br>\n",
    "Plot all spectras side by side like figure below and make a tittle for each NMR spectra. Some of the code is already written for you below. Use the built-in funciton `zip()` to smartly loop through all combinations of the spectras and plot them.\n",
    "\n",
    "<img src=\"images/all-spectras-zoom.png\">"
   ]
  },
  {
   "cell_type": "code",
   "execution_count": null,
   "metadata": {},
   "outputs": [],
   "source": [
    "fig, axes = plt.subplots(1,3, figsize = (6.4 * 3, 4.8))\n",
    "\n",
    "for ax, spectrum, name, limit, color in zip(axes, \n",
    "                              (phenol, o_nitrophenol, p_nitrophenol), \n",
    "                              (\"Phenol\", \"2-Nitrophenol\", \"4-nitrophenol\"),\n",
    "                              ((7.4, 6.8),((8.5,6.5)),(8.5,6.5)),\n",
    "                              (\"b\", \"g\", \"r\")):\n",
    "\n",
    "# -- YOUR CODE HERE --\n",
    "# ---------------------\n",
    "\n",
    "plt.show()"
   ]
  },
  {
   "cell_type": "markdown",
   "metadata": {},
   "source": [
    "## Fitting rate equations to time resolved NMR data\n",
    "<a id='3'></a>"
   ]
  },
  {
   "cell_type": "markdown",
   "metadata": {},
   "source": [
    "Now we have explored the single NMR spectras of phenol, 2-nitrophenol and 4-nitrophenol of the paracetamol syntesis. Now we want to investigate the reaction kinetics of the nitration of phenol to procude 2-nitrophenol and 4-nitrophenol. One technique to accomplish this is time resolved NMR spectroscopy. The results of such an NMR experiment can be found in `data/NMR/mixture.csv`.\n",
    "\n",
    "**Open the raw data file in Jupyter**. This can be done by going back to directory that automatically opens up when starting up a Jupyter Notebook and selecting a file. You can also open a file up directly into a Jupyter Notebook by using the magic command `%cat`. \n",
    "\n",
    "It can be a bit hard to read. As before the x (datapoints), y (time) and z (intensities) is annotated as well as the first and last x is value. The first row (line 12 under the \"XYDATA\") is the time. The first column below the rime row is the x values for the data. It is not ppm, but has to be turned into ppm as we did previously. The rest the columns indicate the measurement as at a specific time, given by the time row (they should be in the same column).\n",
    "\n",
    "To load the data into, and to manipulate them in our Notebook, we will utilize the python library `pandas`."
   ]
  },
  {
   "cell_type": "markdown",
   "metadata": {},
   "source": [
    "**(18) Python Task:** <br>\n",
    "Use `pandas` to load in the `data/NMR/mixture.csv`. We have already supplied most of the code for you. You just have to read in the data into the time_r_spectra variable. Make sure you skip the headers and that the data read in are of the `float` type."
   ]
  },
  {
   "cell_type": "code",
   "execution_count": null,
   "metadata": {},
   "outputs": [],
   "source": [
    "# -- YOUR CODE HERE --\n",
    "time_r_spectra =  # fill out\n",
    "# ---------------------\n",
    "time_r_spectra.index = np.array([round(i,3) for i in np.linspace(0, 11, len(time_r_spectra.index))])\n",
    "time_r_spectra.index.name = r'$\\delta$ (ppm)'\n",
    "time_r_spectra.columns.name = 'Time (s)'\n",
    "time_r_spectra.index = time_r_spectra.index.astype(np.float64) \n",
    "time_r_spectra.columns = time_r_spectra.columns.astype(np.float64) \n",
    "time_r_spectra.head()"
   ]
  },
  {
   "cell_type": "markdown",
   "metadata": {},
   "source": [
    "**(19) Python Task:** <br>\n",
    "What does the `astype(np.float64)` function do and why do you think it is important?"
   ]
  },
  {
   "cell_type": "code",
   "execution_count": null,
   "metadata": {},
   "outputs": [],
   "source": [
    "# -- YOUR ANSWER HERE --"
   ]
  },
  {
   "cell_type": "markdown",
   "metadata": {},
   "source": [
    "**(20) Python Task:** <br>\n",
    "We will now now make 2 ndarrays, one consisting of the time and one consisting of the chemical shifts ($\\delta$). In the exercises to come, whenever we need to acces the time data or chemical shifts we can just call these."
   ]
  },
  {
   "cell_type": "code",
   "execution_count": null,
   "metadata": {},
   "outputs": [],
   "source": [
    "# -- YOUR CODE HERE --\n",
    "time =  # fill out\n",
    "ppm =  # fill out\n",
    "# ---------------------"
   ]
  },
  {
   "cell_type": "markdown",
   "metadata": {},
   "source": [
    "### Visualizing time resolved NMR data"
   ]
  },
  {
   "cell_type": "markdown",
   "metadata": {},
   "source": [
    "Before we go on we want to show you different ways to visualize time resolved NMR data. Feel free to play around with the data and visualization to get a sense of what happens and what it looks like. For these to work you have to write in code cell: \n",
    "\n",
    "```python\n",
    "%matplotlib notebook\n",
    "```"
   ]
  },
  {
   "cell_type": "markdown",
   "metadata": {},
   "source": [
    "### Fixed time (ipywidgets) [SKIP THIS STEP]\n",
    "Below we have made an interactive plot using [ipywidgets](https://ipywidgets.readthedocs.io/en/latest/examples/Using%20Interact.html). You can use `ipywidgest` to make interactive plots as below with buttons or with scrollers and a bunch of cool different stuff. When you click on the different buttons you will see the NMR spectra change according to the time it was taken (0 s, 5.051 s or 10 s). "
   ]
  },
  {
   "cell_type": "code",
   "execution_count": null,
   "metadata": {},
   "outputs": [],
   "source": [
    "def plot(time, ax):\n",
    "    ax.clear()\n",
    "    measurement = time_r_spectra[time].values\n",
    "    ax.plot(ppm, measurement, c=\"b\")\n",
    "    ax.set_ylabel(\"Intensity\", fontsize=12)\n",
    "    ax.set_xlabel(r'$\\delta$ (ppm)', fontsize=12)\n",
    "    ax.set_xlim([8.3, 6.8])\n",
    "    ax.set_ylim([-0.4*10**8, 4.0*10**8])\n",
    "    plt.show()\n",
    "\n",
    "toggle = widgets.ToggleButtons(options=['0.000 s', '5.051 s', '10.000 s'], description='Time:', button_style='')\n",
    "fig, ax = plt.subplots()\n",
    "def on_click(change):\n",
    "    plot(float(change['new'][:-2]), ax)\n",
    "toggle.observe(on_click, 'value')\n",
    "toggle"
   ]
  },
  {
   "cell_type": "markdown",
   "metadata": {},
   "source": [
    "### Continues time (matplotlib animation)\n",
    "Below we have utilized [matplotlib.animation](https://matplotlib.org/3.1.1/api/animation_api.html) to visualize how the NMR spectra changes as a function of time. <br>\n",
    "Ignore the warning \"*No handles with labels found to put in legend.*\" and the plot created below the video."
   ]
  },
  {
   "cell_type": "code",
   "execution_count": null,
   "metadata": {},
   "outputs": [],
   "source": [
    "fig = plt.figure()\n",
    "ax = plt.axes(xlim=(8.3, 6.8), ylim=(-0.4*10**8, 3.6*10**8))\n",
    "line, = ax.plot([], [], lw=3)\n",
    "\n",
    "def init():\n",
    "    line.set_data([], [])\n",
    "    return line,\n",
    "\n",
    "legend = plt.legend()\n",
    "def animate(i):\n",
    "    x = ppm\n",
    "    y = time_r_spectra.iloc[:,i].values\n",
    "    line.set_data(x, y)\n",
    "    line.set_label(\"Time: \" + str(time[i]) + \" s\")\n",
    "    legend = plt.legend(loc='upper left')\n",
    "    return line,\n",
    "\n",
    "anim = FuncAnimation(fig, animate, init_func=init, frames=100, interval=100, blit=True, )\n",
    "HTML(anim.to_html5_video())"
   ]
  },
  {
   "cell_type": "markdown",
   "metadata": {},
   "source": [
    "### 3D plot (matplotlib 3D plotting)\n",
    "\n",
    "Below we have utilized the 3D plotting capabilities of `matplotlib` to visualize the NMR time resolved data in 3 dimensions."
   ]
  },
  {
   "cell_type": "code",
   "execution_count": null,
   "metadata": {},
   "outputs": [],
   "source": [
    "fig, ax = plt.subplots(subplot_kw={'projection': '3d'}, figsize=(8.0*2, 6.0*2)) # figsize=(8.0*2, 6.0*2)\n",
    "\n",
    "sel = (ppm < 8.4) & (ppm > 6.8)\n",
    "for t in reversed(time):\n",
    "    measurement = time_r_spectra[t].values[sel]\n",
    "    tt = np.full(len(measurement), t)\n",
    "    ax.plot(tt, ppm[sel], measurement, \"b\", lw=0.3)\n",
    "    ax.set_zlabel(r\"Intensity\", fontsize=17, color= \"black\")\n",
    "    ax.set_ylabel(r\"$\\delta$ (ppm)\", fontsize=17, color= \"black\")\n",
    "    ax.set_xlabel(r\"$Time (s) $\", fontsize=17, color= \"black\")\n",
    "\n",
    "plt.show()"
   ]
  },
  {
   "cell_type": "markdown",
   "metadata": {},
   "source": [
    "**(21) Chemistry Task:** <br>\n",
    "From the above visualizations describe what happens to the NMR data as time progresses. Why do new peaks appear and where are they from?"
   ]
  },
  {
   "cell_type": "code",
   "execution_count": null,
   "metadata": {},
   "outputs": [],
   "source": [
    "# -- YOUR ANSWER HERE --"
   ]
  },
  {
   "cell_type": "markdown",
   "metadata": {},
   "source": [
    "Now to fit rate equations to the time resolved NMR data we have to pick 1 peak from phenol that does not overlap with the products (2- and 4-nitrophenol). This is where the pure spectras from the previous exercises come in handy. To find a peak from phenol that does not overlap with the others we have to plot our 3 basis spectras in the same plot. We can use the same colors as previous to distinquish them. To see that the peaks dont change their chemical shifts we can overlap our time resolved NMR spectra a time 0 s. Finally we can pick the unique peak from phenol using the peak picker from the `nmrglue.analysis.peakpick.pick()` function as we did in exercise **(12)**."
   ]
  },
  {
   "cell_type": "markdown",
   "metadata": {},
   "source": [
    "**(22) Python Task:** <br>\n",
    "Do the following:\n",
    "1. Plot the 3 pure spectras of phenol 2- and 4-nitrophenol in the same figure (with the same color as previously). Remember to set a legend so we can distinquish the peaks as well. Also plot time resolved NMR spectra 0 s in a black color. You can distinquish between the pure and time resolved NMR data by making the pure spectra lines a thicker `linewidth`. This we do to see that that the two spectras from phenol overlap. We have to justify this when picking a peak from the time resolved NMR data.  \n",
    "\n",
    "\n",
    "2. Indentify 1 peak (with `nmrglue.analysis.peakpick.pick()`) of phenol from the time resolved NMR spectra at time 0 s that are unique and mark the unique peak with a circle \"o\" in the plot.' \n",
    "\n",
    "We have already use the peak picker function for you. Your job is to make sense of the output from that, as well as doing the plotting. Your final plot should look something like the figure below. In this figure below we have selected the second peak from the left. \n",
    "\n",
    "<img src=\"images/selected-peak.png\">"
   ]
  },
  {
   "cell_type": "code",
   "execution_count": null,
   "metadata": {},
   "outputs": [],
   "source": [
    "peaks = nmrglue.analysis.peakpick.pick(time_r_spectra[0].values, 0.22*10**8)\n",
    "peaks = peaks['X_AXIS'].astype('int32')\n",
    "\n",
    "fig, ax = plt.subplots(figsize=(6.4*2, 4.6*2))\n",
    "\n",
    "# -- YOUR CODE HERE --\n",
    "# Plot the 3 pure spectras\n",
    "# ---------------------\n",
    "\n",
    "# -- YOUR CODE HERE --\n",
    "\n",
    "# ---------------------\n",
    "\n",
    "# -- YOUR CODE HERE --\n",
    "choice = peaks[#NUMBER] # number you choice of the peak you selected\n",
    "# ---------------------\n",
    "ax.scatter(ppm[choice], time_r_spectra.iloc[choice].loc[0], marker=\"o\", s=500, color=\"k\", facecolors='none') \n",
    "plt.legend(prop={'size': 15})\n",
    "plt.show()\n"
   ]
  },
  {
   "cell_type": "markdown",
   "metadata": {},
   "source": [
    "**(23) Python Task:** <br>\n",
    "At the chemical shift of the peak you chose, plot how the intensity changes as a function of time. It should look something like the figure below. Most of the code is already written for you. Fill out the peak_change variable. \n",
    "\n",
    "<img src=\"images/peak-change.png\">"
   ]
  },
  {
   "cell_type": "code",
   "execution_count": null,
   "metadata": {},
   "outputs": [],
   "source": [
    "# -- YOUR CODE HERE --\n",
    "peak_change =  # fill out\n",
    "# ---------------------\n",
    "\n",
    "fig, ax = plt.subplots()\n",
    "ax.plot(time, peak_change)\n",
    "ax.set_ylabel(\"Intensity\", fontsize=12)\n",
    "ax.set_xlabel(\"Time (s)\", fontsize=12)\n",
    "plt.show()"
   ]
  },
  {
   "cell_type": "markdown",
   "metadata": {},
   "source": [
    "From the above figure we can clearly see a change in the intensity as a function of time. Now we would like to fit a second order rate equation to the data of the form:\n",
    "\n",
    "$$ \\frac{d[A]}{dt} = - k[A]^2$$\n",
    "\n",
    "Where A is concentration of phenol as a function of time (t) and k is the rate constant of the reaction. "
   ]
  },
  {
   "cell_type": "markdown",
   "metadata": {},
   "source": [
    "**(24 BONUS) Chemistry Task:** <br>\n",
    "Solve the differential equation above. Write down the steps to solve it in Markdown."
   ]
  },
  {
   "cell_type": "code",
   "execution_count": null,
   "metadata": {},
   "outputs": [],
   "source": [
    "# -- YOUR ANSWER HERE --"
   ]
  },
  {
   "cell_type": "markdown",
   "metadata": {},
   "source": [
    "The solution for this differential equation is:\n",
    "\n",
    "$$ A = \\frac{A0}{A0*k*t+1} $$\n",
    "\n",
    "Where [A0] is the starting concentration of phenol."
   ]
  },
  {
   "cell_type": "markdown",
   "metadata": {},
   "source": [
    "Before we move on to fitting this model to our data we first have to convert the y-axis into concentration. "
   ]
  },
  {
   "cell_type": "markdown",
   "metadata": {},
   "source": [
    "**(25) Python Task:** <br>\n",
    "We have a starting concentration of 10 mM of phenol. Modify the peak_change variable so that the max intensity is equal to 10 mM and everything after that is relavtive to that. If plottet it should look identical to the plot in **(23)** with concentration instead of Intensity on the y-axis. "
   ]
  },
  {
   "cell_type": "code",
   "execution_count": null,
   "metadata": {},
   "outputs": [],
   "source": [
    "peak_change = # fill out - yes you should modify this variable as described "
   ]
  },
  {
   "cell_type": "markdown",
   "metadata": {},
   "source": [
    "**(26) Python Task:** <br>\n",
    "Complete the fitting function (\"A\") below. It should return the equation from above. "
   ]
  },
  {
   "cell_type": "code",
   "execution_count": null,
   "metadata": {},
   "outputs": [],
   "source": [
    "def A(t, k):\n",
    "    # -- YOUR CODE HERE --\n",
    "    A0= # fill out\n",
    "    return # fill out\n",
    "    # ---------------------"
   ]
  },
  {
   "cell_type": "markdown",
   "metadata": {},
   "source": [
    "**(27) Python Task:** <br>\n",
    "Use `scipy.optimize.curve_fit())` to fit the fitting equation from **(26)** (\"A\") to the data. Using the built-in `print()` function, print k +/- the error in the output rounded to 3 decimals. "
   ]
  },
  {
   "cell_type": "code",
   "execution_count": null,
   "metadata": {},
   "outputs": [],
   "source": [
    "# -- YOUR CODE HERE --\n",
    "# ---------------------"
   ]
  },
  {
   "cell_type": "markdown",
   "metadata": {},
   "source": [
    "**(BONUS 28) Chemistry Task:** <br>\n",
    "What is the units of k and how does it compare to the literature?"
   ]
  },
  {
   "cell_type": "code",
   "execution_count": null,
   "metadata": {},
   "outputs": [],
   "source": [
    "# -- YOUR ANSWER HERE --"
   ]
  },
  {
   "cell_type": "markdown",
   "metadata": {},
   "source": [
    "**(29) Python Task:** <br>\n",
    "Make a plot of your fit vs the experimental data. It should look something like the figure below: \n",
    "\n",
    "<img src=\"images/rate-fit.png\">"
   ]
  },
  {
   "cell_type": "code",
   "execution_count": null,
   "metadata": {},
   "outputs": [],
   "source": [
    "# -- YOUR CODE HERE --\n",
    "# ---------------------"
   ]
  },
  {
   "cell_type": "markdown",
   "metadata": {},
   "source": [
    "**(30) Chemistry Task:** <br>\n",
    "Qualitatively speaking: How well does your fit compare to to the experimental data"
   ]
  },
  {
   "cell_type": "code",
   "execution_count": null,
   "metadata": {},
   "outputs": [],
   "source": [
    "# -- ANSWER HERE --"
   ]
  },
  {
   "cell_type": "markdown",
   "metadata": {},
   "source": [
    "## Part 2: Agostic and Non-agostic Interactions in PC(sp<sup>3</sup>)P Pincer Complex of Iridium"
   ]
  },
  {
   "cell_type": "markdown",
   "metadata": {},
   "source": [
    "### The system: PC(sp<sup>3</sup>)P Pincer Complex of Iridium\n",
    "It has been found by Jonasson, _et al_ (2015) that an agostic intermediate is formed in the reversible $\\alpha$-hydrogen and $\\alpha$-alkyl elimination of an Ir carbene complex. The intermediate was found to be in rapid equilibrium between the two distinct structures in solution as illustrated in **figure 2** below.\n",
    "\n",
    "<img src=\"images/reaction.png\" width=600 height=300>\n",
    "<p><center><b>Figure 2:</b> rapid equilibrium between the two distinct structures of the PC(sp3)P Pincer Complex</center></p>\n",
    "\n",
    "It can clearly be seen the chemical shift is changing as a function of temperature in the time resolved NMR spectra spectrum as seen below in **figure 3**. Contrary to the time resolved NMR data you saw before, this is fast-exchange NMR, meaning that instead of the peak intensities changes, the chemical shift changes! \n",
    "\n",
    "<img src=\"images/NMR_complex.png\" width=600 height=300>\n",
    "<p><center><b>Figure 3:</b> Chemical shift change as a function of time (from low to high spectra).</center></p>"
   ]
  },
  {
   "cell_type": "markdown",
   "metadata": {},
   "source": [
    "The chemical shift data was kindly supplied by the [Wendt group](http://www.kilu.lu.se/cas/research/the-wendt-group/) at Lund University, and are located in `data/NMR/H1_temperature.dat` for NMR data on hydrogen nuclei and `data/NMR/C13_temperature.dat` for data on carbon nuclei.\n",
    "\n",
    "**Open the raw data file in Jupyter** by using the Jupyter navigation browser and check for their content."
   ]
  },
  {
   "cell_type": "markdown",
   "metadata": {},
   "source": [
    "**(31) Chemistry Task:** <br>\n",
    "In vauge terms; why do the chemical shifts differ for the two hydrogens (proton in blue and protons from the methyl group in red) at 298 Kelvin?"
   ]
  },
  {
   "cell_type": "code",
   "execution_count": null,
   "metadata": {},
   "outputs": [],
   "source": [
    "# -- ANSWER HERE --"
   ]
  },
  {
   "cell_type": "markdown",
   "metadata": {},
   "source": [
    "**(32) Python Task:** Load the two files `H1_temperature.dat` and `C13_temperature.dat` into two pandas dataframes named `df_H1` and `df_C13` respectively using the `pandas` module. Make sure to include enough arguments such that obsticals found in the task 31 can be solved."
   ]
  },
  {
   "cell_type": "code",
   "execution_count": null,
   "metadata": {},
   "outputs": [],
   "source": [
    "# -- YOUR CODE BELOW --\n",
    "df_H1  =  # fill here\n",
    "df_C13 =  # fill here\n",
    "# ---------------------"
   ]
  },
  {
   "cell_type": "code",
   "execution_count": null,
   "metadata": {},
   "outputs": [],
   "source": [
    "# Look at the content of df_H1 here\n",
    "df_H1"
   ]
  },
  {
   "cell_type": "code",
   "execution_count": null,
   "metadata": {},
   "outputs": [],
   "source": [
    "# Look at the content of df_C13 here\n",
    "df_C13"
   ]
  },
  {
   "cell_type": "markdown",
   "metadata": {},
   "source": [
    "To get an easier understanding for the data we can plot the chemical shifts as a function of temperature."
   ]
  },
  {
   "cell_type": "markdown",
   "metadata": {},
   "source": [
    "**(33) Python Task:** <br>\n",
    "Plot the proton and carbon chemical shifts in three seperate plots side by side with the plots having correct labels. Attempt to loop over the Axis objects using a for loop, rather than setting the indivial titles! The plots should look the the figure below.\n",
    "\n",
    "<img src=\"images/part2_figure1.pdf\">"
   ]
  },
  {
   "cell_type": "code",
   "execution_count": null,
   "metadata": {},
   "outputs": [],
   "source": [
    "fig = plt.figure(figsize = (6.4 * 3, 4.8))\n",
    "# -- YOUR CODE BELOW --\n",
    "# ---------------------\n",
    "fig.tight_layout()\n",
    "plt.show()"
   ]
  },
  {
   "cell_type": "markdown",
   "metadata": {},
   "source": [
    "From the change in chemical shift as a function for the two hydrogen nuclei we can easily see a transition from one state to another, while it is less obvious for the carbon nuclei chemical shift. From those curves we will attempt to extract thermodynamic data under the assumption we are dealing with a reversible two-state model. Our two states will be the C-C agostic compound and non-agostic compound (see reaction above (**Figure 2**). Given the assumption of a reversible two-state model and a unique chemical shift can be associated with each state we can derive the observed change in chemical by the following equation (you will be able to derive this this later on in the course!):\n",
    "\n",
    "$$ \\delta_{\\text{obs}}(T) = \\frac{ \\delta_{\\text{agostic}} + \\delta_{\\text{non-agostic}} \\exp({-\\Delta G^{\\circ}/RT})}{1+\\exp({-\\Delta G^{\\circ}/RT})} \\tag{eq. 1}$$\n",
    "\n",
    "In eq. 1 $\\delta_{\\text{obs}}$ is the observed chemical shift at temperature $T$, $\\delta_{\\text{agostic}}$ and $\\delta_{\\text{non-agostic}}$ are the unique chemical shift associated with the agostic and non-agostic compound, $R$ is the gas constant and $-\\Delta G^{\\circ}$ is the Gibbs free energy.<br>"
   ]
  },
  {
   "cell_type": "markdown",
   "metadata": {},
   "source": [
    "**(34) Chemistry Task:** <br>\n",
    "Does eq. 1 remind you of any specific equation/distrubtion without the baseline signals?<br>"
   ]
  },
  {
   "cell_type": "code",
   "execution_count": null,
   "metadata": {},
   "outputs": [],
   "source": [
    "# -- YOUR ANSWER HERE --"
   ]
  },
  {
   "cell_type": "markdown",
   "metadata": {},
   "source": [
    "In this experiment, temperature perturbation has been utilized in order to drive the equlibrium from one state to another. Consequently the change in Gibbs free energy as a function of temperature can be described by the Gibbs-Helmholz equation (Derived from Dill p. 246, pp. 138-141.):\n",
    "\n",
    "$$ \\Delta G^{\\circ}(T) = \\Delta H^{\\circ}(T_{50}) \\left[1-\\frac{T}{T_{50}}\\right] + \\Delta C^{\\circ}_{p}(T_{50}) \\left[T-T_{50} \\log\\left(\\frac{T}{T_{50}}\\right)\\right] \\tag{eq. 2}$$\n",
    "\n",
    "Here $\\Delta H^{\\circ}(T_{50})$ is the change in enthalpy and $\\Delta C^{\\circ}_{p}(T_{50})$ the change in heat capacity both at the temperature $T_{50}$, which is the temperature at which the two states are equally populated. We will assume as standard $\\Delta C^{\\circ}_{p}(T_{50})=0$. Eq. 1 and 2 will together serve as our fitting function."
   ]
  },
  {
   "cell_type": "markdown",
   "metadata": {},
   "source": [
    "**(35) Python Task:** <br>\n",
    "Finish the function named ```twoStateModel``` in the following code cell below, using the variables taken by the function, which returns the result of eq. 1 when the change in Gibbs free energy is subtituted for eq. 2. Make sure to write a fully documented docstring for the function."
   ]
  },
  {
   "cell_type": "code",
   "execution_count": null,
   "metadata": {},
   "outputs": [],
   "source": [
    "def twoStateModel(T, offset_A, offset_B, T50, dH, dCp=0):\n",
    "    # -- YOUR CODE BELOW --\n",
    "    # write a docstring here\n",
    "    # ---------------------\n",
    "    \n",
    "    # -- YOUR CODE BELOW --\n",
    "    R = 0.00198720425864083 # Gas constant [kcal/(mol*K)]\n",
    "    # Modified Gibbs–Helmholtz equation (Derived from Dill p. 246, pp. 138-141.)\n",
    "    dG = # fill out\n",
    "    \n",
    "    # Two-state equilibrium with constant baseline for agostic and non-agostic signal\n",
    "    signal = # fill out\n",
    "    # ---------------------\n",
    "    return signal"
   ]
  },
  {
   "cell_type": "markdown",
   "metadata": {},
   "source": [
    "With the fitting function ready, we can use non-linear least squares fitting (`scipy.optimize.curve_fit()` ) to determine thermodynamic parameters from the non-linear fitting of the chemical shifts for the iridium bound hydrogen."
   ]
  },
  {
   "cell_type": "markdown",
   "metadata": {},
   "source": [
    "**(36) Python Task:** <br>\n",
    "Conduct a fitting of the thermodynamic parameters using the chemical shift from the iridium bond hydrogen. We have supplied some of the arguments for the `curve_fit()` function. Fill out the 3 arguments that are missing. Plot the results as the figure below. \n",
    "\n",
    "<img src=\"images/part2_figure2.pdf\" width=450 height=450>"
   ]
  },
  {
   "cell_type": "code",
   "execution_count": null,
   "metadata": {},
   "outputs": [],
   "source": [
    "# -- YOUR CODE BELOW --\n",
    "# ---------------------\n",
    "\n",
    "ax.plot(df_H1['T(K)'], twoStateModel(df_H1['T(K)'], *popt), 'g--')\n",
    "ax.plot(df_H1['T(K)'], df_H1['ẟ1H(IrH)'], 'ro')\n",
    "ax.set_xlabel('Temperature (K)', fontsize=14, labelpad=10)\n",
    "ax.set_ylabel('ẟ (ppm)', fontsize=14, labelpad=10)\n",
    "\n",
    "fig.savefig('data/images/part2_figure2.pdf')\n",
    "\n",
    "plt.show()"
   ]
  },
  {
   "cell_type": "markdown",
   "metadata": {},
   "source": [
    "From the curve fit function we have returned the fitted parameters in the variable `popt`, however we also desire to extract a full set of standard errors, as it is usually desired to report the nominal value +/- the standard error. Thankfully it is possible using the variable `pcov`."
   ]
  },
  {
   "cell_type": "markdown",
   "metadata": {},
   "source": [
    "**(37) Python Task:** <br>\n",
    "Using the docstring from the `curve_fit()` function, create a variable named `perr` that contains a numpy array of standard errors for the fitted parameters and print it's content using the built-in `print()` function."
   ]
  },
  {
   "cell_type": "code",
   "execution_count": null,
   "metadata": {},
   "outputs": [],
   "source": [
    "# -- YOUR CODE BELOW --\n",
    "# ---------------------"
   ]
  },
  {
   "cell_type": "markdown",
   "metadata": {},
   "source": [
    "We now got both fitted thermodynamic parameters ($\\Delta H$ and $\\Delta S$) at temperature $T_{50}$ and their associated standard errors, however one last thermodynamic parameter remains to be calculated from the obtained data: the entropy. A common difficulty in calculating properties from experimental measurements is the [_propagation of errors_](https://en.wikipedia.org/wiki/Propagation_of_uncertainty), which tends to yield highly complex mathmatical expressions ([examples here](https://en.wikipedia.org/wiki/Propagation_of_uncertainty#Example_formulae)). Thankfully a python package exists named [uncertainties](https://uncertainties-python-package.readthedocs.io/en/latest/#), which can make the propagation of errors a simple matter. Rhe `unumpy` module was loaded from the uncertainties package in the start of the notebook using the code\n",
    "\n",
    "```python\n",
    "from uncertainties import unumpy\n",
    "```"
   ]
  },
  {
   "cell_type": "markdown",
   "metadata": {},
   "source": [
    "**(38) Python Task:** <br>\n",
    "Using the function `unumpy.uarray()`, create a variable named `fitted_params` containing a numpy array of numbers with norminal values and standard errors. Print the value of $T_{50}$ and the associated error."
   ]
  },
  {
   "cell_type": "code",
   "execution_count": null,
   "metadata": {},
   "outputs": [],
   "source": [
    "# -- YOUR CODE BELOW --\n",
    "# ---------------------"
   ]
  },
  {
   "cell_type": "markdown",
   "metadata": {},
   "source": [
    "**(39) Python Task:** <br>\n",
    "Create a markdown table using type `Markdown()` with the three columns \"Quantity\", \"Value\", and \"Unit\" using the `fitted_params` variable where:\n",
    "1. Quantity contains: ($ \\text{Ir-}\\textbf{H} \\ \\delta_{\\text{agostic}}$, $ \\text{Ir-}\\textbf{H} \\ \\delta_{\\text{non-agostic}}$), $T_{50}$,  $\\Delta H(T_{50})$, and $\\Delta S(T_{50})$\n",
    "2. Value contains the parameters norminal value +/- their standard error with 2 decimal precision.\n",
    "3. Unit contains the correct qunit for the quanity. Report $\\Delta S(T_{50})$ in cal/(mol*K)\n",
    "\n",
    "For help to create the markdown table consult [this table generator](https://www.tablesgenerator.com/markdown_tables)."
   ]
  },
  {
   "cell_type": "code",
   "execution_count": null,
   "metadata": {},
   "outputs": [],
   "source": [
    "# -- YOUR CODE BELOW --\n",
    "# ---------------------"
   ]
  },
  {
   "cell_type": "markdown",
   "metadata": {},
   "source": [
    "At this point we have now managed to conduct the same analysis the authors of the study conducted! However originally the authors of the study desired to simultaneously fit both the hydrogen and carbon nuclei chemical shifts. This fitting approach is called _global fitting_ and would yield a single set of thermodynamic parameters using the whole data set (called the *shared parameters*), while the base line parameters are calculated for each data set (called the *non-shared parameters*).\n",
    "<br>\n",
    "\n",
    "The functionality of conducting a global fit does not come prebuild with python, nor any installed modules in the kemm30 enviroment you are currently working on. Consquently we will attempt to program our own global fitting function which uses the function `curve_fit()` function from the `scipy.optimize` module. In the following, a series python tasks will all lead to the development of our global fitting scheme!"
   ]
  },
  {
   "cell_type": "markdown",
   "metadata": {},
   "source": [
    "**(40) Python Task:** <br>\n",
    "Conduct a fitting of _all_ the NMR data _simultaneously_ to obtain thermodynamic parameters by following the steps below"
   ]
  },
  {
   "cell_type": "markdown",
   "metadata": {},
   "source": [
    "**Global Fit (1):**<br>\n",
    "Create a numpy array containing the chemical shift data (for simplicity make it as a 1xN matrix)"
   ]
  },
  {
   "cell_type": "code",
   "execution_count": null,
   "metadata": {},
   "outputs": [],
   "source": [
    "# NMR data\n",
    "# -- YOUR CODE BELOW --\n",
    "# --------------------"
   ]
  },
  {
   "cell_type": "markdown",
   "metadata": {},
   "source": [
    "**Global Fit (2):**<br>\n",
    "Create a numpy array containing the temperature data (for simplicity make it as a 1xN matrix)"
   ]
  },
  {
   "cell_type": "code",
   "execution_count": null,
   "metadata": {},
   "outputs": [],
   "source": [
    "# Temperatures\n",
    "# -- YOUR CODE BELOW --\n",
    "# --------------------"
   ]
  },
  {
   "cell_type": "markdown",
   "metadata": {},
   "source": [
    "**Global Fit (3):**<br>\n",
    "Create a function named `globalFunc` which takes the temperature sampling points, the non-shared baseline fitting parameters, and shared thermodynamic fitting parameters and returns the result of the individual data in a numpy array. The step by step procedure is:\n",
    "1. Extract the temperatures from the numpy array `ComboData`\n",
    "2. Calculate the chemical shift using the `twoStateModel` function for the individual curves using the shared parameters for all curves, and non-shared parameters for the individual curves.\n",
    "3. Return a numpy array containing the calculated chemical shift.\n",
    "\n",
    "\n",
    "The purpose of the `globalFunc` function is to be passed as argument to the `curve_fit` and is responsible for the division of data to fit the individual curves, and return calculated signals from the current set of fitted parameters."
   ]
  },
  {
   "cell_type": "code",
   "execution_count": null,
   "metadata": {},
   "outputs": [],
   "source": [
    "def globalFunc(comboData, A, B, C, D, E, F, Tm, dH):\n",
    "    # -- YOUR CODE BELOW --\n",
    "    extract1 =  # first data\n",
    "    extract2 =  # second data\n",
    "    extract3 =  # third data\n",
    "    \n",
    "    result1 = \n",
    "    result2 = \n",
    "    result3 = \n",
    "\n",
    "    return np.concatenate((result1, result2, result3), axis=0)\n",
    "    # --------------------"
   ]
  },
  {
   "cell_type": "markdown",
   "metadata": {},
   "source": [
    "**Global Fit (4):**<br>\n",
    "Conduct the global fit using the `curve_fit()` function from the scipy module."
   ]
  },
  {
   "cell_type": "code",
   "execution_count": null,
   "metadata": {},
   "outputs": [],
   "source": [
    "# -- YOUR CODE BELOW --\n",
    "# --------------------"
   ]
  },
  {
   "cell_type": "markdown",
   "metadata": {},
   "source": [
    "**Global Fit (5):**<br>\n",
    "Plot the fit and evaluate the results!\n",
    "<img src=\"images/part2_figure3.pdf\">"
   ]
  },
  {
   "cell_type": "code",
   "execution_count": null,
   "metadata": {},
   "outputs": [],
   "source": [
    "fig = plt.figure(figsize=(8.4,6))\n",
    "ax = fig.add_subplot(111)\n",
    "\n",
    "# -- YOUR CODE BELOW --\n",
    "\n",
    "# values for display of fitted function\n",
    "A, B, C, D, E, F, Tm, dH = popt\n",
    "\n",
    "y_fit_1 =  # first data set, first equation\n",
    "y_fit_2 =  # second data set, second equation\n",
    "y_fit_3 =  # third data set, third equation\n",
    "\n",
    "# plot the raw data\n",
    "# plot the equation using the fitted parameters\n",
    "# plot the equation using the fitted parameters\n",
    "# plot the equation using the fitted parameters\n",
    "# ---------------------\n",
    "\n",
    "ax.set_xlabel('Temperature (K)', fontsize=14, labelpad=10)\n",
    "ax.set_ylabel('ẟ (ppm)', fontsize=14, labelpad=10)\n",
    "ax.legend(loc=0)\n",
    "\n",
    "fig.savefig('data/images/part2_figure3.pdf')\n",
    "plt.show()"
   ]
  },
  {
   "cell_type": "markdown",
   "metadata": {},
   "source": [
    "**Global Fit (6 BONUS):** *Do not work on this unless you have finished everything else in the notebook!*<br>\n",
    "The code for the global fitting scheme can be generalized to an arbitary number of parameters (shared and non-shared) and functions, and written into a module for two-state modeling that you can use in future work. As already stated this was desired by the authors of the study, but they did not have the Python course you do now!\n",
    "<br>"
   ]
  },
  {
   "cell_type": "markdown",
   "metadata": {},
   "source": [
    "# Graphical excellence\n",
    "**(41) Python Task:**<br>\n",
    "We desire to sum up all the results we have done in this whole analysis into one figure ready for publication. Reproduce the plot shown below in the frame or make it even nicer such that you would gladly hand it over to your supervisor! We have already produced some of the code below for you. \n",
    "Do you understand the plot? It should be apparent if you completed all the previous exercises. If you are not sure ask your instructor. All information on how to recreate the plot has more or less been covered in the previous tasks or been covered in the lecture. For intructions on how to create tables please consult [this link](https://matplotlib.org/3.1.1/api/_as_gen/matplotlib.pyplot.table.html).\n",
    "\n",
    "<img src=\"images/Graphical_abstract.pdf\">\n"
   ]
  },
  {
   "cell_type": "code",
   "execution_count": null,
   "metadata": {},
   "outputs": [],
   "source": [
    "# -- YOUR CODE BELOW --\n",
    "# ---------------------"
   ]
  },
  {
   "cell_type": "code",
   "execution_count": null,
   "metadata": {},
   "outputs": [],
   "source": [
    "from cryptography.fernet import Fernet\n",
    "import base64\n",
    "def encrypt(string, key):\n",
    "    keygen = lambda x : base64.urlsafe_b64encode(x.encode() + b' '*(32 - len(x)))\n",
    "    cipher = Fernet(keygen(key))\n",
    "    return cipher.encrypt(string.encode())\n",
    "def decrypt(string, key):\n",
    "    keygen = lambda x : base64.urlsafe_b64encode(x.encode() + b' '*(32 - len(x)))\n",
    "    cipher = Fernet(keygen(key))\n",
    "    return cipher.decrypt(string.encode()).decode()"
   ]
  },
  {
   "cell_type": "markdown",
   "metadata": {},
   "source": [
    "**(1) Python task:**"
   ]
  },
  {
   "cell_type": "code",
   "execution_count": null,
   "metadata": {},
   "outputs": [],
   "source": [
    "task1 = 'gAAAAABdck5dGR7H0HOa-jJj6j4JqYLeVOL9dTwobH9AG7E77_58IRUmK8zhXSoggtEzZUxOP5tJqvtAQ84hfg-CITH8fLrFdQ8GBmnamCjrKNi5IOAunZmlkv1lIRxNbQZEjsmPzrCA4aCbzi5-UIwM6yDAK508EBpDGQBwn2MmtglNNcsfj9Y='\n",
    "Markdown(decrypt(task1, \"\"))"
   ]
  },
  {
   "cell_type": "markdown",
   "metadata": {},
   "source": [
    "**(2) Python task:**"
   ]
  },
  {
   "cell_type": "code",
   "execution_count": null,
   "metadata": {},
   "outputs": [],
   "source": [
    "task2 = 'gAAAAABdck56YCK67yO3jirRZLH7gNDNAj69T1qsEFEaEmtY6dszpkqKLIu4e-HeYqTUOrbDI6NtA3iNWwPvIjcglDnspcupJAugiyuH5LRmBjF_l1VbjmZntpRjxbIdaFxOKX3Yz6DlRcFNrFfNLm3b1yPqJA4p7b9dYXXEm50bI6LJ-LM3i4kQ-yq--4H1LltXTZffXCF9VM3HAR_7P4TRRjkDnCThoEnMRp3j2FeYopg9-6L-1ZSgmTzq87npLhAZWHw5U57-01XAKxK8ZS-3z-e70ExCVddFQzCktr-0d2OV_RBdEAHVBMt78kjqRhcny5G51tGOhYyyFn_7XXKdz_-BKLtiMkWcRXyxfg9oVCwoOAkuVGXghd8KCty4Iq54pIEUImDrUTvLS09OxCwfWXHMFz1Du2I0ccxs3QaP1qZDSHnnI_M='\n",
    "Markdown(decrypt(task2, \"\"))"
   ]
  },
  {
   "cell_type": "markdown",
   "metadata": {},
   "source": [
    "**(4) Python task:**"
   ]
  },
  {
   "cell_type": "code",
   "execution_count": null,
   "metadata": {},
   "outputs": [],
   "source": [
    "task4 = 'gAAAAABdck6aC7z3FBMBw-ziIK6BHkmAm0rjhPYeZ5WCqNfsOm590l_hJoXfylt2q-EGkK-G-5uUIXrJ0TPJiCeWnTqVqr0TsBQMyjXx-XMI3fhiYKz893WTJdcxMqL7l63NuIhh2dYXzK0o9wr8zmTfCby7QbhW0hCRloIRChlj1cithmIKNuPqMDmQHNzo4e3vU0Gvm33WJQP-QX7YfI6WlrnIBPeVoZwCFvzFM_gNUvouWOt1wFI62_CXTcU4G2xwKeCxzvEK'\n",
    "Markdown(decrypt(task4, \"\"))"
   ]
  },
  {
   "cell_type": "markdown",
   "metadata": {},
   "source": [
    "**(5) Python task:**"
   ]
  },
  {
   "cell_type": "code",
   "execution_count": null,
   "metadata": {},
   "outputs": [],
   "source": [
    "task5 = 'gAAAAABdck6wQ7vxmPpMR2kj4GilWXOqfksV39dtiGRuoE47Wc7xC6txTLcH6V6hOq298Rg5ljiaC2i1_m5rgWMZxK-TxOap49Yp4-BKwPFtAFSNtELEvKVRixDsNknlcNCK8CHBlSrY2_UKo1hoj5JkRv9A8nOpxmi3rH2alwUatnIl2QIC5L9j0lt3tAdnXHES8mYY5Btc'\n",
    "Markdown(decrypt(task5, \"\"))"
   ]
  },
  {
   "cell_type": "markdown",
   "metadata": {},
   "source": [
    "**(6) Python task:**"
   ]
  },
  {
   "cell_type": "code",
   "execution_count": null,
   "metadata": {},
   "outputs": [],
   "source": [
    "task6 = 'gAAAAABdck7SeY-S8UCzpiT-iFclB_0_vly1U9kUWJ2FgAIlLFG6oiROZSMzmNGja9qvtSJSB4Af7a__XSedPY34iPSeTVnTh1EUvowxPWwvdo1vmwISDav4ItEUeklGB66CKv0gNGQ-Of58lyA77vjoPqZ0OnHR3u8MuwmcEwVPfNTYc1fzDsG9Yhbzv8LcPe5h2BTNgu_U5p0q9Z0N0CDfE6vZS3jQIg=='\n",
    "Markdown(decrypt(task6, \"\"))"
   ]
  },
  {
   "cell_type": "markdown",
   "metadata": {},
   "source": [
    "**(9) Python task:**"
   ]
  },
  {
   "cell_type": "code",
   "execution_count": null,
   "metadata": {},
   "outputs": [],
   "source": [
    "task9 = 'gAAAAABdck7s-ewhx0LDDlJ09aLp3CYJ77YASnEcwM3WGePx3r8Hx1Wp-QmSOr8RHqsAMOIto2YPuqbdP6BwWp0Dzk8gSaOmkSdIDPYArg5S3kigTu99nLY8yF7ccXcMS8W0WtCih6nlwQWcPVezgQUtFou47CXKNIXNMj0raersaRPkZgwgAVtzwmL_-cHx5UrjaikIdMEPlTf9TtipSSuNjNdiStNbJu79wj3SydSj29Uz_KCIz7taOPKFW8-6w2cxKVCGH69n5DbWNurg6e9uINQcGwmsVfKGEanUOa4O5-WP0XSkZdkjUe1GNk9Zl-ARiESykX216H9_2FLavhsOO-BLzFJpNQ=='\n",
    "Markdown(decrypt(task9, \"\"))"
   ]
  },
  {
   "cell_type": "markdown",
   "metadata": {},
   "source": [
    "**(10) Python task:**"
   ]
  },
  {
   "cell_type": "code",
   "execution_count": null,
   "metadata": {},
   "outputs": [],
   "source": [
    "task10 = 'gAAAAABdck8CGZb7NTfj5AUppU9bsx1gIPfSKBNEze39E_vvZlmVy_fzLzEKDhL2qBj4Ba-adgowxqoWO4sbdmyXD39QGvj-dWg2LWR20-ARgOBRpXuJb-9UDrMooeSLjuyg1dp4nO0F1neI80dW68nPdZBFoc54wSyUuklyrkmvdldgBG57FdJCzTj7NbU-hBgpioYmfQ6QQNJcweUzh7IP7ejz_Kyr3oQ7Ei8Sc9xh-BJeLT81iuvcfrFpMjMZTmY9YI907kzI0-QOvchvNvT2Eyx0jb-cFAsiETB7TpJ_Ox1pyHGWcF-dRL2-Z8eFH-W0YJa3WmYLNQrXgBGV7ExDa5eyRhv16qJkfndVfR2GOOrAr-Cm0dS0LiRbXy8HdSC_yzHJnpr9HKassoR52rEJI_JLk5d0ySHh-bbu5VKHTZQrEL2bOIxbZoI-Ed94bvo1BGOGZkcLmbdrDVQQm_EJLUUGFLelIaG5o_I1y7YL1txNjYkVd9PD0oSVmdeqeHfYOqRqHxDNXyShTyWRcpBeaPkChmEsoeI790haokvK-H7qjH6t94wbJbZDiJ4VmpvJMQr1iz_HWUgVsfvXVccwlyJaNcxs68-rns0om___ImL8_LPFd8cH17_oNyDbcqfMkoUatHk7pK9crHxeDsEuxiU0Ok6-IeFA_luui_VWGkamaxw3AgpV4gVwiySDCQNmLpg95P7y'\n",
    "Markdown(decrypt(task10, \"\"))"
   ]
  },
  {
   "cell_type": "markdown",
   "metadata": {},
   "source": [
    "**(11) Python task:**"
   ]
  },
  {
   "cell_type": "code",
   "execution_count": null,
   "metadata": {},
   "outputs": [],
   "source": [
    "task11 = 'gAAAAABdck8aqZivk6S0qGrOvoh0ib1cC0A83BowbmWHcP95n4pWRQCIfjKSBell0u-hq8SvBWBrgGUB76iy2JDuwh0I4te90GMwC436V-VhEePcVw01P_ehL0-UJxHlZTenTaNSx3sedDa_QNAoSPdLn5rZIZzlNNRQbMSXyGMG1PnuPYSxgiz8hbFkfSWUVJmRDLDCaZcwp6FA7h6glQp_KnFBAkN9PKpmurKPGZwyGwNKJkcWEW5Lpw7cCYcW-NW5-8KK3sXFmkaaq5gyixB8OmBjgWjmYvUxAY7vjWBKI9uZVWiUJfTDrED2sEr7E8IQnZFBJNAvQk3tL3iO_P3i75FVH__rgi8KBsBfOcyBsOUljk-9OR4='\n",
    "Markdown(decrypt(task11, \"\"))"
   ]
  },
  {
   "cell_type": "markdown",
   "metadata": {},
   "source": [
    "**(12) Python task:**"
   ]
  },
  {
   "cell_type": "code",
   "execution_count": null,
   "metadata": {},
   "outputs": [],
   "source": [
    "task12 = 'gAAAAABdclG4-R7s5sqQWcNRQXUQWMFmMgYvEw7ZxglyN6YMvyGAYxx6GVwcWCGIvQIQyj8LMQW-n1S-gbU4SurAvi0yX0wjdhlLrCaoxTul5Xc3HBCA3FlDdeKX51QcvsTGubZTTv4m2gOWtjPrOCbpe0_haHmbulnVA7IKHJI3qU4MjZ99yJHX0hXA7uvh_nyOin8RU6RTLPPlD6wWL0XWQsDeL7jM0mg-nZ0M8PkewtPR55nBJWIhsIx6-UiZXffiw-KsvvwO_qlsxzdGJUGlwSeFxhGep_CwqjfZTITcZQWnrlo2rNShauFS1zrFIBt4GAWbyUT8UH7i0eVHNfe_7ZKTAOW0lEZCsUZkqZdt-Fa86blavPf_Ekb2XVWG8ROBYI5CH191uYZnyqQCngdhR2Tzf-2-AIoyeTIZ0KMxsINC1bTCZGBP4qjo0ZiU8CFVs699Cg_L9niyytAuuWEX8wjIKxRcT1dzrTc1nJnp5cEtvYPM7IVZLn9O8HKgmZVKQFv5g_1voI82kJoUb06iyedzNIHXeeED-HZF48wzAEwqUvZzYfrFG_tzKkarKEGO9VliZRHbQnzKnrAI-XqscAaB683XSzp--nLwAlLLLe_CBWbfZVdyX1CbLODp-fD8DYw0LBx_wy5HIQ9vWNlQxuOjjffZiw=='\n",
    "Markdown(decrypt(task12, \"\"))"
   ]
  },
  {
   "cell_type": "markdown",
   "metadata": {},
   "source": [
    "**(13) Python task:**"
   ]
  },
  {
   "cell_type": "code",
   "execution_count": null,
   "metadata": {},
   "outputs": [],
   "source": [
    "task13 = 'gAAAAABdclHbP2r7r8E3jdZwbiQjexZn7BfhfwaeBebfk4x4-PwYnA5z6NN7xCut5rIaaQSoNx1pKfEIqkoy9HttEacSm2e6RLmOTzT7-1nHv1qsj0QNqrm4MGJwKAIwRY8xnnfOmi9PXMQZExOxtivSpqcKmCS4nUBrh5z3Wnw4z-hoTTb9qzFRQvDhmUsr2LFDMqq42pkxq7f7q7u_N6ceYDnqlBO7M4VY41OurMefEb885-QwPSI5MvrVo2lWpjqD3xQ08yD6MT3-LMWxLnEsS_BuMoyIJL4d1JoF3K1H5FggFB006bbSOJY__xQ5IIMnYtgUipE2cd5pnypf-gBXh09G71-GHLgKMCs-sTKpuuX1h7vldGwLOeVDjLSj0TSpbXVutZMcrXJs2y0d2h2l1EOgKiq1WXU-EPneuQbWHNyBx0csnEGImofS7DYViUctypRMuZNm'\n",
    "Markdown(decrypt(task13, \"\"))"
   ]
  },
  {
   "cell_type": "markdown",
   "metadata": {},
   "source": [
    "**(14) Python task:**"
   ]
  },
  {
   "cell_type": "code",
   "execution_count": null,
   "metadata": {},
   "outputs": [],
   "source": [
    "task14 = 'gAAAAABdclIzVIck66E5kel7YETe3ijCSb0Cyy_9XRB8Mh7rZez8S3o68cACgDSiSXLSb0b3tbGpbvKje5zJXeru0Zm82h29MSEtUi5eUiz1Fm1WUZdNL5L-4-i2dIZQQ9q4-vIGG5dWF0BRbmagSKyoUmN7dqtuIJhcNiqlehAMAHnBw3c_nIF3iFRq1IcT59s0vVxOOZrO7Npi2ldyEIdpcZYbRXM6Zsp2iw-PMxV0BjjBkPty0fMaAFISrQ18qlEwGWaTWyWNQgdGmnlcg0cPs0Yb8bQMD89jwkvLIkkllcQWZ-NoDE-zLLM-j63dXcYBstc6QvxGN3qATXswAkSvLc4z-3qRYnNOuFt6KnWfRJL5KE9VP9tp-6o3fLQmP1IfF7oPQtaoFktXVfzhkdt3xiu5Cqg0mfnsoWBFuwndtBDjNCaMsKo1fIBHgvf5WnWwm8wsM1j-l6Snz8IL5HK8_xP5ACHsmefyrhCelLEgP9NUSQ0zusDXD_EIt1a1RmsjgHBF_8WVArs3wla7fudz2nsSWvQdLlDcyubSu2Diedj-xjSOSDucDVroY85zHGUSa4rZ5qOIBNiK6WsT5FYzFm_ImNeyUjrgdsaQr6lLzH248HX_Uj1-79XmrLptJb0o5nZlTzXlmWq7M51BXWg5R1S99efzvolr0gGt_gtVs3czNELtjY9VL3f32gQIAZN0sCtwnFVuxAyGcjq9KVLUrzKiuquAdw=='\n",
    "Markdown(decrypt(task14, \"\"))"
   ]
  },
  {
   "cell_type": "markdown",
   "metadata": {},
   "source": [
    "**(BONUS 15) Python task:**"
   ]
  },
  {
   "cell_type": "code",
   "execution_count": null,
   "metadata": {},
   "outputs": [],
   "source": [
    "task15 = 'gAAAAABdclJjZvt_zq5mlGOi3l7aFhShOZmpj9303Sfoy-qshcNm6XFiqkuw4zMmh6Uz3H6ZN_vT2iVetaaZXM3gGAgIhXCUTfcnEiVRohZfHlXBlfu7LmIvSOw0JkbaGBPtUErimeK4lvvWnoZ6M9qfZJwnC1jsudZWUAdDLQmyjVfmppTGb8s5hvaPQ7wy73AEuxzD6r_rVWuy0V_yyDHQhNMZ8wnv5PoJ1aSCSNZCrRcZs6dkj_tl5dHYQaosKeAMQ7_lx41XUOJGaBp-iTAfn0RmQFYV5KyNlwfxprRoBOKmywBQQ-nAh2jrLXslQvdHl5t8OeAiEJdYwQB01I5p223zt6qD7Zix81gmm5LhRuCYCRknflwHZ7Q19glolV8QWkyb8AR1uW2WIvSe62M9dYY1TWREmWp1mmvgLjAJVVtVO7OmP0aj9MZAj-EUU9lMoHSJdOGb1UVSk_ONYKkBPPo0p4_kKl7jAlTBkTY8vBfJwedre23S6druepiAGiAcyP2R4AwSeHb67khnH3eqqpEVePep4XK-FAastP3GaEtMTX_lfdnDI1JfeRnVbl49Iwtqd7XTmwhXeg2ebyqDZ6ikevwyNbR-4FVYkUYRDKj9k-18KaNwioOWTebpi1zeTpW0SbYGZYtGecMH1TrcD_2gmwzs5_DM4rrYcHyQ3XWmfgJRIdFLkaXANAQ9sZChlL3Q7F0iDNqH-J9aUAfkDIzR23OVjM8SqhUsLo4KQtrRdxIxQCaOpfGIMsHsiVu2orYiY5xM_c2KVCUfebWD2cQoYi_VEOWye0DqNLhkM66dhQcOMYooaD7FrmpJjnupxXuMbZNx0dqRPvn63XkanzhFBx5N8Xcwdjilt78G6zwrAfwiGHlJmpaM-9n87-bBHBJznpT-hhh0fuElEGgaEJiz6nl1l0GhY7oEAUWE69bHeg24C0MbyF4B7tNOcS8ecj0q-l2AoMaBvIg3nD1ackqS72ndNUw6Pfg8gxmDk-6lKe9DvjnDhi-acibNH1ipoXBFxO0Xc0oszQZh3CX65vgvSFB-J8cw_mX_WUO8-rdsWAArKpj33s-ovwOARu5__u5tzFnVGRE_SDJmeqMt49p0e80Eyo058MoROVGFGDAy7nB0vPgKPUDj71pl0X0Jg3QGAIWnHcdYV2URU_X_w5y2dcQDc_Bzja5VNZS9iuZeNH2gtgkoq-ATm1ndymw9Z8EiYxJEoYRTiXyhMsZEo_tbyagXpFMIWiqjn_qBZ5I_s54qtaorUZxXRXVofewSN-kjkcf8UrPqY-uAhRTw-0zWxx027PWUg3eBzUCfNqvckU_XAx4rxy6_TqIJyDWaVpEkxmSbqdMupmtANIjANr9lbH_OrLFIZjTrpON_vzRaVXrTWHPiD_14lnRT15HPgcPTG47kchJgs5XKfRypLRfVz07t5NcuOvkMWM4fLnfkR0izluQIAS2Ks3qxo14QI-VYsTMJ6BJiVJy8g84FoAT1YA3EV5SUSCe7iUl_TX_X4WkkQOnNiLqwIvxJo-wwJvcKp4xNoaigJ6-mWidhdrhys8NVZTc2eIqtYbUwCeC4CWd65yFAmxibsWjVk47IyDqcDPXTJMv_P4jpnI49gs-Z-2926Kilz8C0o2YCmFmzwxxlRZztseHRB0IzXhtjG5ELlcuzFQyZ8FH3FVU8Hssyyl18G-8Ssb2wP62bcSpAReOmZJGEXal2wG7tTvOKPXdpxoFKyuXL4jyilw-81BvdbQV4-JM1MQgH7rWC5ryRHT9uBktkOIDXXnRExUTiq2fADoI9tQHAeg3MbAcKza5jwqJLkublfC1wRYo1W505aNYwLTXQ0kZYdawSF1rS9RSzJANAGtyXZDGVIPvYMTEWwF6nY6TxHjTS7FtZXP-JksC_OfPc8459xDPT6B_AEL37oTxeVp6qQCvZUoRhm0bd3WLiB0IKuQEAjVDhxFROFcBm9VJyBOlrvYNodyqNbhwcZPnWdzALeNdwZIQeH-Gyj2yt5w=='\n",
    "Markdown(decrypt(task15, \"\"))"
   ]
  },
  {
   "cell_type": "markdown",
   "metadata": {},
   "source": [
    "**(16) Python task:**"
   ]
  },
  {
   "cell_type": "code",
   "execution_count": null,
   "metadata": {},
   "outputs": [],
   "source": [
    "task16 = 'gAAAAABdclKCmp7JuEFnJ6URxeDNWbOzEq4hIrMHQNTCbXrJ8upVxHPuzYloGLL9INaIL6-u4o0DmibGunDNwTI9zInw5PjxPNoCJlyTUl6ZV8LOUFY3T95uoubyqnmnKoij6_XjzvXM4q6i_ussa6ww5FH9Unpf1pwoTDzGLWenuuC3VuQR56740z3_w0XT9KiSTZNHiXVD7-Y2JH4AnbD8MiQWVa6y4TI3CvlTAPYdS4Jr8H5DNqd3ILzCJXWqT5PMStF2A4uG9L3j4N8vFtPdx6onyIrxxVHliQvGY0u7v1xezsCRCmQRrVt65Kg5KzZysnRbp_XHC6BIsZw5Ae_42uNlKyhzRW_2V7tlLt7yx6SofMKGMXujfX681iKgouOYFUkMjrKnL5pezfvJsCyraZt7S22rzgRoMFjXThWl5XqTvB3xZLH3duO7AM_Ox1OSe0_1F6AfwaLBaZdWP_0G-7_3Nr27CGKQZvWmTFBR0kTMkJxbvvq0ebwV0F7mao7uYEZjJ1P3oKg-Umb4lOLlhpJLb4EwVwZWQ-jo3UZN65eMAVgwOUoHPypXq2aFozTliuTRzqtSw1CAkvuhN5VKvCGf5XzFqM3MlEyFPiG2e7v34hCnyLmhCHk90us78n2UMesfasWRCaJZpgPKQWzU1707S_LK5ZRpj_2BDdn8IrYivQKsohff4gZqAK7Xl_AoDM6ZF16ECiCiOOT6lY2GglKER1PCGzjL9XMgiSZYf9SB0VvDe3ARpM_AQ2mMaMaPcggjI6BG1hyfCvcNfNWwUUr_LlFLy8yIlN5BmX05kgiDgs-enU4='\n",
    "Markdown(decrypt(task16, \"\"))"
   ]
  },
  {
   "cell_type": "markdown",
   "metadata": {},
   "source": [
    "**(17) Python task:**"
   ]
  },
  {
   "cell_type": "code",
   "execution_count": null,
   "metadata": {},
   "outputs": [],
   "source": [
    "task17 = 'gAAAAABdclKeCuQrwNct8m_PuXsaJnPWKuEazsMvbqmYzAWWRrvA2Vv1-HdZmaHs1IYVv-NEHQvdk2S1fzfKYf6L6YbRsKeTy50s3zLk6offZu9hKMaklNakCeB2V59m41pKSRx6Qc3cUa6AGeVMYWDYN9ITxEXjYmu2gNWMWlRm6-_-QeRcdpjWlfwjpvxHGWZUoTnMTsuhliUCH1Va0wvx2tD_6Xb42avoT_XxwTypPtPH50M7hsO9mXei-ETvfNwvFfShy0-IGzSUmR9mxqvJEQFYk5pBGIqAU1fkqNM6QKukQVjEOppjZhpxF_0tYBWhxR7ZATHH--pTywcs5DBIzHMkIep-WeyLtQgJJotrrBCxtrcniOZ-iItH6FvB_OQpVQ8YvkY5GWXYvgQxTmmlepetHdlIuZDJrQEJa8BqIQ4SC6rsMWmjfpGwSpbdsCQupGP7e7pnfy6ujmI2Ti3K6ZBl0mp897xQDK0SCNElAsfASK8jUSC2m9LYSbojLIx-EPBfzI0gxyXmx9cKYDZM_j1fMXj7ZdvSgZOV3PDban-iWfMHVI_-RV8h1Ahmw5NCtqcx9fqGMepWAL4LtvWno6_I8iBVsKU3wc1eAYcoajbWiC35pyidGTQhxzzfUBt7tDIxj-_GZdLUBjlFDaxj7nzYQlyhex0jnJqQM9jw55mQ9ywgQxBr-A4Wmm62UxlCdfCgvCcfmIMRqum36SaANBOaJE3LtIfa40DeDSx5tjWlsN2ztIswtizC0t4FLWkF29momxhJAFxXztup21fX_8ZTtImnpyAaIdQw4UJV23NNfJUv72PJy0hb8rO8JsDROshfS9MFb5F8J5WMn--rqCar98B4OSh6By5xK5NfuOIFOscLrsx_uuBOymKc-4Za89wVsa7VlyJf22YjoWsLDvgLRXMNlzCboByGE4gwvAeYRVcCiiDJquIzKWmLs9mosA7txwz_6S7KoM_L0Hsd2U7qDKfTnav7r7xy6sNm-fMr2lwyTfAbH2RaV9Cf6ydL67zMMWdFN78KWKp5wlwMK-BFS2DNmHTwStNo4ZtaUV2YOLi29XI6ZnLQaVwK1-T8ipM7nRAPwz2WgnB8IJpEun7ko7kUNRbADUyCbVko11WfPpwaKyYtd_PuXG0XV_5ztO40FiD8zaF8VNTeb93V5kLnTMRGm19qo61OMJhSz7h16fs_FJIDCmsXyNit5U3qyqBI7qV3Kxc-g8K0m0ysb7mM9sIbrPZWsDBNpppT-52g4IZp6HpnPACvXZs_ydC-tykkEzWZjIYghumj_bT5lq-Z9r0Z2TrNu38a1Ng3nCjU-6T_poDqUHZt5wfxlWrp4xbZLjYeFXDc29fpwVwc-kG5zKRNBw=='\n",
    "Markdown(decrypt(task17, \"\"))"
   ]
  },
  {
   "cell_type": "markdown",
   "metadata": {},
   "source": [
    "**(18) Python task:**"
   ]
  },
  {
   "cell_type": "code",
   "execution_count": null,
   "metadata": {},
   "outputs": [],
   "source": [
    "task18 = 'gAAAAABdclK9swdJ_Pha6xARc3etlcq7DmDuFbweGW1eiqHL5ig61Hh5--ncpKRw1NknX7GwGauFIuzaWIPX2SrbWtiwOfTKnzWXbsOIIq7g3EyKuE-2o9c0A2NsHvYOAdjF6nHd8KEOMF5fsafZGnUAflcCzX8zvAxvE_DHJgWzNlHtZVzfrpSaXxIMhY3LCmkkFC8KASJF1F4RJ0b5KEUkcghyJF7UHnmRe1dEgEe6pbsz4XlLgMbh833oR30GUWiju3FSL3pT-u9w7hs9YaTIQzayFR2CYi4OZYc5l89UGblLSuqk5pv2Ks8jKbyLKN-y_vF7QaSuiZaok_V-dqZwkLi5apWE9Gki-cdcjMc2kwDDdp36oQXmwZ62xOECpepNy1EfDxZy_86312GYDUijESeRyVP8jAATCeHmFg3Iw-pzXfE80PWlswyfecJ3NkAQXWvpZ66p5yPrmtJXQfagLarfsx7jZofgPqzHqQlUTV0YI08v_UOQgfWGLSSsnUTYdUTVq3Mm6I3egBrfWNkO-33mh_cXrdZuOMOifcaeRVpRu2kEKMRrsCnSLF566_1ZxKBMCthhUyzpRhxH66Z8HGhGWRVnDuM4YM2XfMOZuPxmE0iENZh9DXc4v0fPgosocplVdrLKxOlGsOSRhB6rMLdHfKHNUQ=='\n",
    "Markdown(decrypt(task18, \"\"))"
   ]
  },
  {
   "cell_type": "markdown",
   "metadata": {},
   "source": [
    "**(20) Python task:**"
   ]
  },
  {
   "cell_type": "code",
   "execution_count": null,
   "metadata": {},
   "outputs": [],
   "source": [
    "task20 = 'gAAAAABdclLZ61ZE66CRKbnKoTu55mNBWYgU9ulqM_436EfYpYej60bzJ6-AHldLAA2Rgb-_bIBv3L98uVBzUv4HPWNXCm3tCKBEHo6ptLqZhB9JLyPkII_1032NY0ciLsuAfwe8xv_CyGGIugF4Jnw5wn5I9JW4kkL8rIJgfGuza5F13KzpoO7qK-4pdbVvS6Bt9ejfLAIv'\n",
    "Markdown(decrypt(task20, \"\"))"
   ]
  },
  {
   "cell_type": "markdown",
   "metadata": {},
   "source": [
    "**(22) Python task:**"
   ]
  },
  {
   "cell_type": "code",
   "execution_count": null,
   "metadata": {},
   "outputs": [],
   "source": [
    "task22 = 'gAAAAABdclLzN_qJfvdmGWq9Kg_l4hvWH93_IcxpQRFUPf5BTmMHZqqLMmzolV0Hlm7hTscuZ8N5SrOCn_eY2VCsF3tz5MeXolbjrFGbYgZttgAr9KTNGKl75xEh2Ox9SzPWdZG-JXfhfMBaCzjRFgKm77CgihDdnwVutcuGMlcTgQ0TUrY5aw8COOaZ6Crr6JD4_e03QYwRcvi2sW6MXa1JH2YtatZvSmscdZTK02vDOXvJlX1BtnaQ5XZNpHi54vbwGCARVLjid1YFU6r5Pcr-Xb_BERjwkrJw2h84E-eXJd06ppXLBWiW2OOoDbmicHRYr7_C6nIU-a8CSO9hIFGx2_4oi6nlSknfSDsolnoUeE-s-0cEaOt8TiJjFrxuiSZfeNK2p4cZr4noT5QyJ1v_aIhdjKg8TNQmCsy8F3wuyedP49MI8Ui4LO7vQn-iWyM32h9bCxOYVVktZDrQu6O87-Sa14lBZChJGZsRG7P_1DH4rFQDz8LTGY8Ptv9HDhAiZofNM-o51ILqw-6pVdw7MTnOzVaD-iVV4a8Ixx3SCxv4vXvgucgHe3U_v8aVn6xXl0dValObrgFZ-2eDG3erydDGsQ86f9SZjsVfiR9xV2nsdol3iOgSUJsR1JLTphmwMAABunnTQm5uWCYPUqAKnuw2fNK1eLVlOxIiqOAH4fnyzMCxyKYSjzlX1vkBTt7wThNXR8jShmr0Wtdl2_I0oa4OWZeVcJwQART8y8Iq6G37zyFy6bPi1vOmLKaPugZHATiF2U0_Vw52DynzRH8CM8xK_xp-y9JDnht92jXN0SVdFTVGPQfWKcA-Z5i-TJ136ZNfwzFK6Nj6hCQUTkYeBmV09LWqsUhl_xK6MBlwoWzW5mlpaoLr2ZBtrawn9o5ELoFzqSkk31zAor4PjgijwsPath5zh76i0h5SNNDXUwLU4dPmRJ-1EWDm-SdbbBw1uwwDIU7wZwan0PG-pVjzgJ7IhOOd97uGzu2-5MKlHWeS4DsMUrl03Y-dB0Nl9hTPbjXwO3ciQlqBAciD09LgMss670tg0MDsw4505YJ9x9h5ImeASnZ42jDKW_5H3QxRYBXkeO7dWp3sfikZcDUUx3OAH0pgiEzwLEJaeWGuOcSPT9dedqNN8w5nMNw__6ePduZey-olMBIuydFKLwaOWeB9-y1QGQTwjw_kLeT6jixa13F37K6e27gHA7iu3r2ON15f0emRG1TfJzoscLSx4-86YXzZtTtInFm4bp-lofOTTkwwu2zdnBy_6iZhssXrhGGpsJ7MMzXBpPrBpwjwqGrsIbO7iOf5rp4wnIiDyhuF5IKZAUHGnmWzNas9Ze9NSFmcDmDwH3ecP_NkmrAZ_zY5nOMP2-nkuPpSYmrgEwjVP0GGBDCIwPeYNvBTDo4TeVQtfBiQNVsdjp3r1ovwCCmY3FXho-d-22F_Em5IOy8KNxAqPes4MSs0RmiwRkVicfWaEo_vbSbgckw4icxmsr5cnA5qe5qMNrE_fJLgU-uqzkZS3fyflseRyxie6DEUgz38mgYeuy5nKYm0dR4WHyobOknokP7PoFoLak_vtlUmwxWqwLs4ZHqZa_7f8AwvPIUJCeoxMq-IgLNIiwYqZ5LNWJjllcwGFmKTnuJbBRPOTrVwls1GYD3mhbY-34atblNLgXEx0GLXr90MP0h5sQO-1TaCB6PJLeFx4niS5X7SdqcQ75d4s1pS9ngKHf_1LEJpU1AssRyv3IsbmrkfDnwVOA_7Chqq1yc2xyyM7pob1YEMkrhwB0kN31h_vmZ1UPOpyHovUeIIQOsAYX1p0gIZXHDN5sbvMbcsuEcgShRX0MXN5wiUg4VbNWz_ouHPyN0tR99J0QPJeRqE7Co9JzSj77na-uKMF4XJU_CeNCYhihF2bHvln3wdZ6PBYEhXD39QVyb4bJCdezP7IxaOWM_dU9jCSQ=='\n",
    "Markdown(decrypt(task22, \"\"))"
   ]
  },
  {
   "cell_type": "markdown",
   "metadata": {},
   "source": [
    "**(23) Python task:**"
   ]
  },
  {
   "cell_type": "code",
   "execution_count": null,
   "metadata": {},
   "outputs": [],
   "source": [
    "task23 = 'gAAAAABdclMaB43rBVIs3Bsx7ARLW7GTjiIVP69xXXWwfLnoRFNVTubVQcyYUyXNkCUkSYJenjnNmKg26kHS3BpvPWWdp_PhmIDqkKijZHPwxAHvW_seKvc3d2_ZZ99KJKy3_ipBS_zbyBVm0fB5QiSJgKAgWfzYA15lqYHyGwtJf7d5b5PQ4DKC51weFKIeA1PwMpxxWZiP8rzNkw3Y-GJwf2JZy9luPD7MMKnB7XGq-e3k3PdMbUDfoZz324w1dj7Z4g3SbArC8H16oXaSGMu4sQ8-dR_lu3lmowH6BiRAI3Km9qZtnA96hi6cd66ZkK_6jVzX5WsPaJ2DmobJuxj-BcrmAjEcvQ=='\n",
    "Markdown(decrypt(task23, \"\"))"
   ]
  },
  {
   "cell_type": "markdown",
   "metadata": {},
   "source": [
    "**(25) Python task:**"
   ]
  },
  {
   "cell_type": "code",
   "execution_count": null,
   "metadata": {},
   "outputs": [],
   "source": [
    "task25 = 'gAAAAABdclM7xjc_FfZl7sTAnJOK3iDdxmdJC7mWybtudHUo0DK1OFpYfiVaIjNAUevGckY9UGPTfUcZyyjq80DWj3h-gQMhgwrJlgBzRiZs46MmKRvvclaI5VlqYuEVFEYzmsNbtXnV0Pg7zxq4Qg80haX-CyXTsJulFp3ALINBLE39PnCudzY='\n",
    "Markdown(decrypt(task25, \"\"))"
   ]
  },
  {
   "cell_type": "markdown",
   "metadata": {},
   "source": [
    "**(26) Python task:**"
   ]
  },
  {
   "cell_type": "code",
   "execution_count": null,
   "metadata": {},
   "outputs": [],
   "source": [
    "task26 = 'gAAAAABdclNWNkTaiW3uCq5xq3ITCBvb02wI19Ol8B-u2N0S50GQMEFwzMFJkywtgXslhydYI7a6QxEr6PmyiO7zpiP1pr_p2lFHwWKPMvuEGNt0sirBN5OO1yrN80W1Cb82jUOw00_SBEgt5y08stHp67z1qaOmAw=='\n",
    "Markdown(decrypt(task26, \"\"))"
   ]
  },
  {
   "cell_type": "markdown",
   "metadata": {},
   "source": [
    "**(27) Python task:**"
   ]
  },
  {
   "cell_type": "code",
   "execution_count": null,
   "metadata": {},
   "outputs": [],
   "source": [
    "task27 = 'gAAAAABdclNxpxZG6Q73qWacnuU1kUKGVsD9J3nitB3nRi9u7e8JERYMcO5DKtLAS_xd4mfWAHMbSysoztiHv5slR2tZNcq86Ww70VnYfqt1US8VUr_rhh3k1HeswtoWfAujHvROWvDbqDd27Sm2ZC-zk-2aEx3ohor3imi5aL_cj_3UQvTLnPv-fV4ZThehmS7B6-kQHLVo4-XWo-LcNDwCoT4QXd-Mck_nVBhJ6ZGaB7LkOZWTVtWoKdvm7n-r4eOTEYxfbSt5'\n",
    "Markdown(decrypt(task27, \"\"))"
   ]
  },
  {
   "cell_type": "markdown",
   "metadata": {},
   "source": [
    "**(29) Python task:**"
   ]
  },
  {
   "cell_type": "code",
   "execution_count": null,
   "metadata": {},
   "outputs": [],
   "source": [
    "task29 = 'gAAAAABdclOZfsUAIHbuqxMI1F77CBFMDTJy-SvikUxvLM6J-lMNiKqU3oxifFPm-XZDc238FxYjh71WgdEQHP2IR-dm0jhJw8rhA2Lepu0YavyH-QBms3q7LEAsDUIlnmf2inCKozDqRzjQaVC7d3AkIAXNUn75WkFM-26gWvl7Qu_oo93PSkSl_FbUpDBorYZVUmlassNKTCeapiY6SBAvlvq7RvGud2hkixLulV8eQj0qgTjP1PHKvJ4Ir7aSJACUg_w-9zX-TXWQdQGtuZHBSBCgfoM2tY3ii9xDuOkFlnvBd6nBo2DmBUPa-0yhsLjrg3M_tUz9ZwMKNYM5p_54S4c9IKxn-4VambZeiKDCdwdw_ubMRouVc9WWZo4zNIp4FmGyb2_R'\n",
    "Markdown(decrypt(task29, \"\"))"
   ]
  },
  {
   "cell_type": "markdown",
   "metadata": {},
   "source": [
    "**(32) Python task:**"
   ]
  },
  {
   "cell_type": "code",
   "execution_count": null,
   "metadata": {},
   "outputs": [],
   "source": [
    "task32 = 'gAAAAABdclO2yMD2OxpA2nVxBbyVhT6NRF-z3qEj2Px3j-KQvBknk6TlyJFtgS0YNWecX_0C7_W98d7reNldky2jT-PcdMxOAzpGcd4ed1KB3rNOpMCx1nk_ctqSFIUG9gEepR11ERGwX5c1vOA6VEM-k1r4xliR4DaOZxq7J6fbjtxtaX1m6Yb-gIFlz6L9tHIeqhDAGImPj3bUBNMLJbkArHHSk9cK_L7NkWDcEGvClvV1Ov3ysyeCOd59ksz6PNq6zKbbh9RDLadjiOJQTibjcTSjYqn3G1kgCkCKLb-glgELTMR6RlQ_q33jMzZ-bhMjQ61InCsyqqkGnJ4I58Lo8EKfHhyn8to-f7EyJQdoOtjQ2cjD-2s='\n",
    "Markdown(decrypt(task32, \"\"))"
   ]
  },
  {
   "cell_type": "markdown",
   "metadata": {},
   "source": [
    "**(33) Python task:**"
   ]
  },
  {
   "cell_type": "code",
   "execution_count": null,
   "metadata": {},
   "outputs": [],
   "source": [
    "task33 = 'gAAAAABdclPxCqaNSfF-EdmV2pEsa3oRNU8v4yIv_9Yvw6FIB3rBCWFf5O82wvhspfnxWwLrvJXoNoEwgla1KcNfr_dxHm7dhx6H8mpoU1m6n5Y2IaT45BD0h7-RATOwGalxs2haKlEGxRumuHES2iS5gdig3qeMLVJ-zk9kSbd_-po6rZf2grPUiTdH0yBzljDoHtUMjZQwaDaZv_pnsabOn67Tm8dzgAWp0GWC7Nov4T7Q2z1yYZGXaMtKhrmHgUrVco8CM5plZmXY4RIdpY6gVU3jgNThTXliYm9OXmWEBppI6ycrniAlsdspCeCOBVmsBVVFOyFtoZa_rjzlY7cJs6hTM4dLl25oHR4X5Xoo3G2JrGzyEzYLeIcPAjCmpC_iZ0HUHx0CJPCMtbGLIyzwNn-Y91f3OTLoDSRElG5_dCEHX9Ii7lhAdvmcOPwD4M53VYwo76iHLVn2jyV-YyUjpxSc2pBFAbcn760kb5s7hHJMQvoj2uXZ2CghqjJ8arCAoPUSgnzeE5qJGtf6ucuVoL40INvagW5FSMCfq-zm5zlV7G3g0qj2mfgIrQS5RJXXn72fIip2dtB52wIfl4f8gt9AfbsnDJoSjJ9ME0q_aWS6CAq153siYb0sSHte2AQRjmrvQQn6h7yre1g_KW4IMCHC6lo6ZZp45xNN97bvloJGK565RLX6SoFhTQNE48G-JzlsIel9lw3nSJARs5nKcnqnLhxbHakZTGmN8VZcR79uf1DH6fzS9x7h3LIQ4d6WhpFe7t8a'\n",
    "Markdown(decrypt(task33, \"\"))"
   ]
  },
  {
   "cell_type": "markdown",
   "metadata": {},
   "source": [
    "**(35) Python task:**"
   ]
  },
  {
   "cell_type": "code",
   "execution_count": null,
   "metadata": {},
   "outputs": [],
   "source": [
    "task35 = 'gAAAAABdclQNDscH8m7-PGH3Edig2PuXYeoD9a_O-6mBVXH8-DD2uoYJNwCrRcZ2kdKjSM8HeLQwGYeIShqMGigUJLswZRwv5V5BLqetOectKIC83S5NX0yj1Kx8mSZQVpJZBu2L0p4eqQre9x3JnO9ql5sMxDPvPdInpoQNYgmxz1jx46lDdzbsVliTkAii2vpHgeWdIRZJaB1VKobGknakqW2neTOjcW88AxCj8bwrvXoS0Vt7E0MPaTDnTAwK-bTqm6LZzbEGdKliE2ICse37IO515vLwuLfaHzIbI9VqwTJGlqqCgentC2ASMPEkwPJTm_Xpx3l-xCvLSE21WFVvoc_1N7_WDBYl9tcZaohGkH7hZJhapu4--VD1nXr8Z1HMKkU_P9tBn0oBXyRML90IayM9Zs5up654lU8bB_J8LZMOJrKwBmnga5gUP8CplkU-Ycvo_noGXNRjA8A5g2pD6FKuin7tOAMX-ExJKTKyGTn1Iv7P6heJOF0E74B7zQTk4cGaVWPm-THeC865Pm2GAm8jvKc1UO4zfTSSCa-Q0XRzqSeAC46bQhhLBn0e4R6ar99MCHXCgOa_XexxvECXU-omQ3Y9jEGUR6WyfpYBvG4wyHiq8qKpcbkFvdH7_mctdkYE2ABJ2cmliq_3jcOC2sGfKSxV4Jh_0ZOStMNolBhTpcbm2-uVhcQ1H2zH5J1ha1UeK0bYQYagBqAR3nxhixI-6vL5RSJG7gxfnxrhgWeiYfOxdHKssDVdRj71rm8qhFKhjS32sKz2oGhZ40HNHWQO8mRW4MNmtgshB3X6lL638uuYLUAF4bZPa2jxhu1DJxhq-zOy0oIHXFR-gkz1_Kp_sbaIgJiAF9wHrxKOYeEk17IPpuwG9G_Pz0_uQKFMosgQtuUO_eFRttthrI8jmkYRJq83hhttKbCdU_nbhVzPrPDOuPZWJ38HxcUGoFtblrtPK8y6XfCswKtTKJ4FKWjkp82oESuN8oAOIxnjHgs413Y9y76S_bWytrUGfsbZo_026iImd3sf9YbBSj1YDezx9xXLL9DHpvFxa5DmwF7SmWneAbIUHNGcHbI5xFg79mO37hijYJhjzuerHAXQiNT8DW5HdyEbVjFtGvlACtYSWg2jvV8RzVW7Yuv2VCl4DM2D7WpULqBQ7b1kBTmswOfKpESU3LypCs1UCBEI63Mc6AO9u-oTKdgnB5f4QaG9-BgSe1d6KYPlFrMdbouqeXb1Ht5AlbSdR4F1k8_H5GpDwmxbK7XHqTMcdqx3ZPEDt9yhW4Nn24GKg7pNRwHwbRyHhPiDBQOQNLcErD3Uzle5FjJCsTsueqFFSTs5nmU53hxXHC-7W73jiYwNsV_RlyNt08hvi8K46uj48o7ml3DY2_aA4zisopr0ydWamcNdaDGCet1sqpLGygIgiVCOtrKVgE17RFAQIdQaJW7srIeO8g1di7qtpYDLnSBfqkduyQI7Mn6vs0yaR81DXhLZbHZABThWkTqzP9lGwvLU6kOhOSVFqMO8Vo6-S5bO7HvrxmeRCrrr'\n",
    "Markdown(decrypt(task35, \"\"))"
   ]
  },
  {
   "cell_type": "markdown",
   "metadata": {},
   "source": [
    "**(36) Python task:**"
   ]
  },
  {
   "cell_type": "code",
   "execution_count": null,
   "metadata": {},
   "outputs": [],
   "source": [
    "task36 = 'gAAAAABdclQwSpcc_6Vti07C8HT8tassjJtgUUtJ01Zvu09djVyfNSaGiqzIqTSs2xLHsKqJ7ahvAVQ81taMxlN4GBL5kBEiWONMY_O_d-88bVP163omNZkIhL5DsepZDb4xQhjljAREExBuccbmEBrjt1cepDdC_Mqd3C4ItDvb5iT_92tmjbVHhaIB_fozz4AcHr2U-ouTfGHpBXTrMg541jZLH61Pnj89nS2TCLsVNL7kxTSILSCScg_yn2YPiaw8S8bonhy8WXsppAWCqTnAmXs6oFv8KDRN8OY_CK_Gai_rT2apRhtpQ3hEiQ7QJf1lnUOwvbKLt_gF57L4mZGEEAcBNXCrZQOoGYPzk05VS5L2nb9XJu6_ZNogeONbaFcWSYbZXx6C4BPxi_VKpr3oVYaNB92Pibu0VEU8mU40DSJYaTS4o9s2LBhx8t9fI-hVtjEbi-WLntRL_8SFMdDWSh3Oa_wp_W9bNsMQQuDgJFk96Iozb5VlH9-1DF7IXzodH6YCLXDiYKUOv5N2Oz1-mFFgWXNUB57SDQOQvfpIjFxT-OTkK4bNtkKILSLZkdW52lw-oxOhD8deDNK7Wb9yWsSYGcQVKfPdsAIV8ZAaqSQTLPZelZeAgUF5BAO1EdEVGZH-5_Cf_JN-JWkQVOH_eOrpxPS6z6HLozro2XJSr6Qj-EaolMgD4wL90u8kgth5EnKAjxnbJ7pjRYFU6nBLA2V_e6P0iSw-ClrEf_DIfmY5F70jUJjXqlUDpZMcpwJ_74n9opltbiG7g5-afjDCjb6qZveutg=='\n",
    "Markdown(decrypt(task36, \"\"))"
   ]
  },
  {
   "cell_type": "markdown",
   "metadata": {},
   "source": [
    "**(37) Python task:**"
   ]
  },
  {
   "cell_type": "code",
   "execution_count": null,
   "metadata": {},
   "outputs": [],
   "source": [
    "task37 = 'gAAAAABdclRILRHeONuIbAilzkWbbm5Bjzh_CaBz77uGSMt9FK2bIZ46Q2apT7L_XkJ2vTB_EWPUVXMdv6Xd6SXbcif-cyb_yYakvC6KDksLjYyKt7FQ9QVqtgMfR4h6Xf4pIErTOTAQi74MAhYfVKleKMzWUwcZPg=='\n",
    "Markdown(decrypt(task37, \"\"))"
   ]
  },
  {
   "cell_type": "markdown",
   "metadata": {},
   "source": [
    "**(38) Python task:**"
   ]
  },
  {
   "cell_type": "code",
   "execution_count": null,
   "metadata": {},
   "outputs": [],
   "source": [
    "task38 = 'gAAAAABdclRkBA1pQtmpp7GtTNRHV62ga5lE4qMtQG3cwuTf-2-YwZebWGZreGefQWssUfqL06A-Zka62bxuhQNahnprsq5H-r2cQANMxTZ50avjG3hCvh1SRfjcOrcBumtPt56iI1EGbbIyhuJwvLPePGuI6MFlRw=='\n",
    "Markdown(decrypt(task38, \"\"))"
   ]
  },
  {
   "cell_type": "markdown",
   "metadata": {},
   "source": [
    "**(39) Python task:**"
   ]
  },
  {
   "cell_type": "code",
   "execution_count": null,
   "metadata": {},
   "outputs": [],
   "source": [
    "task39 = 'gAAAAABdclR_jHGRfLxKKrEDt9oeAyQUlzWwQavXwT-EazjJvIlw1U7gmcJdlOOqxnlWBzzPwUa0832MfmBvBPdGKmgcX7CyBQcaLafDFcj_oZ3362rVlMYERir8qz9wtRuTcFot9fJ_llWyEUuoeG13o_qKk2czx_QFIuuJbAYLsypvhwk23lwfudv7AG97h48Smp288dp58s_PoNssVhAPoJ_onbtRojKNBTc-3cZfXqqEhdWGgo0VWIjPVTW-FOo_Lqbu1xhWkJsCgD5O7mKI9TvK0DKUBssvbo2B4fvvg6QRA39Xu5_y4OgmODVkTkj_fJZlEktw9nKMapBwsjan5ZYV1EU6KoY59ZIg3e5zAizBDNG2Q_8HRdpdUae2FuOZ80M75olTxTPz5-YLxs69opTq7pqh6hNngX4MLabXcla6oCRDbbZZH2Mmt0L_LPtz_LLAOdjRM21vjpcpZKu9FVRzm3mdX5zImX5zYob2ciQpzv5cebrH-c2OeOzsuq5c0rkTGBUmSGH9vzcNRVzImpCGgvQK23g2Eg6PFTZFE9MIzRsViYlm7H-c7pMAlDdrfAADMo74E6ix1Fa1zYYOIB5fNuznTDYbRDIpuBVv1MJGNFbMih3j06UkO27x3MZk050tBzqyirzHdHzesf1kPyHppKBLwuSqbxmar21sCtUkpOeJywK7gpsYt7xkIAmYT_2jdU94bW4B_bKgfStjKH4q-ZI0WkfHeR8lDbIBzrFYk3lG1Naa4dVpvovMxr7nVKc70BSSik48UTpLD5MFVGBIfYKdGKEmvFuMnFyw5sWiIfu8gfe3Sb8Iqntsaua_-2kzl_PHEtEPYBq_buXid5L5qyRk2tjLgFLaXmuRb0OPIl_tnVxct8aQDO26AVnEhPqxRDaVgE2_SC0UDC44rsAYGE9s7x1rqf8AfHB8ucmk2NOiMP5sdfqo14_CFWlUdN2RCqX5Ya_dECafE6YF2bnOI0XlYwvzkp1ktPvzsA6M4S5XvfA9p9idJqktGO-0QP9AO8jsQOp675_BJFGUIomw0ze3n2iCzPrKLCYgiFN-3eE_URzdCFXszKc9csxAgAJLA0XEN6v_WKf4cCI4Kc7sloPJuOucYDe8lEFVu7JEycTVBZqDcRJqc7y-G0ARmWwXVpUNgKuKpw9wFM9Ev48BHo51wMERxHFbVQ95No11ris9k5JKhokhtTU2_hY-nL-mf7BvTkw-3R8dCeyOeIemjRBdDwH7OalQxN9kN00vsViWr7w='\n",
    "Markdown(decrypt(task39, \"\"))"
   ]
  },
  {
   "cell_type": "markdown",
   "metadata": {},
   "source": [
    "**(40) Python task:**"
   ]
  },
  {
   "cell_type": "code",
   "execution_count": null,
   "metadata": {},
   "outputs": [],
   "source": [
    "task40 = 'gAAAAABdclSsAQLx7oPr2SeqA7j9Bfi8vEYRZP981wdGcC7MXyoZLBqg1uJD5MDbBpawJEKgmQvd7kVR068kOGQEszSkaS2R2qHlplfiZnnjjEdhNwsQUa09fBURKPOzrNXkw8jbeTyA7ncDV-xGFWDNfPVNPyfxtzbbUss10ZbKONt1Z4akW5369sMIXqHzcjSQlMhm4Ofaxe0VeSOlQXwApbTo0nuUPUiEncxgBHVhsjNUjjmzi_mMAgQXdwI2XtbAHG4a1SK9zabOVcn5bt8TFwdga8PZV0gD92-34fOLYRgbqJNW1qUOftfG23WJw6oPE0uhXwpTtR3_QqBMQAmRRbCV8lNggsiHpgePA7ULgGNmRB_HIRC1OKBZf82K2I5Wn1EhRSnVbEPGgXvCw8W8kReQGN26sL1saS1_TVMwgmMjdyG7bwtK7UoyorH284ZIe_n4OmmvYgtHPmF0Tyf3kWcMv8KUcyuv2s8AlKYVS0sQNdfDXh1Jg8pyqabKxQRC96y-Jxdqe0f2IE5HpUmJ9GkHSfLWH0cnv9NMZb3ZlrWGs3AYhgtFKKVK8NCEQZ8AZJ-CUPqeMqRQ_TB6Up_2ovYINwXZpoQEVKIGaDKe7k8d-imiuCpoHNLr1gmCEjFrfegIfRCf65_1PlJof-yqs6a5RncjU2L4GSql5kwfe_JRowuQCfkOhfMUrtEvKSiaiPbuYpoUbLb0QBnAQFRQWWa63IoznKvwSoAzNoWBXRyJBPywO1IOnxLb_b9gbN_ZFpvAGdY1j_Nh19xlCKiWofWeMJhuV7R_eplPRzQrXJ24mhZXJgkutmuRMwSFK8WHxqb7iV5Zgg1INolNElYpMWic_OKHT0Pqt15qd1KihmeVsK4LhQrSuCuNLm8lWjNBbH7eH9hhB3fm8IEwiN7vsZgSAJS9Bb5Gl3r8hCgXnSelgqR8vHa52pe9bA7vcu45KvlOg2wC2C1tJCeySziWAQRmWxCG-wGs02adHHxycjC_dtq4S1d8fPAm8jX1cimCdijG9mIImZp-z5bwCfJUh9fsy8fpsA0YJuP0ki5nLjzYX7O5-HQUFZNFoEAtFDLabiENHqfIB2_RaH_cp_Q4t57hBz_tLMjkiKHcQT0BwHoA6MTMzvadzvTGu6iWKS0q5uO8_h5phlJgZT8kHvxCNSz-oevou9jQFMjesHq2AnMcAY0U0Iwlj4AsMrTLp-qghg2N1EXS8phIG6UU4UiZraxszLmWdcxVJnmHkkVs7SLU4eWP7Z4n3a_HdklsPOvN0NoUtQwXKCM6gRH_yJUgKsXDPvfHmt5Z6vTJDZAU-eI1u8M3K-B4SRZbE7G8aFc6cSzZ_aK8CtGOg4Li2plKTk9Oq-dr-IanXXVSb0ibDMzxlY_p7Fi5jh-KQh1UzKIy_MCh1LjGCyIAWikl52kRTroLUQ6tV2QZGZYdEgKYoM04PlOu5Dgs78KxuhSScV3s3rBToB6LR0dBQAIRaJfq9ajTGnTqHwozNrvlAa0BBFfbULBb1Yxp-NtdR1IzHJHyUVaJU4_EkNlRma2z4WQ7fFV056LCHUnM1mw_q5TYTnWSlG3xQnAufranUDn9sZu1gowALDWwWi8y2aOl2EaMer1PTyWGy_YY1LQG61ZsqFage2dMX8qmcSKBrrKuKZrXN7PglIxLg-CMnn_Yf7uRCKSJA2A_bEuNMgvg5cFwO-x4scmzrc57UF6-BQZYZZsUDP5o94V-snYc_9FAND2ST3tBn3sDjipVp-XhnRDNvox7LmuZX9P7NBQV9zZ_cn0eW4TDbNzEshjmG5svZwicVtif7L3Dl930Su_GN5gFzPPVrXE75nq1XgcWqB6NSpB-wIhiGzGgJHebZb0aHrm-_WwdCikTvj0cm3K74GEo8nrZmZ1mw-6Kh5KHb3sSjTGy7K_9rVw9mDTo83L4_Rn74TpvmRqISoj2bUvxTlDJxcgVPRJvr1o8Urd0XYtgysWopoV9nUbMP_TrHNvSb-No2UNDoE8QW_2H9ydZUdcL8uwfIMbmC_JI6XYalF9WHSexcNBikCyzp8q56CcNQ_TkUNDAXNhCLohnj0KtaOa7AEQ6jzoa_BRCdtBDAG2zORtSBciK-p9eL6xaiA2g_VsHtL2IL1SWYpMWxu8A2uuMuwog-y1JZU_hNc-kVJirUSLK7ZyE9MQmognOuIr005v04vxPBmHoXkAStkkucZw4AdpTjCIiAU9mDWcHNv2I8yzJ7XEXupYG-yaYrSnofsfdH8hdIt5xh8aaH9uqzQ2PQ4q1ZWzy8ao_-h6-WNhRPJ_rEnDp6bQqyAAPJElubZ11TuA_3dN9az7ZjHVAbJMm9y0MuUQ1DR_CzIllf32VB-5vg-O9pQaUBzJp3ntVTPGrZizG-eJV9f6Jex8OfcvnD9QJPVzH523vF29JcIOWlbhIsRrTa_JG5sSya2l6mBSr_RsocJVwdHfn8HRwnuYHagA9PI2O-jrdudTr2ife82TDeSB1tZQ649PkQJeSMZPEy3b6n6BW0rzZqZv7LFXbYPwibeP0xMjymf9IqIPWZ2wbK_IwgTBZwVaJ8kwpdC7zNPiCame3-qa_aQvwmPKymej3Cm8RM44WObyy5fbDWAfKdWWnO2Oha1GSl5BEzpL9RAfIMF-ROBBsPN7yX1WAhAYFneNZZkTuJ8dyuvbSJLwYkHYhcxzcL-pbfne3g28hc7x3LTzs3gzE1knk7Zt0eTxisqaATmzXNDMrPLaMdY0hjqVfsh_3'\n",
    "Markdown(decrypt(task40, \"\"))"
   ]
  },
  {
   "cell_type": "markdown",
   "metadata": {},
   "source": [
    "**(41) Python task:**"
   ]
  },
  {
   "cell_type": "code",
   "execution_count": null,
   "metadata": {},
   "outputs": [],
   "source": [
    "task41 = 'gAAAAABdclVDzjHLknkEV8TP81cuGwxokV6ftK2yslfUNRwbdWR-OBMvsZkoQWmYnNw4Utten5KOs7_LJklBfr8Cp3AqZHOI8TzdURO2f7fDsFgxpp8TEAB9l0bQUMZB36fW-FzA8mGr81JAFhVL3GZDVm3v4BnmrictxMFu8ANSnPaZp_MM6w7pD75Am7aYcjz82ochKyFIj5hzvD-ik3RaZiaCET0vmrevWbLDB6-mpRmYcBUW6auOOYvc-8rHCLXiFgDMtj6oqp804rTkUcbV_bJgzTqa_KR_ToHoShBTWrhLx45tnOsYjy4s8NQQtaIZQYFzpoKSQR9I6FVcQf8o-FYZfhLd1CxF6t3QjxE2m8sjxTmZ59tWfEWPwHicZLncBDuA459nke-zo8XGF6GTW1QUEQPUGlYiYWWKMw_bH8ApNhBxszRBsUaOso4ZzxbkHVSacdoXilqGi2oW6PAX_1L6J9bs6GlwCe2DimeB8bV32YJnSXq5Q3O6QAjLbfckiIOFU5UQ0qFYrIkStRjxb_vPa-AlGZTtcH-9-8isIDA1VKLf8d_eGmzApyX0tRhLqTm2YVSpaau8YIWRLU3Dtla_NpreKvtk320SNJch_YAywVFMBVF47tJpszzo7UTBqhExvhjem8YtQ_4RFRiWMv9O3ozssotEXhmvy9tdiM30FAUjlY3bXMeRjTq8v37hOb0bq_0GLlY_sFhV2S9KZaOPjsYkmwPQ8CkmwAvPngcrwq5J9QO8V2vSD3zMqOibVNbrzektWvWt_faTyu6axZ4CzUG43VOFSB8c5F7tlq4btjx6DSHkJga0bQ7CR-gHDvMt37YnOKhDU94lAhB_5YUw8XwI_-spyeKEgdZFqAqAnxYZv1e6mt8duy96UiFlU3yAeNwf7r_srn6jk5m2IU1aA0YgRWGbNwpB4IRVPtFLWQZvTRCu1yuFPibJxsaNzSi_6o8aLx-OH6fduO1HbRIXs7eMCXMdt6O-TKpr6FE9x6xLDrwj3wSHA8shWDHc5WaZBzkVyc8Gz-XZ2O4LUZ0S7Fam-CS6E5tNk2SFzr5pivUWb0shC-vnqPd5jjR1ihwego09c26oM-xl5v3rL1jc-U1jLQiJ9QDn-VV_zHdaUdSdZp0K1SE0KSL8vdm5hhlAzDEeadH6nidMFJcWGseDGFVickIHIpOqrQVCOfAPDGHYMMzYVVc6nLBx5NQRvn99sA2looKUy17F9_NLMBSCphYio2Jo8rS-f6IkKfixrZBo17oLJKS2j3I6Bitp57CthkXw0slkmTFu1esl8yemwV_HNzFg4Hf9-GQhLFfswzcKcG7MzZ-bLJV6LS9I2QMjngLLoERGjjOQ4zlIuKHjzWrL612qH9U7gdGjASOW0i5ER8HI-QbV2N0gOZgJpC51HUo_Y3JPHgPQpVq49W_oPNIQ2s6qerGSIFERZ3I1hHmf2XibgmeJx_P_VZGVyUpfJE7KXRzBzpSypqrJT4EkvgZSR-dsxIbUcqB_6im7KWhXdXOjCOQ_8NuwCRMkuOwb9jjc7yB636bz6EBz8hpx9kZmxMhSdNEJvFSTE8Q9hzvqtDtnqVR1Q7yEb_h01aSJKNX8jrLsL7THx7zI5jDzLORhFq_YOZl0n_amGX_rZhsPQBPaCcFmfRmQpnZKkngjVt1cield99RVTGpE2s63mIll3CGd7UnO9wr-yoL0ho0cjHX9QDssmC8f7DQhG7coM9JyT12hfMoYDOykF_wMy1WBGJY36YWLHCbJPLM-qtKwsbeXqEo3EFWLRYebdWAqKlyxnwf7b6DIserOQ-tdCSz6I1Ufz4-gpZPqHtSg8VBBonAvISg9T_OqhBTZWE8kDbrEpRlQgCJx1nhPma1Rwz_i_B7i6lcVLIxMlE8X5B65UHR1eg24LOAMHSehq4QsUBSU77VmM2VaHAUSR-leKPdAVY9V29Vl8oti1pkO8-HHMY72nW_YqfJ1KQd1lwpdzMgxGWjgCAufv1Ft-NL6kccCiLbX1nQ43guBs-9lsgfDEobP5AWSavYUNazMm6Vfu1u-0XQ5WOp6S-WmtJ2xn9C4KkDM-YLWlNnQZP4gtz6Z_F_ShosvURbzTOc1hWXeMWnAyTkf39emFQJRVQVzTTrwjCoTD-N-0vouPugCyDyid-0auuqQ4FgTVAHoJilv2bjaZPOJZXEjlEVa1kDJX8QWo-6vh3nFdQ3f_BzPmyCRvvg6GRL5Ad76Oh7xHMHatHjVf9v4W66r8Cqc5VOffmC9rdUNX7G5p46I-Z5QM8MgKsrcnPNchCqc8YaYT-1OOPCmd2vmuIy6lNMTjRJTH_ZABSBlxB8-Ks4uPLEKTqKU5j4rPLZo6FTQeCtkAmVid8530O2u7CxOLGcuX6obY3smzx6z4HLp0G8zZz4fAJRhBk3mCw0QTAEvPRRh18OnAAZ3qB4G4jK4wgYTBTbmV_pCqefzls3hpbyMbcw8tUAFstvv4GJdLIhBJ4udqiRaIBgvqa3NpxIoQ1ZrRE0sAG78c3y8xcMJIr7fmXQxuQFAT8u6t6iMaAlnX8waYpSyNYo4QJ3J9uYAB1bhJ9Kokw6Tm3FECv1b1xiojjlnoO5PzNfffalrJd8ZQP4VRQ1CgmtwA4MsRFdkMWECM90GZVOyqh6RcCzH1SYXV6OJm53gnYxSjvDdgn45C7lGT_2BIEvuQfD-XdV9Ji_ZLRgTXNDecgg7CfQgePaP6-BQI-jNqwSl7va8AbBORv9smEQbZ61_nEy96DeTxb5oEW2G7kjmpNGc959e5PtarJSj19oEosfyBxsLrk5UeV6uDPN5sESSEn_CL0Ch8KlGT1PgJ9wLfQToRWsbGH7VbqnNWJGeNj2GnLkUBLhJe15c6ozNA4YnWXtWxaeXrYV2F1Wt6i2vLbLVU2Cbom7XynS_TEOJ-KrKOHXgy3hImB_Tr10Kv1ipX4FrkpkQZbW4JRFp98pQWmCXWSg4APR7Ufm7O2lxsGK5Pb9_LXfU_Ykg665FcpFyGKEfhSbs4lKFzjDjkzEvscBHWt1r4o7eCbHf4IaXR5wwGq6o4qfM-0Uo1LqWCV1cRGq-umIIaVgMBgfyDbBr1Wj--KJolRmCnGKSVmIZp00-oH7hFUFzHGtNE0Wg99SNeDBEXRncmc1H9RpgUhDTMniO69vZ12GJKoyHqee7YwFtmrhzXmvKxftWZiHj5DvOD1u0c0aj8JmHjq9j33h_Zt5bjmUuXuu_Ryl57MOyXCTfA4i7IZS-fr1GhwMRTeMd_1I6cuxcrEu-9Yzm4loL2-QcRRtSjOOi4OQl-dYoHZJo1-P8LRh3wvGYc5uYKuvcsS7mGB2Oo7SaxXI4bdPahGCoFc2x_G_ykP9NjRXtlv9KsvGZmsLsoYlW0A9AS6DxCXnC3SiFpnd0zyISMGvcUHbj6SMjlnd63nwwr85zZ3L3qA7kPut75vgyrWy9NR2nVCURNw0MzOjQmsTSFMOXtiMm998vycECo3IGjbaXDrxcNQafGRAa3MjeUL7iMIGih_1hhg43g3OlRdXOkyEQ9xyoJHdFnn5RW4KuW-yWftHIkf4SD-_T1dkkS0Htm44fQO0XeDkurvbsvaJMjiUd2sfSEkEXV6tAftgdnrxtw1LUiHuEs1RfUaEgLYE_HGoW_8bwrroTZhmFcsjA5r6sL_z6saYlMwOFLOWyBg5GSHSv-MSvDCA0rk0HO2fnME1DSHqwhTh3YxcGT-gjDNaDps5NxNkBv61i9NgKmJSuhx3XHT44_HhW6wF1_nHTC5hnGua6ZRpDeiTmzYvb5qgommQIyUAKCcW8OxXIej2NSSkl-CNjw0eMhUZelrq8mDY1C2ZcVK5Tl6O3FNLGOz5IVg4JgReLgGfpY7O2mQRga7PaVt6ncNXi8CIn6cWjUhaD8YXPjnXesNWucJGY0RzgV7jKYe6BsbWwsGVQXS_CCME0s-iCy7fOgc7IbD0reL1EWUK5gqoduDOqaXP5PHvbn0WLMSm4H0LXcs4K9CTzT1JM21PGBwJGkbr1K1Pf2V6EUqbIW9fpjm_Xh61BuAErpGG4qKCc8lpK_UbXT3dzBVjXGpFplHGB8npGLCxzVIfgDypbCwJ3JshkSJT872Aj6Tq0to0kbVNV34KlnXWFqU77iCOxBNeF_rIDgi7gwxNwM6sLuia8DmQ_vSzIBhRf3WFTq6RpGri0gDpwgKnp-Kc99j20ClSQcL95vSGZ98a2wwoBUvsPtZ0Kyhwd-xLXzznfPgqbhhEiJ-9LL2Xx2_4FHuZf8y0jMExHk0deu9hkPRpNUpoetnWK_I_tihxp6bgJ_Tkzz5lE0gVX82MsvapOQf4qXV4sWlou7AAjjNJZGtRuMk4Nm9gOdTwu6vj-6fDHHlPfD9d92CZYvXIcHHSO3LwmAuv-QQD29YzpaEAD-nPy7BDRqpVPt77ZGWacV4Yq0Zx5FKZmMlAGhn-kqycb5CTxOh81oDPU0sT-cJufywbAOKuvi0XCXLxpkLwSgujn4mrKOuBDU6MuY9rvn6cXVJRSkvdPEDqV4oIMKHxtfgy-EpuZftAgawSmCAjXZcm6aHkiCuDcaxii5o6_aqXn1GfQ8zjHVkvtsXNpH1T5HpFMetCtNnzjuLH9sUfXQgxWsA7nzK4L6XoXtYsY009hen-bNOrlpiasXl7h0j8D7egicHTu7WTzmaZwz-P23W8xAweiDM25zrEnRAvw-Bqpv04YvqhhTOZ31-tsuPZan2WlR2BlFEl56rqF31qfBoVlzJ3hjAJDjTqpD1eCZmIOjwUqtkybYVUXN8SjeRKLxlW_p61JUqzdZPnjs_GlNA=='\n",
    "Markdown(decrypt(task41, \"\"))"
   ]
  },
  {
   "cell_type": "code",
   "execution_count": null,
   "metadata": {},
   "outputs": [],
   "source": []
  }
 ],
 "metadata": {
  "kernelspec": {
   "display_name": "Python 3",
   "language": "python",
   "name": "python3"
  },
  "language_info": {
   "codemirror_mode": {
    "name": "ipython",
    "version": 3
   },
   "file_extension": ".py",
   "mimetype": "text/x-python",
   "name": "python",
   "nbconvert_exporter": "python",
   "pygments_lexer": "ipython3",
   "version": "3.7.1"
  }
 },
 "nbformat": 4,
 "nbformat_minor": 4
}
